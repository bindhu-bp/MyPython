{
 "cells": [
  {
   "cell_type": "code",
   "execution_count": 18,
   "id": "e85831f6-f626-4ba1-b2e1-ead98ac6469f",
   "metadata": {},
   "outputs": [],
   "source": [
    "class Metro():\n",
    "    def __init__(self):\n",
    "        print(\"This allow to create instance\")\n",
    "    def travel(self,speed):\n",
    "        self.speed = speed\n",
    "        print(\"Train Travels in speed of : \",speed)\n",
    "        \n",
    "    "
   ]
  },
  {
   "cell_type": "code",
   "execution_count": 19,
   "id": "d5c77892-eb2d-47ee-adba-4543684844ed",
   "metadata": {},
   "outputs": [
    {
     "name": "stdout",
     "output_type": "stream",
     "text": [
      "This allow to create instance\n",
      "Train Travels in speed of :  345\n"
     ]
    }
   ],
   "source": [
    "metro = Metro()\n",
    "metro.travel(345)"
   ]
  },
  {
   "cell_type": "code",
   "execution_count": 30,
   "id": "d6ac49cc-f060-4a8c-ab2c-d8287f649f91",
   "metadata": {},
   "outputs": [],
   "source": [
    "# PolyMOrphism \n",
    "class SuperClass():\n",
    "    def __init__(self):\n",
    "        print(\"This allow us to create instance\")\n",
    "    def method_override(self):\n",
    "        print(\"Method in Super Class\")\n",
    "\n",
    "class SubClass(SuperClass):  #INHERITANCE\n",
    "    def __init__(self):\n",
    "        print(\"This is like a constructor\")\n",
    "    def method_override(self):\n",
    "        print(\"Method in Sub Class\")"
   ]
  },
  {
   "cell_type": "code",
   "execution_count": 31,
   "id": "e9c9334d-e2c8-475f-a2da-c600572b04d6",
   "metadata": {},
   "outputs": [
    {
     "name": "stdout",
     "output_type": "stream",
     "text": [
      "This allow us to create instance\n",
      "This is like a constructor\n"
     ]
    }
   ],
   "source": [
    "superClass = SuperClass()\n",
    "subClass = SubClass()"
   ]
  },
  {
   "cell_type": "code",
   "execution_count": 32,
   "id": "b250cf00-0436-46d5-95cf-629ad45abf84",
   "metadata": {},
   "outputs": [
    {
     "name": "stdout",
     "output_type": "stream",
     "text": [
      "Method in Super Class\n"
     ]
    }
   ],
   "source": [
    "superClass.method_override()"
   ]
  },
  {
   "cell_type": "code",
   "execution_count": 33,
   "id": "4fecca7f-5b60-4387-84e2-6191515d74aa",
   "metadata": {},
   "outputs": [
    {
     "name": "stdout",
     "output_type": "stream",
     "text": [
      "Method in Sub Class\n"
     ]
    }
   ],
   "source": [
    "subClass.method_override()"
   ]
  },
  {
   "cell_type": "code",
   "execution_count": null,
   "id": "2bd48f67-8bf2-4769-b3bc-32599ab4652a",
   "metadata": {},
   "outputs": [],
   "source": [
    "\n"
   ]
  }
 ],
 "metadata": {
  "kernelspec": {
   "display_name": "Python 3 (ipykernel)",
   "language": "python",
   "name": "python3"
  },
  "language_info": {
   "codemirror_mode": {
    "name": "ipython",
    "version": 3
   },
   "file_extension": ".py",
   "mimetype": "text/x-python",
   "name": "python",
   "nbconvert_exporter": "python",
   "pygments_lexer": "ipython3",
   "version": "3.11.7"
  }
 },
 "nbformat": 4,
 "nbformat_minor": 5
}
