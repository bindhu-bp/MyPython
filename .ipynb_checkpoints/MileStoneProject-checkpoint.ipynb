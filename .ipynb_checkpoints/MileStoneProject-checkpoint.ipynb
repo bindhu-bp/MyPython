{
 "cells": [
  {
   "cell_type": "code",
   "execution_count": 1,
   "id": "266c7207-f211-4d0d-8989-04117af69ae1",
   "metadata": {},
   "outputs": [],
   "source": [
    "def display(row1,row2,row3):\n",
    "    print(row1)\n",
    "    print(row2)\n",
    "    print(row3)"
   ]
  },
  {
   "cell_type": "code",
   "execution_count": 11,
   "id": "e8e32835-9893-46eb-b0e4-02ab445f6089",
   "metadata": {},
   "outputs": [],
   "source": [
    "row1 = [' ',' ',' ']\n",
    "row2 = [' ',' ',' ']\n",
    "row3 = [' ',' ',' ']"
   ]
  },
  {
   "cell_type": "code",
   "execution_count": 12,
   "id": "08246ff6-63e4-451c-8840-199d5d663406",
   "metadata": {},
   "outputs": [
    {
     "name": "stdout",
     "output_type": "stream",
     "text": [
      "[' ', ' ', ' ']\n",
      "[' ', ' ', ' ']\n",
      "[' ', ' ', ' ']\n"
     ]
    }
   ],
   "source": [
    "display(row1,row2,row3)"
   ]
  },
  {
   "cell_type": "code",
   "execution_count": 13,
   "id": "dc095b9f-976e-4a3a-bc1b-178fda37890b",
   "metadata": {},
   "outputs": [],
   "source": [
    "row1[0] = 'X'"
   ]
  },
  {
   "cell_type": "code",
   "execution_count": 14,
   "id": "df001079-6212-44c0-87c2-cdcd76be5523",
   "metadata": {},
   "outputs": [
    {
     "name": "stdout",
     "output_type": "stream",
     "text": [
      "['X', ' ', ' ']\n",
      "[' ', ' ', ' ']\n",
      "[' ', ' ', ' ']\n"
     ]
    }
   ],
   "source": [
    "display(row1,row2,row3)"
   ]
  },
  {
   "cell_type": "code",
   "execution_count": 30,
   "id": "1b79c871-8a16-45eb-824c-dfeaf700374a",
   "metadata": {},
   "outputs": [
    {
     "name": "stdin",
     "output_type": "stream",
     "text": [
      "Choose an index position :  1\n"
     ]
    }
   ],
   "source": [
    "index_position = int(input(\"Choose an index position : \"))"
   ]
  },
  {
   "cell_type": "code",
   "execution_count": 37,
   "id": "7f0692b8-817e-4ca3-8b04-fed5b973bf4a",
   "metadata": {},
   "outputs": [
    {
     "data": {
      "text/plain": [
       "' '"
      ]
     },
     "execution_count": 37,
     "metadata": {},
     "output_type": "execute_result"
    }
   ],
   "source": [
    "row2[index_position]"
   ]
  },
  {
   "cell_type": "code",
   "execution_count": 38,
   "id": "b8b58c94-c4da-4445-a2cf-d40abb837c4a",
   "metadata": {},
   "outputs": [
    {
     "name": "stdout",
     "output_type": "stream",
     "text": [
      "['X', ' ', ' ']\n",
      "[' ', ' ', ' ']\n",
      "[' ', ' ', ' ']\n"
     ]
    }
   ],
   "source": [
    "display(row1,row2,row3)"
   ]
  },
  {
   "cell_type": "code",
   "execution_count": 50,
   "id": "513135fc-0ef2-459c-9e5d-6b35ad5260c9",
   "metadata": {},
   "outputs": [],
   "source": [
    "def user_choice():\n",
    "\n",
    "    #VAriable\n",
    "\n",
    "    #INitial\n",
    "    choice = 'WRONG' \n",
    "    acceptable_range = range(0,10)\n",
    "    within_range = False\n",
    "\n",
    "    #TWO Condition to  check\n",
    "    # Digit or within _range==False\n",
    "    while choice.isdigit() == False or within_range == False:\n",
    "    \n",
    "        choice = input(\"PLease enter number in between (0-10) : \")\n",
    "\n",
    "        # DIGIT CHECK\n",
    "        if choice.isdigit() == False:\n",
    "            print(\"Sorry! thid is not a number\")\n",
    "\n",
    "        #RANGE CHECK\n",
    "        if choice.isdigit() == True:\n",
    "            if int(choice) in acceptable_range:\n",
    "                within_range = True\n",
    "            else:\n",
    "                print(\"Hey Sorry! you are out of acceptable range\")\n",
    "                within_range = False\n",
    "    return int(choice)\n",
    "    "
   ]
  },
  {
   "cell_type": "code",
   "execution_count": 51,
   "id": "a45f37b2-7713-43c6-a7a2-44de3ba02e2f",
   "metadata": {},
   "outputs": [
    {
     "name": "stdin",
     "output_type": "stream",
     "text": [
      "PLease enter number in between (0-10) :  Two\n"
     ]
    },
    {
     "name": "stdout",
     "output_type": "stream",
     "text": [
      "Sorry! thid is not a number\n"
     ]
    },
    {
     "name": "stdin",
     "output_type": "stream",
     "text": [
      "PLease enter number in between (0-10) :  100\n"
     ]
    },
    {
     "name": "stdout",
     "output_type": "stream",
     "text": [
      "Hey Sorry! you are out of acceptable range\n"
     ]
    },
    {
     "name": "stdin",
     "output_type": "stream",
     "text": [
      "PLease enter number in between (0-10) :  2\n"
     ]
    },
    {
     "data": {
      "text/plain": [
       "2"
      ]
     },
     "execution_count": 51,
     "metadata": {},
     "output_type": "execute_result"
    }
   ],
   "source": [
    "user_choice()"
   ]
  },
  {
   "cell_type": "code",
   "execution_count": 42,
   "id": "9dc268c1-ecfd-47c7-9e05-1f7b487bdf20",
   "metadata": {},
   "outputs": [
    {
     "data": {
      "text/plain": [
       "True"
      ]
     },
     "execution_count": 42,
     "metadata": {},
     "output_type": "execute_result"
    }
   ],
   "source": [
    "val = '10'\n",
    "\n",
    "val.isdigit()\n"
   ]
  },
  {
   "cell_type": "code",
   "execution_count": 43,
   "id": "808c3148-9bf3-408a-8980-305324ba2050",
   "metadata": {},
   "outputs": [
    {
     "data": {
      "text/plain": [
       "10"
      ]
     },
     "execution_count": 43,
     "metadata": {},
     "output_type": "execute_result"
    }
   ],
   "source": [
    "int(val)"
   ]
  },
  {
   "cell_type": "code",
   "execution_count": null,
   "id": "2047bd00-c52f-4fe6-9ac5-2849f2dd5c9a",
   "metadata": {},
   "outputs": [],
   "source": []
  },
  {
   "cell_type": "code",
   "execution_count": null,
   "id": "bf4ee041-ce5c-4d27-914f-ba9107bf3da4",
   "metadata": {},
   "outputs": [],
   "source": []
  },
  {
   "cell_type": "code",
   "execution_count": 56,
   "id": "c9a04cad-297a-4bfc-9c6b-4867d6f21ed0",
   "metadata": {},
   "outputs": [],
   "source": [
    "game_list = [0,1,2]\n",
    "\n",
    "def display_game(game_list):\n",
    "    print(\"Here is the current list\")\n",
    "    \n",
    "    print(game_list)\n"
   ]
  },
  {
   "cell_type": "code",
   "execution_count": 57,
   "id": "009cf768-0915-4935-9770-906095f46a2c",
   "metadata": {},
   "outputs": [
    {
     "name": "stdout",
     "output_type": "stream",
     "text": [
      "Here is the current list\n",
      "[0, 1, 2]\n"
     ]
    }
   ],
   "source": [
    "display_game(game_list)"
   ]
  },
  {
   "cell_type": "code",
   "execution_count": 60,
   "id": "8447eaa9-ddcc-43f3-9ed2-ba88a32b812e",
   "metadata": {},
   "outputs": [],
   "source": [
    "def position_choice():\n",
    "    choice = 'WRONG'\n",
    "\n",
    "    while choice not in ['0','1','2']:\n",
    "        choice = input(\"Pick a position from (0,1,2)\")\n",
    "\n",
    "        if choice not in ['0','1','2']:\n",
    "            print(\"Hey Sorry, invalid choice\")\n",
    "\n",
    "    return int(choice)"
   ]
  },
  {
   "cell_type": "code",
   "execution_count": 62,
   "id": "0959f2c7-7057-4a86-a229-6a0ee4a9036b",
   "metadata": {},
   "outputs": [
    {
     "name": "stdin",
     "output_type": "stream",
     "text": [
      "Pick a position from (0,1,2) 2\n"
     ]
    },
    {
     "data": {
      "text/plain": [
       "2"
      ]
     },
     "execution_count": 62,
     "metadata": {},
     "output_type": "execute_result"
    }
   ],
   "source": [
    "position_choice()"
   ]
  },
  {
   "cell_type": "code",
   "execution_count": 63,
   "id": "7037458c-cc22-4c17-a075-bf32eac86ecc",
   "metadata": {},
   "outputs": [],
   "source": [
    "def replacement_value(game_list,position):\n",
    "    user_placement = input(\"Type a String You Want to Replace at position : \")\n",
    "    game_list[position] = user_placement\n",
    "    return game_list\n",
    "    "
   ]
  },
  {
   "cell_type": "code",
   "execution_count": 65,
   "id": "570d501e-0e19-40f6-94b9-2cd6ba3c9a2b",
   "metadata": {},
   "outputs": [
    {
     "name": "stdin",
     "output_type": "stream",
     "text": [
      "Type a String You Want to Replace at position :  Hey\n"
     ]
    },
    {
     "data": {
      "text/plain": [
       "[0, 'Hey', 2]"
      ]
     },
     "execution_count": 65,
     "metadata": {},
     "output_type": "execute_result"
    }
   ],
   "source": [
    "replacement_value(game_list,1)"
   ]
  },
  {
   "cell_type": "code",
   "execution_count": 67,
   "id": "f51ea138-e19a-4fe4-a7ca-3245cad18add",
   "metadata": {},
   "outputs": [],
   "source": [
    "def gameon_choice():\n",
    "    choice = 'WRONG'\n",
    "\n",
    "    while choice not in ['Y','N']:\n",
    "        choice = input(\"Keep Playing? (Y/N)\")\n",
    "\n",
    "        if choice not in ['Y','N']:\n",
    "            print(\"Hey Sorry, I dont understand please choose Y or N\")\n",
    "\n",
    "    if choice == \"Y\":\n",
    "        return True\n",
    "    else:\n",
    "        return False"
   ]
  },
  {
   "cell_type": "code",
   "execution_count": 68,
   "id": "d6a76aa4-4e0b-489c-a08e-2399bf9bb65d",
   "metadata": {},
   "outputs": [
    {
     "name": "stdin",
     "output_type": "stream",
     "text": [
      "Keep Playing? (Y/N) Y\n"
     ]
    },
    {
     "data": {
      "text/plain": [
       "True"
      ]
     },
     "execution_count": 68,
     "metadata": {},
     "output_type": "execute_result"
    }
   ],
   "source": [
    "gameon_choice()"
   ]
  },
  {
   "cell_type": "code",
   "execution_count": 70,
   "id": "a9ff9356-21c9-4108-9895-45991bd3957c",
   "metadata": {},
   "outputs": [
    {
     "name": "stdout",
     "output_type": "stream",
     "text": [
      "Here is the current list\n",
      "['0', '1', '2']\n"
     ]
    },
    {
     "name": "stdin",
     "output_type": "stream",
     "text": [
      "Pick a position from (0,1,2) two\n"
     ]
    },
    {
     "name": "stdout",
     "output_type": "stream",
     "text": [
      "Hey Sorry, invalid choice\n"
     ]
    },
    {
     "name": "stdin",
     "output_type": "stream",
     "text": [
      "Pick a position from (0,1,2) 1\n",
      "Type a String You Want to Replace at position :  Hey\n"
     ]
    },
    {
     "name": "stdout",
     "output_type": "stream",
     "text": [
      "Here is the current list\n",
      "['0', 'Hey', '2']\n"
     ]
    },
    {
     "name": "stdin",
     "output_type": "stream",
     "text": [
      "Keep Playing? (Y/N) y\n"
     ]
    },
    {
     "name": "stdout",
     "output_type": "stream",
     "text": [
      "Hey Sorry, I dont understand please choose Y or N\n"
     ]
    },
    {
     "name": "stdin",
     "output_type": "stream",
     "text": [
      "Keep Playing? (Y/N) Y\n"
     ]
    },
    {
     "name": "stdout",
     "output_type": "stream",
     "text": [
      "Here is the current list\n",
      "['0', 'Hey', '2']\n"
     ]
    },
    {
     "name": "stdin",
     "output_type": "stream",
     "text": [
      "Pick a position from (0,1,2) 0\n",
      "Type a String You Want to Replace at position :  GM\n"
     ]
    },
    {
     "name": "stdout",
     "output_type": "stream",
     "text": [
      "Here is the current list\n",
      "['GM', 'Hey', '2']\n"
     ]
    },
    {
     "name": "stdin",
     "output_type": "stream",
     "text": [
      "Keep Playing? (Y/N) N\n"
     ]
    }
   ],
   "source": [
    "game_on = True\n",
    "game_list = ['0','1','2']\n",
    "\n",
    "while game_on:\n",
    "\n",
    "    display_game(game_list)\n",
    "    position = position_choice()\n",
    "    game_list = replacement_value(game_list,position)\n",
    "    display_game(game_list)\n",
    "\n",
    "    game_on = gameon_choice()"
   ]
  },
  {
   "cell_type": "markdown",
   "id": "ec25010e-f101-4432-9bad-7fe8e9301de5",
   "metadata": {},
   "source": [
    "# TIC_TAC_TOE"
   ]
  },
  {
   "cell_type": "code",
   "execution_count": 111,
   "id": "858a6a63-2afb-4c08-9d7a-ce7fc89147d8",
   "metadata": {},
   "outputs": [],
   "source": [
    "from IPython.display import clear_output\n",
    "\n",
    "def display_board(board):\n",
    "    clear_output() # When we call the same fun twice first it will clear the op then call the other\n",
    "    print(board[1]+' |'+board[2]+' |'+board[3])\n",
    "    print(\"--|--|--\")    \n",
    "    print(board[4]+' |'+board[5]+' |'+board[6])\n",
    "    print(\"--|--|--\")\n",
    "    print(board[7]+' |'+board[8]+' |'+board[9])"
   ]
  },
  {
   "cell_type": "code",
   "execution_count": 112,
   "id": "7b90a496-ca9e-4823-a54d-0ad931cd90e9",
   "metadata": {},
   "outputs": [
    {
     "name": "stdout",
     "output_type": "stream",
     "text": [
      "X |O |X\n",
      "--|--|--\n",
      "O |X |O\n",
      "--|--|--\n",
      "X |O |X\n"
     ]
    }
   ],
   "source": [
    "test_board = ['#','X','O','X','O','X','O','X','O','X']\n",
    "\n",
    "display_board(test_board)\n",
    "\n",
    "display_board(test_board)"
   ]
  },
  {
   "cell_type": "code",
   "execution_count": 113,
   "id": "41ead545-403c-441f-a4d7-2654dcdc132b",
   "metadata": {},
   "outputs": [],
   "source": [
    "# get a userinput\n",
    "def player_input():\n",
    "    marker= '' \n",
    "    # KEEP ASKING PLAYER 1 to choose X or O\n",
    "\n",
    "    while not (marker == 'X' or marker == 'O'):\n",
    "        marker = input('player 1, choose X or O : ')\n",
    "\n",
    "    #Assign player 2 , the oppsosite marker\n",
    "    player1 = marker\n",
    "\n",
    "    if player1 == 'X':\n",
    "        player2 = 'O'\n",
    "    else:\n",
    "        player2 = 'X'\n",
    "\n",
    "    return (player1,player2)"
   ]
  },
  {
   "cell_type": "code",
   "execution_count": 114,
   "id": "ca7d89c7-5593-4df2-9adf-2edca836cf08",
   "metadata": {},
   "outputs": [
    {
     "name": "stdin",
     "output_type": "stream",
     "text": [
      "player 1, choose X or O :  X\n"
     ]
    }
   ],
   "source": [
    "player1_marker, player2_marker = player_input()"
   ]
  },
  {
   "cell_type": "code",
   "execution_count": 115,
   "id": "cb14f846-6d26-44a1-80ed-1f757277cd7b",
   "metadata": {},
   "outputs": [
    {
     "data": {
      "text/plain": [
       "'O'"
      ]
     },
     "execution_count": 115,
     "metadata": {},
     "output_type": "execute_result"
    }
   ],
   "source": [
    "player2_marker"
   ]
  },
  {
   "cell_type": "code",
   "execution_count": 118,
   "id": "f02a3626-6225-48a9-8a81-e6fc903723d5",
   "metadata": {},
   "outputs": [],
   "source": [
    "def place_marker(board,marker,position):\n",
    "    board[position] = marker"
   ]
  },
  {
   "cell_type": "code",
   "execution_count": 119,
   "id": "f2ee70e3-6189-4f60-85a6-c23d22b872e0",
   "metadata": {},
   "outputs": [],
   "source": [
    "place_marker(test_board,'&',8)"
   ]
  },
  {
   "cell_type": "code",
   "execution_count": 121,
   "id": "c4de4b91-9ce3-40dc-b99a-0de95ce5d569",
   "metadata": {},
   "outputs": [
    {
     "name": "stdout",
     "output_type": "stream",
     "text": [
      "X |O |X\n",
      "--|--|--\n",
      "O |X |O\n",
      "--|--|--\n",
      "X |& |X\n"
     ]
    }
   ],
   "source": [
    "display_board(test_board)"
   ]
  },
  {
   "cell_type": "code",
   "execution_count": 124,
   "id": "2d1285a6-58e8-4a9c-8e69-5acb1b566a9e",
   "metadata": {},
   "outputs": [],
   "source": [
    "def win_check(board,mark):\n",
    "    #WIN?\n",
    "\n",
    "    #all ROWS and check to see if they all share the same marker?\n",
    "    #All Col and check if all all marker same\n",
    "    # and check for 2 diogonals\n",
    "\n",
    "    #ROW CHECK\n",
    "    return ((board[1] == mark and board[2] == mark and board[3] == mark) or \n",
    "    (board[4] == board[5] ==  board[6] == mark) or\n",
    "    (board[7] ==  board[8] == board[9] == mark) or\n",
    "\n",
    "    #Column Check\n",
    "    (board[1] == board[4] == board[7] == mark) or\n",
    "    (board[2] == board[5] == board[8] == mark) or\n",
    "    (board[3] == board[6] == board[9] == mark) or\n",
    "\n",
    "    #Dioonal Check\n",
    "    (board[1] ==  board[5] == board[9] == mark) or\n",
    "    (board[3] ==  board[5] == board[7] == mark)) \n",
    "    \n",
    "    \n",
    "    "
   ]
  },
  {
   "cell_type": "code",
   "execution_count": 125,
   "id": "929cbf3d-df33-44bc-9972-dc39c410403f",
   "metadata": {},
   "outputs": [
    {
     "name": "stdout",
     "output_type": "stream",
     "text": [
      "X |O |X\n",
      "--|--|--\n",
      "O |X |O\n",
      "--|--|--\n",
      "X |& |X\n"
     ]
    },
    {
     "data": {
      "text/plain": [
       "True"
      ]
     },
     "execution_count": 125,
     "metadata": {},
     "output_type": "execute_result"
    }
   ],
   "source": [
    "display_board(test_board)\n",
    "win_check(test_board,'X')"
   ]
  },
  {
   "cell_type": "code",
   "execution_count": 126,
   "id": "538f5793-d8a7-40f3-8d12-365a889840ea",
   "metadata": {},
   "outputs": [],
   "source": [
    "import random\n",
    "def choose_first():\n",
    "    flip = random.randint(0,1)\n",
    "    if flip == 0:\n",
    "        return 'player 1'\n",
    "    else:\n",
    "        return 'player 2'"
   ]
  },
  {
   "cell_type": "code",
   "execution_count": 127,
   "id": "e1d75ac1-bce6-4a0a-8f85-5ebdb35186e7",
   "metadata": {},
   "outputs": [],
   "source": [
    "def space_check(board,position):\n",
    "    return board[position] == ' '\n",
    "    "
   ]
  },
  {
   "cell_type": "code",
   "execution_count": 129,
   "id": "4cade537-d8d1-4948-ada5-9efdbbc9d9d7",
   "metadata": {},
   "outputs": [],
   "source": [
    "def full_board_check(board):\n",
    "    for i in range(1,10):\n",
    "        if space_check(board,i):\n",
    "             return False\n",
    "    #BOARD IS FULL\n",
    "    return False"
   ]
  },
  {
   "cell_type": "code",
   "execution_count": 133,
   "id": "309ccc4c-8892-4f2c-b9a8-da37aa84f655",
   "metadata": {},
   "outputs": [],
   "source": [
    "def player_choice(board):\n",
    "    position = 0\n",
    "    while position not in [1,2,3,4,5,6,7,8,9] or not space_check(board,position):\n",
    "        position = int(input('Choose a position : (1-9)'))\n",
    "    return position"
   ]
  },
  {
   "cell_type": "code",
   "execution_count": 134,
   "id": "b8cc8a94-0abb-4364-97e8-959d8c24e442",
   "metadata": {},
   "outputs": [],
   "source": [
    "def replay():\n",
    "    choice = input(\"PLay Again? Y or N\")\n",
    "    return choice == \"Y\"\n",
    "    "
   ]
  },
  {
   "cell_type": "code",
   "execution_count": null,
   "id": "4d89ad6b-5fa8-4be7-820d-369065ec4c93",
   "metadata": {},
   "outputs": [
    {
     "name": "stdout",
     "output_type": "stream",
     "text": [
      "O |X | \n",
      "--|--|--\n",
      "  |X |O\n",
      "--|--|--\n",
      "  |X | \n",
      "PLAYER 1 HAS WON!!\n"
     ]
    }
   ],
   "source": [
    "# WHile loop to keep run the game \n",
    "print(\"Welcome to Tic Tac Toe\")\n",
    "\n",
    "while True:\n",
    "    # PLay Game\n",
    "\n",
    "    #SET UP Board, Whos First, Choose marker\n",
    "    board = [' ']*10\n",
    "    player1_marker,player2_marker = player_input()\n",
    "\n",
    "    turn = choose_first()\n",
    "    print(turn + ' will go first')\n",
    "\n",
    "    play_game = input('Ready to play? Y or N ')\n",
    "\n",
    "    if play_game == 'Y':\n",
    "        game_on = True\n",
    "    else:\n",
    "        game_on = False\n",
    "\n",
    "    #Game PLay\n",
    "\n",
    "    while game_on:\n",
    "        if turn == 'player 1':\n",
    "            # Show board\n",
    "            display_board(board)\n",
    "            \n",
    "            #Choose position\n",
    "            position = player_choice(board)\n",
    "            \n",
    "            #place marker\n",
    "            place_marker(board,player1_marker,position)\n",
    "            \n",
    "            #check if they own\n",
    "            if win_check(board,player1_marker):\n",
    "                display_board(board)\n",
    "                print(\"PLAYER 1 HAS WON!!\")\n",
    "                game_on = False\n",
    "            else:\n",
    "                if full_board_check(board):\n",
    "                    display_board(board)\n",
    "                    print(\"TIE GAME\")\n",
    "                    game_on = False\n",
    "                    break\n",
    "                else:\n",
    "                    turn = 'player 2'\n",
    "        else:\n",
    "            display_board(board)\n",
    "            \n",
    "            #Choose position\n",
    "            position = player_choice(board)\n",
    "            \n",
    "            #place marker\n",
    "            place_marker(board,player2_marker,position)\n",
    "            \n",
    "            #check if they own\n",
    "            if win_check(board,player2_marker):\n",
    "                display_board(board)\n",
    "                print(\"PLAYER 2 HAS WON!!\")\n",
    "                game_on = False\n",
    "            else:\n",
    "                if full_board_check(board):\n",
    "                    display_board(board)\n",
    "                    print(\"TIE GAME\")\n",
    "                    game_on = False\n",
    "                    break\n",
    "                else:\n",
    "                    turn = 'player 1'\n",
    "            # NO tie and NO win? Next player's turn\n",
    "\n",
    "    #PLayer 1 Turn\n",
    "\n",
    "    #Player 2 Turn\n",
    "\n",
    "    if not replay():\n",
    "        break\n",
    "# Break out of the while loop on replay()"
   ]
  },
  {
   "cell_type": "code",
   "execution_count": null,
   "id": "68f06a0f-50bf-4e3c-929e-f86b0823314c",
   "metadata": {},
   "outputs": [],
   "source": []
  }
 ],
 "metadata": {
  "kernelspec": {
   "display_name": "Python 3 (ipykernel)",
   "language": "python",
   "name": "python3"
  },
  "language_info": {
   "codemirror_mode": {
    "name": "ipython",
    "version": 3
   },
   "file_extension": ".py",
   "mimetype": "text/x-python",
   "name": "python",
   "nbconvert_exporter": "python",
   "pygments_lexer": "ipython3",
   "version": "3.11.7"
  }
 },
 "nbformat": 4,
 "nbformat_minor": 5
}
