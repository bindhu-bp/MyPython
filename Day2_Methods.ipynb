{
 "cells": [
  {
   "cell_type": "code",
   "execution_count": 3,
   "id": "f115e84b-ca93-43bd-a989-cbd8f9607dae",
   "metadata": {},
   "outputs": [
    {
     "data": {
      "text/plain": [
       "22"
      ]
     },
     "execution_count": 3,
     "metadata": {},
     "output_type": "execute_result"
    }
   ],
   "source": [
    "def addTwoNum(n1,n2):\n",
    "    return n1+n2\n",
    "\n",
    "n1=10\n",
    "n2=12\n",
    "\n",
    "addTwoNum(n1,n2)"
   ]
  },
  {
   "cell_type": "code",
   "execution_count": 5,
   "id": "c3f76be3-a922-4827-af37-735126492030",
   "metadata": {},
   "outputs": [
    {
     "name": "stdout",
     "output_type": "stream",
     "text": [
      "Hello\n"
     ]
    }
   ],
   "source": [
    "def say_hello():\n",
    "    print(\"Hello\")\n",
    "say_hello()"
   ]
  },
  {
   "cell_type": "code",
   "execution_count": 10,
   "id": "95c19865-4652-4b2a-b659-1063849a41b1",
   "metadata": {},
   "outputs": [
    {
     "name": "stdout",
     "output_type": "stream",
     "text": [
      "Hello Sam\n"
     ]
    }
   ],
   "source": [
    "def say_hello(name='Sam'):\n",
    "    print(f'Hello {name}')\n",
    "\n",
    "say_hello()"
   ]
  },
  {
   "cell_type": "code",
   "execution_count": 11,
   "id": "468cbcd9-d928-4732-907a-58e70184a1ca",
   "metadata": {},
   "outputs": [
    {
     "data": {
      "text/plain": [
       "22"
      ]
     },
     "execution_count": 11,
     "metadata": {},
     "output_type": "execute_result"
    }
   ],
   "source": [
    "def add_num(n1,n2):\n",
    "    return n1+n2\n",
    "add_num(10,12)"
   ]
  },
  {
   "cell_type": "code",
   "execution_count": 12,
   "id": "659d10cf-0659-4e99-ae65-64db1c6a2ec5",
   "metadata": {},
   "outputs": [
    {
     "data": {
      "text/plain": [
       "0"
      ]
     },
     "execution_count": 12,
     "metadata": {},
     "output_type": "execute_result"
    }
   ],
   "source": [
    "2 % 2"
   ]
  },
  {
   "cell_type": "code",
   "execution_count": 13,
   "id": "3ef7078c-d12b-48dc-a1b7-1a24531d8df0",
   "metadata": {},
   "outputs": [
    {
     "data": {
      "text/plain": [
       "1"
      ]
     },
     "execution_count": 13,
     "metadata": {},
     "output_type": "execute_result"
    }
   ],
   "source": [
    "3 % 2"
   ]
  },
  {
   "cell_type": "code",
   "execution_count": 14,
   "id": "6d4e4628-5dd5-411b-90fd-5599179aec12",
   "metadata": {},
   "outputs": [
    {
     "data": {
      "text/plain": [
       "1"
      ]
     },
     "execution_count": 14,
     "metadata": {},
     "output_type": "execute_result"
    }
   ],
   "source": [
    "41 % 40"
   ]
  },
  {
   "cell_type": "code",
   "execution_count": 15,
   "id": "db36b152-4fa3-4d5c-acc3-db16e376066b",
   "metadata": {},
   "outputs": [
    {
     "data": {
      "text/plain": [
       "True"
      ]
     },
     "execution_count": 15,
     "metadata": {},
     "output_type": "execute_result"
    }
   ],
   "source": [
    "20 % 2 == 0"
   ]
  },
  {
   "cell_type": "code",
   "execution_count": 17,
   "id": "4af3c4e7-b0b3-465b-8a66-e542f8fd3abb",
   "metadata": {},
   "outputs": [
    {
     "data": {
      "text/plain": [
       "True"
      ]
     },
     "execution_count": 17,
     "metadata": {},
     "output_type": "execute_result"
    }
   ],
   "source": [
    "def even_check(num):\n",
    "    res = num % 2 == 0\n",
    "    return res\n",
    "even_check(30)"
   ]
  },
  {
   "cell_type": "code",
   "execution_count": 19,
   "id": "546585c5-b3b5-4278-92ea-c2617efc3c66",
   "metadata": {},
   "outputs": [
    {
     "data": {
      "text/plain": [
       "False"
      ]
     },
     "execution_count": 19,
     "metadata": {},
     "output_type": "execute_result"
    }
   ],
   "source": [
    "even_check(301)"
   ]
  },
  {
   "cell_type": "code",
   "execution_count": 25,
   "id": "0ecb05d6-85e2-4594-a7d4-33408e03192b",
   "metadata": {},
   "outputs": [],
   "source": [
    "# Return true if any num is even inside the list\n",
    "\n",
    "def check_even_list(num_list):\n",
    "    for num in num_list:\n",
    "        if num % 2 == 0:\n",
    "            return True\n",
    "        else:\n",
    "            pass\n",
    "    return False\n",
    "        "
   ]
  },
  {
   "cell_type": "code",
   "execution_count": 26,
   "id": "5968868f-f38b-4753-a0d4-560b93218c3c",
   "metadata": {},
   "outputs": [
    {
     "data": {
      "text/plain": [
       "False"
      ]
     },
     "execution_count": 26,
     "metadata": {},
     "output_type": "execute_result"
    }
   ],
   "source": [
    "check_even_list([1,3,5])"
   ]
  },
  {
   "cell_type": "code",
   "execution_count": 27,
   "id": "689e8cd9-05d0-4320-83ae-3d2eeab801ff",
   "metadata": {},
   "outputs": [
    {
     "data": {
      "text/plain": [
       "True"
      ]
     },
     "execution_count": 27,
     "metadata": {},
     "output_type": "execute_result"
    }
   ],
   "source": [
    "check_even_list([2,3,6,8])"
   ]
  },
  {
   "cell_type": "code",
   "execution_count": 32,
   "id": "21951806-5af3-4dc4-8287-ef18f19b5808",
   "metadata": {},
   "outputs": [],
   "source": [
    "def print_even_list(num_list):\n",
    "    even_number = []\n",
    "    for num in num_list:\n",
    "        if num % 2 == 0:\n",
    "            even_number.append(num)\n",
    "        else:\n",
    "            pass \n",
    "    return even_number"
   ]
  },
  {
   "cell_type": "code",
   "execution_count": 34,
   "id": "430f07d9-57a1-42ac-a583-4a04e630e7e9",
   "metadata": {},
   "outputs": [
    {
     "data": {
      "text/plain": [
       "[4]"
      ]
     },
     "execution_count": 34,
     "metadata": {},
     "output_type": "execute_result"
    }
   ],
   "source": [
    "print_even_list([1,3,4])"
   ]
  },
  {
   "cell_type": "code",
   "execution_count": 35,
   "id": "8401518e-815d-491e-b9e6-2d059286a5ae",
   "metadata": {},
   "outputs": [
    {
     "data": {
      "text/plain": [
       "[]"
      ]
     },
     "execution_count": 35,
     "metadata": {},
     "output_type": "execute_result"
    }
   ],
   "source": [
    "print_even_list([1,3,467])"
   ]
  },
  {
   "cell_type": "code",
   "execution_count": 38,
   "id": "635ddf59-ccbe-4d44-adc1-b84951279b00",
   "metadata": {},
   "outputs": [
    {
     "name": "stdout",
     "output_type": "stream",
     "text": [
      "Apple\n",
      "2000\n",
      "Angoor\n",
      "7870\n"
     ]
    }
   ],
   "source": [
    "# FUnction and Tuple Unpacking\n",
    "stock_price = [('Apple',200),('Angoor',787)]\n",
    "\n",
    "for a,b in stock_price:\n",
    "    print(a)\n",
    "    print(b*10)"
   ]
  },
  {
   "cell_type": "code",
   "execution_count": 39,
   "id": "cccd1e14-652b-454b-b371-b3054c9a0968",
   "metadata": {},
   "outputs": [],
   "source": [
    "work_hour = [('Alice', 20),('Bob',90)]\n",
    "\n",
    "def employee_check(work_hour):\n",
    "    current_max=0\n",
    "    employee_of_month = ''\n",
    "\n",
    "    for employee,hours in work_hour:\n",
    "        if hours > current_max:\n",
    "            current_max = hours\n",
    "            employee_of_month = employee\n",
    "        else:\n",
    "            pass\n",
    "    return (employee_of_month,current_max)"
   ]
  },
  {
   "cell_type": "code",
   "execution_count": 40,
   "id": "12682c55-b299-4dde-9041-22bcfb5afc8b",
   "metadata": {},
   "outputs": [
    {
     "data": {
      "text/plain": [
       "('Bob', 90)"
      ]
     },
     "execution_count": 40,
     "metadata": {},
     "output_type": "execute_result"
    }
   ],
   "source": [
    "employee_check(work_hour)"
   ]
  },
  {
   "cell_type": "code",
   "execution_count": 41,
   "id": "3b27796e-9ad8-447a-9c6e-2898d6ee511b",
   "metadata": {},
   "outputs": [],
   "source": [
    "name,hours = employee_check(work_hour)"
   ]
  },
  {
   "cell_type": "code",
   "execution_count": 42,
   "id": "6de19ee7-0a75-461f-9e47-677e1fb55856",
   "metadata": {},
   "outputs": [
    {
     "data": {
      "text/plain": [
       "'Bob'"
      ]
     },
     "execution_count": 42,
     "metadata": {},
     "output_type": "execute_result"
    }
   ],
   "source": [
    "name"
   ]
  },
  {
   "cell_type": "code",
   "execution_count": 43,
   "id": "fd6d7f5f-d7ee-4285-9068-ff413c895727",
   "metadata": {},
   "outputs": [
    {
     "data": {
      "text/plain": [
       "90"
      ]
     },
     "execution_count": 43,
     "metadata": {},
     "output_type": "execute_result"
    }
   ],
   "source": [
    "hours"
   ]
  },
  {
   "cell_type": "code",
   "execution_count": 44,
   "id": "70d0d5b9-1869-49d6-bb75-ff3e400eeadb",
   "metadata": {},
   "outputs": [],
   "source": [
    "res = employee_check(work_hour)"
   ]
  },
  {
   "cell_type": "code",
   "execution_count": 45,
   "id": "f81a3e48-e3e1-48fa-97b6-31f5a305de06",
   "metadata": {},
   "outputs": [
    {
     "data": {
      "text/plain": [
       "('Bob', 90)"
      ]
     },
     "execution_count": 45,
     "metadata": {},
     "output_type": "execute_result"
    }
   ],
   "source": [
    "res\n"
   ]
  },
  {
   "cell_type": "code",
   "execution_count": 76,
   "id": "5d7e7bdd-3cae-434f-88cd-6272abf7bf4f",
   "metadata": {},
   "outputs": [
    {
     "data": {
      "text/plain": [
       "[1, 4, 32, 23, 2, 6, 21]"
      ]
     },
     "execution_count": 76,
     "metadata": {},
     "output_type": "execute_result"
    }
   ],
   "source": [
    "example = [1,2,6,4,32,21,23]\n",
    "\n",
    "from random import shuffle\n",
    "\n",
    "shuffle(example)\n",
    "example"
   ]
  },
  {
   "cell_type": "code",
   "execution_count": 77,
   "id": "c4b735ea-6787-43a6-abda-4102be09447a",
   "metadata": {},
   "outputs": [
    {
     "data": {
      "text/plain": [
       "[1, 32, 4, 2, 23, 21, 6]"
      ]
     },
     "execution_count": 77,
     "metadata": {},
     "output_type": "execute_result"
    }
   ],
   "source": [
    "def shuffle_list(mylist):\n",
    "    shuffle(mylist)\n",
    "    return mylist\n",
    "\n",
    "shuffle_list(example)"
   ]
  },
  {
   "cell_type": "code",
   "execution_count": 78,
   "id": "355181f2-a5db-4cd1-9db1-233d716ee70c",
   "metadata": {},
   "outputs": [
    {
     "data": {
      "text/plain": [
       "['O', ' ', ' ']"
      ]
     },
     "execution_count": 78,
     "metadata": {},
     "output_type": "execute_result"
    }
   ],
   "source": [
    "mylist = [' ','O',' ']\n",
    "shuffle_list(mylist)"
   ]
  },
  {
   "cell_type": "code",
   "execution_count": 79,
   "id": "aeed7d6a-b4f8-4bef-9b7d-dad4c9947dd7",
   "metadata": {},
   "outputs": [],
   "source": [
    "def player_guess():\n",
    "\n",
    "    guess=''\n",
    "    while guess not in ['0','1','2']:\n",
    "        guess = input(\"Pick number  0,1 or 2\")\n",
    "        \n",
    "    return int(guess)\n",
    "    "
   ]
  },
  {
   "cell_type": "code",
   "execution_count": 80,
   "id": "369735cc-f185-4c45-9790-5d7ac886434d",
   "metadata": {},
   "outputs": [
    {
     "name": "stdin",
     "output_type": "stream",
     "text": [
      "Pick number  0,1 or 2 1\n"
     ]
    },
    {
     "data": {
      "text/plain": [
       "1"
      ]
     },
     "execution_count": 80,
     "metadata": {},
     "output_type": "execute_result"
    }
   ],
   "source": [
    "my_index = player_guess()\n",
    "my_index"
   ]
  },
  {
   "cell_type": "code",
   "execution_count": 87,
   "id": "53909580-ca58-4e26-ab58-3ebdf007cc72",
   "metadata": {},
   "outputs": [],
   "source": [
    "def check_guess(mylist,guess):\n",
    "    if mylist[guess] == 'O':\n",
    "        print(\"Correct\")\n",
    "    else:\n",
    "        print(\"Wrong\")\n",
    "        \n",
    "    "
   ]
  },
  {
   "cell_type": "code",
   "execution_count": 88,
   "id": "0e2a8dcb-f0cc-4bc6-a3c3-2f1034d2b258",
   "metadata": {},
   "outputs": [
    {
     "name": "stdin",
     "output_type": "stream",
     "text": [
      "Pick number  0,1 or 2 1\n"
     ]
    },
    {
     "ename": "TypeError",
     "evalue": "'NoneType' object is not subscriptable",
     "output_type": "error",
     "traceback": [
      "\u001b[1;31m---------------------------------------------------------------------------\u001b[0m",
      "\u001b[1;31mTypeError\u001b[0m                                 Traceback (most recent call last)",
      "Cell \u001b[1;32mIn[88], line 10\u001b[0m\n\u001b[0;32m      7\u001b[0m guess \u001b[38;5;241m=\u001b[39m player_guess()\n\u001b[0;32m      9\u001b[0m \u001b[38;5;66;03m#Check Guess\u001b[39;00m\n\u001b[1;32m---> 10\u001b[0m check_guess(mixed_list,guess)\n",
      "Cell \u001b[1;32mIn[87], line 2\u001b[0m, in \u001b[0;36mcheck_guess\u001b[1;34m(mylist, guess)\u001b[0m\n\u001b[0;32m      1\u001b[0m \u001b[38;5;28;01mdef\u001b[39;00m \u001b[38;5;21mcheck_guess\u001b[39m(mylist,guess):\n\u001b[1;32m----> 2\u001b[0m     \u001b[38;5;28;01mif\u001b[39;00m mylist[guess] \u001b[38;5;241m==\u001b[39m \u001b[38;5;124m'\u001b[39m\u001b[38;5;124mO\u001b[39m\u001b[38;5;124m'\u001b[39m:\n\u001b[0;32m      3\u001b[0m         \u001b[38;5;28mprint\u001b[39m(\u001b[38;5;124m\"\u001b[39m\u001b[38;5;124mCorrect\u001b[39m\u001b[38;5;124m\"\u001b[39m)\n\u001b[0;32m      4\u001b[0m     \u001b[38;5;28;01melse\u001b[39;00m:\n",
      "\u001b[1;31mTypeError\u001b[0m: 'NoneType' object is not subscriptable"
     ]
    }
   ],
   "source": [
    "#INITIAL LIST\n",
    "mylist = [' ','O',' ']\n",
    "\n",
    "#Shuffle LIst\n",
    "mixed_list = shuffle(mylist)\n",
    "#UserGuess\n",
    "guess = player_guess()\n",
    "\n",
    "#Check Guess\n",
    "check_guess(mixed_list,guess) # This is where interact with fun comes into picture bcz it takes the result of 2 function "
   ]
  },
  {
   "cell_type": "code",
   "execution_count": 91,
   "id": "2033811c-df20-46bf-9482-49e54ddbcd15",
   "metadata": {},
   "outputs": [
    {
     "data": {
      "text/plain": [
       "30.0"
      ]
     },
     "execution_count": 91,
     "metadata": {},
     "output_type": "execute_result"
    }
   ],
   "source": [
    "def myfunc(a,b,c=0,d=0,e=0):\n",
    "    return sum((a,b,c,d,e))*0.5\n",
    "myfunc(20,40)"
   ]
  },
  {
   "cell_type": "code",
   "execution_count": 93,
   "id": "569dbfa2-5efc-4e64-84a9-c7e054fbd7a5",
   "metadata": {},
   "outputs": [
    {
     "data": {
      "text/plain": [
       "63.5"
      ]
     },
     "execution_count": 93,
     "metadata": {},
     "output_type": "execute_result"
    }
   ],
   "source": [
    "#*args --> User can pass as many arg they want\n",
    "def myfunc(*args):\n",
    "    return sum(args) * 0.5\n",
    "\n",
    "myfunc(12,23,35,57)"
   ]
  },
  {
   "cell_type": "code",
   "execution_count": 98,
   "id": "f2cf02d2-ea91-40f6-9540-775d7788c3a0",
   "metadata": {},
   "outputs": [
    {
     "name": "stdout",
     "output_type": "stream",
     "text": [
      "(12, 23, 35, 57)\n"
     ]
    }
   ],
   "source": [
    "#*args --> User can pass as many arg they want\n",
    "def myfunc(*spam):\n",
    "    print(spam) # Tuple\n",
    "\n",
    "myfunc(12,23,35,57)"
   ]
  },
  {
   "cell_type": "code",
   "execution_count": 102,
   "id": "871598f3-e621-4c01-9d3f-500f213fb90e",
   "metadata": {},
   "outputs": [
    {
     "name": "stdout",
     "output_type": "stream",
     "text": [
      "I would like 10 eggs\n"
     ]
    }
   ],
   "source": [
    "def myfunc(*args,**kwargs):\n",
    "    print(\"I would like {} {}\".format(args[0],kwargs['food']))\n",
    "\n",
    "\n",
    "myfunc(10,20,30,fruit='organge',food='eggs',animal='cat')"
   ]
  },
  {
   "cell_type": "code",
   "execution_count": 105,
   "id": "954ef216-ae50-484b-a04a-4c0720d36ae4",
   "metadata": {},
   "outputs": [],
   "source": [
    "def square(num):\n",
    "    return num*num"
   ]
  },
  {
   "cell_type": "code",
   "execution_count": 106,
   "id": "36c65173-b4b1-4aa3-9176-da94c6f3dd37",
   "metadata": {},
   "outputs": [],
   "source": [
    "my_nums = [1,2,5,6]"
   ]
  },
  {
   "cell_type": "code",
   "execution_count": 107,
   "id": "a9777c08-f0ed-41e8-a3a2-cb57ff1091e0",
   "metadata": {},
   "outputs": [
    {
     "data": {
      "text/plain": [
       "<map at 0x1f90c302e00>"
      ]
     },
     "execution_count": 107,
     "metadata": {},
     "output_type": "execute_result"
    }
   ],
   "source": [
    "#map(function, iterator) --> return map obj of result after apply a function to each given iterable(list or tuple)\n",
    "map(square,my_nums)"
   ]
  },
  {
   "cell_type": "code",
   "execution_count": 108,
   "id": "89dcdbfd-e353-49cd-92c7-c03c4c6f2051",
   "metadata": {},
   "outputs": [
    {
     "name": "stdout",
     "output_type": "stream",
     "text": [
      "1\n",
      "4\n",
      "25\n",
      "36\n"
     ]
    }
   ],
   "source": [
    "for item in map(square,my_nums):\n",
    "    print(item)"
   ]
  },
  {
   "cell_type": "code",
   "execution_count": 109,
   "id": "d3121c16-cc10-4453-9917-0c19f9aef60b",
   "metadata": {},
   "outputs": [
    {
     "data": {
      "text/plain": [
       "[1, 4, 25, 36]"
      ]
     },
     "execution_count": 109,
     "metadata": {},
     "output_type": "execute_result"
    }
   ],
   "source": [
    "list(map(square,my_nums))"
   ]
  },
  {
   "cell_type": "code",
   "execution_count": 110,
   "id": "ba8795c7-98ba-4ed4-826c-7c63af2b667d",
   "metadata": {},
   "outputs": [],
   "source": [
    "#Write a func if string has even number print even otherwise print 1st letter of the string\n",
    "\n",
    "def myfunc(myString):\n",
    "    if len(myString)%2 == 0:\n",
    "        return \"EVEN\"\n",
    "    else:\n",
    "        return myString[0]"
   ]
  },
  {
   "cell_type": "code",
   "execution_count": 111,
   "id": "f6201325-5d7a-40ac-b82b-9d39dbf74aa5",
   "metadata": {},
   "outputs": [],
   "source": [
    "names = [\"Andy\",\"Anice\",\"Bob\",\"Mary\"]"
   ]
  },
  {
   "cell_type": "code",
   "execution_count": 114,
   "id": "b9b929db-52c1-4a20-b7fd-8448d3eac45f",
   "metadata": {},
   "outputs": [
    {
     "data": {
      "text/plain": [
       "['EVEN', 'A', 'B', 'EVEN']"
      ]
     },
     "execution_count": 114,
     "metadata": {},
     "output_type": "execute_result"
    }
   ],
   "source": [
    "list(map(myfunc,names))"
   ]
  },
  {
   "cell_type": "code",
   "execution_count": 116,
   "id": "5a0da05a-0487-4a08-afc0-6646a19d53ea",
   "metadata": {},
   "outputs": [],
   "source": [
    "#Filter()\n",
    "def even(num):\n",
    "    return num%2 == 0\n",
    "        "
   ]
  },
  {
   "cell_type": "code",
   "execution_count": 117,
   "id": "7ee436c5-6737-466a-bd07-77e5d54444f4",
   "metadata": {},
   "outputs": [],
   "source": [
    "nums = [1,2,3,6]"
   ]
  },
  {
   "cell_type": "code",
   "execution_count": 118,
   "id": "61f7d3d2-8f10-4f69-a67d-a1cf82d4ede6",
   "metadata": {},
   "outputs": [
    {
     "data": {
      "text/plain": [
       "<filter at 0x1f90bcb00d0>"
      ]
     },
     "execution_count": 118,
     "metadata": {},
     "output_type": "execute_result"
    }
   ],
   "source": [
    "filter(even,nums)"
   ]
  },
  {
   "cell_type": "code",
   "execution_count": 119,
   "id": "03d1f751-a02e-447c-8028-3b3a71134e95",
   "metadata": {},
   "outputs": [
    {
     "data": {
      "text/plain": [
       "[2, 6]"
      ]
     },
     "execution_count": 119,
     "metadata": {},
     "output_type": "execute_result"
    }
   ],
   "source": [
    "list(filter(even,nums))"
   ]
  },
  {
   "cell_type": "code",
   "execution_count": 120,
   "id": "7a19d0ce-d634-46c5-a1be-cfce6cb18a86",
   "metadata": {},
   "outputs": [
    {
     "name": "stdout",
     "output_type": "stream",
     "text": [
      "2\n",
      "6\n"
     ]
    }
   ],
   "source": [
    "for i in filter(even,nums):\n",
    "    print(i)"
   ]
  },
  {
   "cell_type": "code",
   "execution_count": 127,
   "id": "3107e557-440d-4c7b-91d8-c07e82c4c940",
   "metadata": {},
   "outputs": [
    {
     "data": {
      "text/plain": [
       "[1, 4, 9, 36]"
      ]
     },
     "execution_count": 127,
     "metadata": {},
     "output_type": "execute_result"
    }
   ],
   "source": [
    "list(map(lambda n : n*n,nums))"
   ]
  },
  {
   "cell_type": "code",
   "execution_count": 129,
   "id": "ca2b9f42-a14d-4897-bebd-eea0c3caa586",
   "metadata": {},
   "outputs": [
    {
     "data": {
      "text/plain": [
       "[2, 6]"
      ]
     },
     "execution_count": 129,
     "metadata": {},
     "output_type": "execute_result"
    }
   ],
   "source": [
    "list(filter(lambda n : n%2 == 0,nums))"
   ]
  },
  {
   "cell_type": "code",
   "execution_count": 130,
   "id": "2041a489-54c8-4715-a555-42fcd03641f0",
   "metadata": {},
   "outputs": [
    {
     "data": {
      "text/plain": [
       "['Andy', 'Anice', 'Bob', 'Mary']"
      ]
     },
     "execution_count": 130,
     "metadata": {},
     "output_type": "execute_result"
    }
   ],
   "source": [
    "names"
   ]
  },
  {
   "cell_type": "code",
   "execution_count": 132,
   "id": "c40ad48d-c21b-417d-aa6f-ae1d56a16eb7",
   "metadata": {},
   "outputs": [
    {
     "data": {
      "text/plain": [
       "['A', 'A', 'B', 'M']"
      ]
     },
     "execution_count": 132,
     "metadata": {},
     "output_type": "execute_result"
    }
   ],
   "source": [
    "list(map(lambda name : name[0],names))"
   ]
  },
  {
   "cell_type": "code",
   "execution_count": 134,
   "id": "c550b425-aed4-4c5d-8404-16e89ad336f5",
   "metadata": {},
   "outputs": [
    {
     "data": {
      "text/plain": [
       "['ydnA', 'ecinA', 'boB', 'yraM']"
      ]
     },
     "execution_count": 134,
     "metadata": {},
     "output_type": "execute_result"
    }
   ],
   "source": [
    "list(map(lambda n: n[::-1],names))"
   ]
  },
  {
   "cell_type": "code",
   "execution_count": 142,
   "id": "d6fdfb5a-1a71-46c7-a31c-513bb96a0967",
   "metadata": {},
   "outputs": [],
   "source": [
    "#LEBG -> Local , Enclosing function local , built-in , global\n",
    "\n",
    "#Global\n",
    "name = \"This is a global String\"\n",
    "\n",
    "def greet():\n",
    "    #Enclosing\n",
    "    name = \"Sam\"\n",
    "\n",
    "    def hello():\n",
    "        #Local\n",
    "        name = \"Cool\"\n",
    "        print(\"Hello \"+name)\n",
    "\n",
    "    hello()\n",
    "    \n"
   ]
  },
  {
   "cell_type": "code",
   "execution_count": 143,
   "id": "26c8cf59-e0df-48e7-93ac-d59df52e332b",
   "metadata": {},
   "outputs": [
    {
     "name": "stdout",
     "output_type": "stream",
     "text": [
      "Hello Cool\n"
     ]
    }
   ],
   "source": [
    "greet()"
   ]
  },
  {
   "cell_type": "code",
   "execution_count": 152,
   "id": "32bbd78a-470d-435f-81ad-0f71a762fece",
   "metadata": {},
   "outputs": [],
   "source": [
    "x = 90\n",
    "\n",
    "def greet():\n",
    "    global x\n",
    "    #Enclosing\n",
    "    print(\"x is : \" ,x)\n",
    "\n",
    "    x='Hey'\n",
    "    print(\"LOcally chnaged global variable now x is : \",x)\n",
    "\n",
    "    "
   ]
  },
  {
   "cell_type": "code",
   "execution_count": 153,
   "id": "13ead72c-e4f4-4d51-8232-2fa94d7e6dc1",
   "metadata": {},
   "outputs": [
    {
     "name": "stdout",
     "output_type": "stream",
     "text": [
      "x is :  90\n",
      "LOcally chnaged global variable now x is :  Hey\n"
     ]
    }
   ],
   "source": [
    "greet()"
   ]
  },
  {
   "cell_type": "code",
   "execution_count": null,
   "id": "d854b0ed-c077-4dfe-8eb0-c63e8777ff0d",
   "metadata": {},
   "outputs": [],
   "source": []
  }
 ],
 "metadata": {
  "kernelspec": {
   "display_name": "Python 3 (ipykernel)",
   "language": "python",
   "name": "python3"
  },
  "language_info": {
   "codemirror_mode": {
    "name": "ipython",
    "version": 3
   },
   "file_extension": ".py",
   "mimetype": "text/x-python",
   "name": "python",
   "nbconvert_exporter": "python",
   "pygments_lexer": "ipython3",
   "version": "3.11.7"
  }
 },
 "nbformat": 4,
 "nbformat_minor": 5
}
