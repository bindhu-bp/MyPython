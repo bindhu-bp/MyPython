{
 "cells": [
  {
   "cell_type": "code",
   "execution_count": 66,
   "id": "7a9aab6e-bbf2-4c03-95e2-794e0bafa6b5",
   "metadata": {},
   "outputs": [],
   "source": [
    "def square(n):\n",
    "    return n*n"
   ]
  },
  {
   "cell_type": "code",
   "execution_count": 102,
   "id": "67acc5f8-99ec-41af-a93a-f29469f75c97",
   "metadata": {},
   "outputs": [],
   "source": [
    "def decorator(fun):\n",
    "    def inner(n):\n",
    "        return fun(n)\n",
    "    return inner\n",
    "    \n",
    "   \n",
    "    "
   ]
  },
  {
   "cell_type": "code",
   "execution_count": 103,
   "id": "c2c3cfbe-320d-452e-bbe0-d520ca35344f",
   "metadata": {},
   "outputs": [],
   "source": [
    "@decorator\n",
    "def square(n):\n",
    "    return n*n"
   ]
  },
  {
   "cell_type": "code",
   "execution_count": 104,
   "id": "5b85fcc5-60cd-4b14-9128-f7300399662e",
   "metadata": {},
   "outputs": [
    {
     "data": {
      "text/plain": [
       "144"
      ]
     },
     "execution_count": 104,
     "metadata": {},
     "output_type": "execute_result"
    }
   ],
   "source": [
    "square(12)"
   ]
  },
  {
   "cell_type": "code",
   "execution_count": 36,
   "id": "f0d9c09a-4ac7-4bfd-ac89-ec335139ff52",
   "metadata": {},
   "outputs": [],
   "source": [
    "def func(a,b):\n",
    "    res = a+b\n",
    "    yield res"
   ]
  },
  {
   "cell_type": "code",
   "execution_count": 37,
   "id": "651f4d68-c739-4aad-be19-038919354441",
   "metadata": {},
   "outputs": [],
   "source": [
    "gen = func(10,20)"
   ]
  },
  {
   "cell_type": "code",
   "execution_count": 39,
   "id": "e8c93d0c-f570-4627-a914-2bf479118722",
   "metadata": {},
   "outputs": [
    {
     "ename": "TypeError",
     "evalue": "cannot unpack non-iterable int object",
     "output_type": "error",
     "traceback": [
      "\u001b[1;31m---------------------------------------------------------------------------\u001b[0m",
      "\u001b[1;31mTypeError\u001b[0m                                 Traceback (most recent call last)",
      "Cell \u001b[1;32mIn[39], line 1\u001b[0m\n\u001b[1;32m----> 1\u001b[0m \u001b[38;5;28;01mfor\u001b[39;00m i,j \u001b[38;5;129;01min\u001b[39;00m \u001b[38;5;28mrange\u001b[39m(\u001b[38;5;241m10\u001b[39m,\u001b[38;5;241m20\u001b[39m):\n\u001b[0;32m      2\u001b[0m     \u001b[38;5;28mprint\u001b[39m(i,j)\n",
      "\u001b[1;31mTypeError\u001b[0m: cannot unpack non-iterable int object"
     ]
    }
   ],
   "source": [
    "for i,j in range(10,20):\n",
    "    print(i,j)"
   ]
  },
  {
   "cell_type": "code",
   "execution_count": 43,
   "id": "e83a0a05-301d-4434-b02c-905b4f35d9bb",
   "metadata": {},
   "outputs": [
    {
     "data": {
      "text/plain": [
       "[1, 7, 3, 9, 11, 67, 23, 99, 255]"
      ]
     },
     "execution_count": 43,
     "metadata": {},
     "output_type": "execute_result"
    }
   ],
   "source": [
    "l = [1, 4, 6, 7, 3, 9, 11, 16, 67, 23, 99, 255]\n",
    "[x for x in l if x%2 != 0]\n"
   ]
  },
  {
   "cell_type": "code",
   "execution_count": 44,
   "id": "66dd1fb4-cdc0-4a8a-969c-721b5e605f3d",
   "metadata": {},
   "outputs": [],
   "source": [
    "l.append(22.3)"
   ]
  },
  {
   "cell_type": "code",
   "execution_count": 45,
   "id": "13b1429c-4b96-4f46-a4bd-0c24ef403291",
   "metadata": {},
   "outputs": [
    {
     "data": {
      "text/plain": [
       "[1, 4, 6, 7, 3, 9, 11, 16, 67, 23, 99, 255, 22.3]"
      ]
     },
     "execution_count": 45,
     "metadata": {},
     "output_type": "execute_result"
    }
   ],
   "source": [
    "l"
   ]
  },
  {
   "cell_type": "code",
   "execution_count": 46,
   "id": "70ac7504-6936-4d55-9f39-1470b54d5fcf",
   "metadata": {},
   "outputs": [],
   "source": [
    "l.append(45.6)"
   ]
  },
  {
   "cell_type": "code",
   "execution_count": 90,
   "id": "7f77fcbe-b5cd-4483-a275-3f5484e79082",
   "metadata": {},
   "outputs": [
    {
     "data": {
      "text/plain": [
       "[1, 7, 3, 9, 11, 67, 23, 99, 255, 45.6]"
      ]
     },
     "execution_count": 90,
     "metadata": {},
     "output_type": "execute_result"
    }
   ],
   "source": [
    "[x for x in l if int(x)%2 != 0 ]"
   ]
  },
  {
   "cell_type": "code",
   "execution_count": 53,
   "id": "667514c0-fbfc-4e4f-87e5-7c3acbcf219b",
   "metadata": {},
   "outputs": [],
   "source": [
    "t = (1,2,4,{'k1':2})"
   ]
  },
  {
   "cell_type": "code",
   "execution_count": 54,
   "id": "027c6f92-0000-4429-bd1a-6464f051c102",
   "metadata": {},
   "outputs": [],
   "source": [
    "t[3]['k1'] = 4"
   ]
  },
  {
   "cell_type": "code",
   "execution_count": 55,
   "id": "39d97616-ef5a-43e0-bead-b905af88bd5b",
   "metadata": {},
   "outputs": [
    {
     "data": {
      "text/plain": [
       "(1, 2, 4, {'k1': 4})"
      ]
     },
     "execution_count": 55,
     "metadata": {},
     "output_type": "execute_result"
    }
   ],
   "source": [
    "t"
   ]
  },
  {
   "cell_type": "code",
   "execution_count": 56,
   "id": "f05ae4de-d594-4ab4-b7cb-24670bd668df",
   "metadata": {},
   "outputs": [
    {
     "ename": "TypeError",
     "evalue": "'tuple' object does not support item assignment",
     "output_type": "error",
     "traceback": [
      "\u001b[1;31m---------------------------------------------------------------------------\u001b[0m",
      "\u001b[1;31mTypeError\u001b[0m                                 Traceback (most recent call last)",
      "Cell \u001b[1;32mIn[56], line 1\u001b[0m\n\u001b[1;32m----> 1\u001b[0m t[\u001b[38;5;241m0\u001b[39m] \u001b[38;5;241m=\u001b[39m \u001b[38;5;241m3\u001b[39m\n",
      "\u001b[1;31mTypeError\u001b[0m: 'tuple' object does not support item assignment"
     ]
    }
   ],
   "source": [
    "t[0] = 3"
   ]
  },
  {
   "cell_type": "code",
   "execution_count": 59,
   "id": "15786fe0-5ed0-4e8f-a6fe-504be1dbbbd8",
   "metadata": {},
   "outputs": [],
   "source": [
    "di = {'k1':1,'k1':4}"
   ]
  },
  {
   "cell_type": "code",
   "execution_count": 60,
   "id": "8762a08a-9cb1-4cb8-9c40-7781865c8f02",
   "metadata": {},
   "outputs": [
    {
     "data": {
      "text/plain": [
       "{'k1': 4}"
      ]
     },
     "execution_count": 60,
     "metadata": {},
     "output_type": "execute_result"
    }
   ],
   "source": [
    "di"
   ]
  },
  {
   "cell_type": "code",
   "execution_count": null,
   "id": "2df57f00-fad2-4d42-ba5c-ddb3fd20f6e2",
   "metadata": {},
   "outputs": [],
   "source": []
  }
 ],
 "metadata": {
  "kernelspec": {
   "display_name": "Python 3 (ipykernel)",
   "language": "python",
   "name": "python3"
  },
  "language_info": {
   "codemirror_mode": {
    "name": "ipython",
    "version": 3
   },
   "file_extension": ".py",
   "mimetype": "text/x-python",
   "name": "python",
   "nbconvert_exporter": "python",
   "pygments_lexer": "ipython3",
   "version": "3.11.7"
  }
 },
 "nbformat": 4,
 "nbformat_minor": 5
}
