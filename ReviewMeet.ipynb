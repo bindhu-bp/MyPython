{
 "cells": [
  {
   "cell_type": "code",
   "execution_count": 66,
   "id": "7a9aab6e-bbf2-4c03-95e2-794e0bafa6b5",
   "metadata": {},
   "outputs": [],
   "source": [
    "def square(n):\n",
    "    return n*n"
   ]
  },
  {
   "cell_type": "code",
   "execution_count": 31,
   "id": "67acc5f8-99ec-41af-a93a-f29469f75c97",
   "metadata": {},
   "outputs": [],
   "source": [
    "import time\n",
    "def decorator(fun):\n",
    "    def inner(*args):\n",
    "\n",
    "        start = time.time()\n",
    "        print(\"Start : \",start)\n",
    "        fun(*args)\n",
    "        end =time.time()\n",
    "        print(\"End : \",end)\n",
    "        t = end-start\n",
    "        print(t)\n",
    "       \n",
    "    return inner\n",
    "    \n",
    "   \n",
    "    "
   ]
  },
  {
   "cell_type": "code",
   "execution_count": 32,
   "id": "c2c3cfbe-320d-452e-bbe0-d520ca35344f",
   "metadata": {},
   "outputs": [],
   "source": [
    "@decorator\n",
    "def square(n):\n",
    "    time.sleep(5)\n",
    "    return n*n"
   ]
  },
  {
   "cell_type": "code",
   "execution_count": 33,
   "id": "5b85fcc5-60cd-4b14-9128-f7300399662e",
   "metadata": {},
   "outputs": [
    {
     "name": "stdout",
     "output_type": "stream",
     "text": [
      "Start :  1714367565.3067818\n",
      "End :  1714367570.3123026\n",
      "5.005520820617676\n"
     ]
    }
   ],
   "source": [
    "square(6)"
   ]
  },
  {
   "cell_type": "code",
   "execution_count": 9,
   "id": "f0d9c09a-4ac7-4bfd-ac89-ec335139ff52",
   "metadata": {},
   "outputs": [],
   "source": [
    "def func():\n",
    "    sum=0\n",
    "    for i in range(10):\n",
    "        sum += i\n",
    "        yield sum"
   ]
  },
  {
   "cell_type": "code",
   "execution_count": 10,
   "id": "651f4d68-c739-4aad-be19-038919354441",
   "metadata": {},
   "outputs": [],
   "source": [
    "gen = func()"
   ]
  },
  {
   "cell_type": "code",
   "execution_count": 11,
   "id": "e8c93d0c-f570-4627-a914-2bf479118722",
   "metadata": {},
   "outputs": [
    {
     "data": {
      "text/plain": [
       "[0, 1, 3, 6, 10, 15, 21, 28, 36, 45]"
      ]
     },
     "execution_count": 11,
     "metadata": {},
     "output_type": "execute_result"
    }
   ],
   "source": [
    "list(gen)"
   ]
  },
  {
   "cell_type": "code",
   "execution_count": 43,
   "id": "e83a0a05-301d-4434-b02c-905b4f35d9bb",
   "metadata": {},
   "outputs": [
    {
     "data": {
      "text/plain": [
       "[1, 7, 3, 9, 11, 67, 23, 99, 255]"
      ]
     },
     "execution_count": 43,
     "metadata": {},
     "output_type": "execute_result"
    }
   ],
   "source": [
    "l = [1, 4, 6, 7, 3, 9, 11, 16, 67, 23, 99, 255]\n",
    "[x for x in l if x%2 != 0]\n"
   ]
  },
  {
   "cell_type": "code",
   "execution_count": 44,
   "id": "66dd1fb4-cdc0-4a8a-969c-721b5e605f3d",
   "metadata": {},
   "outputs": [],
   "source": [
    "l.append(22.3)"
   ]
  },
  {
   "cell_type": "code",
   "execution_count": 45,
   "id": "13b1429c-4b96-4f46-a4bd-0c24ef403291",
   "metadata": {},
   "outputs": [
    {
     "data": {
      "text/plain": [
       "[1, 4, 6, 7, 3, 9, 11, 16, 67, 23, 99, 255, 22.3]"
      ]
     },
     "execution_count": 45,
     "metadata": {},
     "output_type": "execute_result"
    }
   ],
   "source": [
    "l"
   ]
  },
  {
   "cell_type": "code",
   "execution_count": 46,
   "id": "70ac7504-6936-4d55-9f39-1470b54d5fcf",
   "metadata": {},
   "outputs": [],
   "source": [
    "l.append(45.6)"
   ]
  },
  {
   "cell_type": "code",
   "execution_count": 90,
   "id": "7f77fcbe-b5cd-4483-a275-3f5484e79082",
   "metadata": {},
   "outputs": [
    {
     "data": {
      "text/plain": [
       "[1, 7, 3, 9, 11, 67, 23, 99, 255, 45.6]"
      ]
     },
     "execution_count": 90,
     "metadata": {},
     "output_type": "execute_result"
    }
   ],
   "source": [
    "[x for x in l if int(x)%2 != 0 ]"
   ]
  },
  {
   "cell_type": "code",
   "execution_count": 53,
   "id": "667514c0-fbfc-4e4f-87e5-7c3acbcf219b",
   "metadata": {},
   "outputs": [],
   "source": [
    "t = (1,2,4,{'k1':2})"
   ]
  },
  {
   "cell_type": "code",
   "execution_count": 54,
   "id": "027c6f92-0000-4429-bd1a-6464f051c102",
   "metadata": {},
   "outputs": [],
   "source": [
    "t[3]['k1'] = 4"
   ]
  },
  {
   "cell_type": "code",
   "execution_count": 55,
   "id": "39d97616-ef5a-43e0-bead-b905af88bd5b",
   "metadata": {},
   "outputs": [
    {
     "data": {
      "text/plain": [
       "(1, 2, 4, {'k1': 4})"
      ]
     },
     "execution_count": 55,
     "metadata": {},
     "output_type": "execute_result"
    }
   ],
   "source": [
    "t"
   ]
  },
  {
   "cell_type": "code",
   "execution_count": 56,
   "id": "f05ae4de-d594-4ab4-b7cb-24670bd668df",
   "metadata": {},
   "outputs": [
    {
     "ename": "TypeError",
     "evalue": "'tuple' object does not support item assignment",
     "output_type": "error",
     "traceback": [
      "\u001b[1;31m---------------------------------------------------------------------------\u001b[0m",
      "\u001b[1;31mTypeError\u001b[0m                                 Traceback (most recent call last)",
      "Cell \u001b[1;32mIn[56], line 1\u001b[0m\n\u001b[1;32m----> 1\u001b[0m t[\u001b[38;5;241m0\u001b[39m] \u001b[38;5;241m=\u001b[39m \u001b[38;5;241m3\u001b[39m\n",
      "\u001b[1;31mTypeError\u001b[0m: 'tuple' object does not support item assignment"
     ]
    }
   ],
   "source": [
    "t[0] = 3"
   ]
  },
  {
   "cell_type": "code",
   "execution_count": 59,
   "id": "15786fe0-5ed0-4e8f-a6fe-504be1dbbbd8",
   "metadata": {},
   "outputs": [],
   "source": [
    "di = {'k1':1,'k1':4}"
   ]
  },
  {
   "cell_type": "code",
   "execution_count": 60,
   "id": "8762a08a-9cb1-4cb8-9c40-7781865c8f02",
   "metadata": {},
   "outputs": [
    {
     "data": {
      "text/plain": [
       "{'k1': 4}"
      ]
     },
     "execution_count": 60,
     "metadata": {},
     "output_type": "execute_result"
    }
   ],
   "source": [
    "di"
   ]
  },
  {
   "cell_type": "code",
   "execution_count": 26,
   "id": "2df57f00-fad2-4d42-ba5c-ddb3fd20f6e2",
   "metadata": {},
   "outputs": [],
   "source": [
    "import time\n",
    "def decorator(fun):\n",
    "    def wrapper():\n",
    "        \n",
    "        start_time = time.time()\n",
    "        print(\"Start Time : \",start_time)\n",
    "              \n",
    "        fun()\n",
    "        \n",
    "        end_time = time.time()\n",
    "        print(\"End Time : \",end_time)\n",
    "        \n",
    "        t = end_time-start_time\n",
    "        print(\"Total : \",t)\n",
    "    return wrapper"
   ]
  },
  {
   "cell_type": "code",
   "execution_count": 28,
   "id": "155a80f6-829a-48dc-9a41-c38c9e1af55d",
   "metadata": {},
   "outputs": [
    {
     "name": "stdout",
     "output_type": "stream",
     "text": [
      "Start Time :  1714457366.2919877\n",
      "2\n",
      "End Time :  1714457369.2973535\n",
      "Total :  3.0053658485412598\n"
     ]
    }
   ],
   "source": [
    "@decorator\n",
    "def square():\n",
    "    time.sleep(3)\n",
    "    print(2)\n",
    "square()"
   ]
  },
  {
   "cell_type": "code",
   "execution_count": 33,
   "id": "3b5ccf5e-a871-4421-93ac-23992f6f5a06",
   "metadata": {},
   "outputs": [
    {
     "data": {
      "text/plain": [
       "0"
      ]
     },
     "execution_count": 33,
     "metadata": {},
     "output_type": "execute_result"
    }
   ],
   "source": [
    "def gen():\n",
    "    for i in range(4):\n",
    "        yield i*i\n",
    "\n",
    "next(gen())\n"
   ]
  },
  {
   "cell_type": "code",
   "execution_count": 37,
   "id": "2a74f942-c9e9-4796-a9e3-d3bc610b4559",
   "metadata": {},
   "outputs": [
    {
     "data": {
      "text/plain": [
       "{'H': 1, 'e': 1, 'l': 2, 'o': 1}"
      ]
     },
     "execution_count": 37,
     "metadata": {},
     "output_type": "execute_result"
    }
   ],
   "source": [
    "s = \"Hello\"\n",
    "d = {}\n",
    "\n",
    "def fun():\n",
    "    for i in s:\n",
    "        if i in d:\n",
    "            d[i] += 1\n",
    "        else:\n",
    "            d[i] = 1\n",
    "       \n",
    "    return d\n",
    "fun()\n",
    "        \n",
    "        \n"
   ]
  },
  {
   "cell_type": "code",
   "execution_count": 102,
   "id": "e9c395db-117f-4098-b0d6-6c83b813f4f0",
   "metadata": {},
   "outputs": [
    {
     "name": "stdout",
     "output_type": "stream",
     "text": [
      "1\n"
     ]
    },
    {
     "ename": "TypeError",
     "evalue": "dict.keys() takes no arguments (1 given)",
     "output_type": "error",
     "traceback": [
      "\u001b[1;31m---------------------------------------------------------------------------\u001b[0m",
      "\u001b[1;31mTypeError\u001b[0m                                 Traceback (most recent call last)",
      "Cell \u001b[1;32mIn[102], line 1\u001b[0m\n\u001b[1;32m----> 1\u001b[0m fun()\n",
      "Cell \u001b[1;32mIn[101], line 8\u001b[0m, in \u001b[0;36mfun\u001b[1;34m()\u001b[0m\n\u001b[0;32m      5\u001b[0m \u001b[38;5;28;01mfor\u001b[39;00m i \u001b[38;5;129;01min\u001b[39;00m s:\n\u001b[0;32m      7\u001b[0m     \u001b[38;5;28mprint\u001b[39m(s\u001b[38;5;241m.\u001b[39mcount(i))\n\u001b[1;32m----> 8\u001b[0m     \u001b[38;5;28mprint\u001b[39m(d\u001b[38;5;241m.\u001b[39mkeys(i))\n",
      "\u001b[1;31mTypeError\u001b[0m: dict.keys() takes no arguments (1 given)"
     ]
    }
   ],
   "source": [
    "fun()"
   ]
  },
  {
   "cell_type": "code",
   "execution_count": null,
   "id": "a09e2d78-a4ab-4aa0-bad4-05c6c63addc8",
   "metadata": {},
   "outputs": [],
   "source": [
    "ip - s = \"Hello\"\n",
    "op - {\"H\": 1, \"e\": 1, \"l\": 2, \"o\": 1}\n"
   ]
  },
  {
   "cell_type": "code",
   "execution_count": 24,
   "id": "2f7f9b1b-b181-484b-a60a-e80c8fd196ad",
   "metadata": {},
   "outputs": [
    {
     "data": {
      "text/plain": [
       "{'H': 1, 'e': 1, 'l': 2, 'o': 1}"
      ]
     },
     "execution_count": 24,
     "metadata": {},
     "output_type": "execute_result"
    }
   ],
   "source": [
    "from collections import Counter\n",
    "s = \"Hello\"\n",
    "dict(Counter(s))\n"
   ]
  },
  {
   "cell_type": "code",
   "execution_count": 25,
   "id": "0aaf0594-88a5-4fb0-bebe-c1c1ba432eeb",
   "metadata": {},
   "outputs": [
    {
     "data": {
      "text/plain": [
       "collections.Counter"
      ]
     },
     "execution_count": 25,
     "metadata": {},
     "output_type": "execute_result"
    }
   ],
   "source": [
    "type(Counter(s))"
   ]
  },
  {
   "cell_type": "code",
   "execution_count": null,
   "id": "8a3d52f2-0ec9-4fb2-81ab-5b49853f0a3b",
   "metadata": {},
   "outputs": [],
   "source": []
  },
  {
   "cell_type": "code",
   "execution_count": null,
   "id": "c6195a00-82e5-466b-9d72-80d17009a96b",
   "metadata": {},
   "outputs": [],
   "source": []
  },
  {
   "cell_type": "code",
   "execution_count": 1,
   "id": "502604b7-95ee-46cb-a4b5-3dbf82d69cea",
   "metadata": {},
   "outputs": [],
   "source": [
    "# 1 .Class to create calculator using oops\n",
    "\n"
   ]
  },
  {
   "cell_type": "code",
   "execution_count": 6,
   "id": "a1962a1e-0ec3-494b-bbf9-0d95f8fcf4b5",
   "metadata": {},
   "outputs": [],
   "source": [
    "class Calulator:\n",
    "\n",
    "    def __init__(self,a,b):\n",
    "        self.a = a\n",
    "        self.b = b\n",
    "\n",
    "    def addition(self):\n",
    "        return self.a+self.b\n",
    "\n",
    "    def subtraction(self,a,b):\n",
    "        return a-b\n",
    "\n",
    "    def multiplication(self,a,b):\n",
    "        return a*b\n",
    "\n",
    "    def division(self,a,b):\n",
    "        if b == 0:\n",
    "            raise ValueError(\"b should be greater than 0\")\n",
    "        return a/b\n",
    "    \n",
    "\n",
    "\n",
    "    "
   ]
  },
  {
   "cell_type": "code",
   "execution_count": 9,
   "id": "6a6530cc-5eda-441e-8f2c-ef087ab7a4ac",
   "metadata": {},
   "outputs": [
    {
     "data": {
      "text/plain": [
       "<__main__.Calulator at 0x19342fd3490>"
      ]
     },
     "execution_count": 9,
     "metadata": {},
     "output_type": "execute_result"
    }
   ],
   "source": [
    "cal = Calulator(10,30)\n",
    "cal"
   ]
  },
  {
   "cell_type": "code",
   "execution_count": 13,
   "id": "cc1dc302-8a37-4bee-93bb-4c1c8fa7547e",
   "metadata": {},
   "outputs": [
    {
     "data": {
      "text/plain": [
       "20"
      ]
     },
     "execution_count": 13,
     "metadata": {},
     "output_type": "execute_result"
    }
   ],
   "source": [
    "cal.a = 20\n",
    "cal.a"
   ]
  },
  {
   "cell_type": "code",
   "execution_count": 27,
   "id": "d865d3ab-1d2d-4927-b7b4-40f701379e0c",
   "metadata": {},
   "outputs": [
    {
     "data": {
      "text/plain": [
       "0.9"
      ]
     },
     "execution_count": 27,
     "metadata": {},
     "output_type": "execute_result"
    }
   ],
   "source": [
    "cal.division(18,20)"
   ]
  },
  {
   "cell_type": "code",
   "execution_count": 29,
   "id": "6a19240e-a4ed-4076-a9b2-5e6e716a2450",
   "metadata": {},
   "outputs": [],
   "source": [
    "# 2. Cheeck if String is palindrome or not\n",
    "\n",
    "def palindrome():\n",
    "    s = input()\n",
    "    a = s[::-1]\n",
    "    if s == a:\n",
    "        print(\"Palindrome\")\n",
    "    else:\n",
    "        print(\"NOT\")"
   ]
  },
  {
   "cell_type": "code",
   "execution_count": 33,
   "id": "68387189-e51e-44f4-9f86-906c68752481",
   "metadata": {},
   "outputs": [
    {
     "name": "stdin",
     "output_type": "stream",
     "text": [
      " 121\n"
     ]
    },
    {
     "name": "stdout",
     "output_type": "stream",
     "text": [
      "Palindrome\n"
     ]
    }
   ],
   "source": [
    "palindrome()"
   ]
  },
  {
   "cell_type": "markdown",
   "id": "540d137b-1047-4d15-84b0-69414cbc5cd7",
   "metadata": {},
   "source": [
    "# "
   ]
  },
  {
   "cell_type": "code",
   "execution_count": 57,
   "id": "6721aecc-32d1-46a5-a34d-d2d16cd116d8",
   "metadata": {
    "scrolled": true
   },
   "outputs": [
    {
     "name": "stdin",
     "output_type": "stream",
     "text": [
      " ererer\n"
     ]
    },
    {
     "name": "stdout",
     "output_type": "stream",
     "text": [
      "rerere\n"
     ]
    }
   ],
   "source": [
    "# 3. REverse a String\n",
    "\n",
    "def rev():\n",
    "    s = input()\n",
    "    print(s[::-1])\n",
    "rev()"
   ]
  },
  {
   "cell_type": "code",
   "execution_count": 4,
   "id": "cec86aaa-ae37-4ba4-bc00-fc01ea30489b",
   "metadata": {},
   "outputs": [
    {
     "data": {
      "text/plain": [
       "'This is a file 1'"
      ]
     },
     "execution_count": 4,
     "metadata": {},
     "output_type": "execute_result"
    }
   ],
   "source": [
    "# 4.File\n",
    "\n",
    "f = open(\"file1.txt\",'r')\n",
    "f.read()"
   ]
  },
  {
   "cell_type": "code",
   "execution_count": null,
   "id": "1c7cf083-9dad-436e-b2aa-d714aa56d4e5",
   "metadata": {},
   "outputs": [],
   "source": [
    "\n",
    "\n"
   ]
  },
  {
   "cell_type": "code",
   "execution_count": 14,
   "id": "d4456b35-93b6-4fdf-b078-d3adc4f8fc47",
   "metadata": {},
   "outputs": [],
   "source": [
    "def read_file(path,word):\n",
    "    words_count = {}\n",
    "    with open(\"file1.txt\",'r') as file:\n",
    "        content = file.read()\n",
    "        words_count[word] = content.count(word)\n",
    "    return words_count"
   ]
  },
  {
   "cell_type": "code",
   "execution_count": 15,
   "id": "8292ae7c-cb2b-4b38-9101-f41b0f6f6f13",
   "metadata": {},
   "outputs": [
    {
     "data": {
      "text/plain": [
       "{'This': 1}"
      ]
     },
     "execution_count": 15,
     "metadata": {},
     "output_type": "execute_result"
    }
   ],
   "source": [
    "read_file(\"file1.txt\",'This')"
   ]
  },
  {
   "cell_type": "code",
   "execution_count": null,
   "id": "0b19a854-6c0a-4423-90e7-b052c6d7fa13",
   "metadata": {},
   "outputs": [],
   "source": []
  },
  {
   "cell_type": "code",
   "execution_count": 13,
   "id": "ad622f2d-726c-491c-9741-7090ee4d88d5",
   "metadata": {},
   "outputs": [
    {
     "data": {
      "text/plain": [
       "{'H': 1, 'e': 1, 'l': 2, 'o': 1}"
      ]
     },
     "execution_count": 13,
     "metadata": {},
     "output_type": "execute_result"
    }
   ],
   "source": [
    "s = \"Hello\"\n",
    "def count_char(s):\n",
    "    d = {}\n",
    "    for char in s:\n",
    "        if char in d:\n",
    "            d[char] += 1\n",
    "        else:\n",
    "            d[char] = 1\n",
    "    return d\n",
    "\n",
    "count_char(s)\n",
    "            \n",
    "            \n"
   ]
  },
  {
   "cell_type": "code",
   "execution_count": null,
   "id": "0e6feeb3-a850-4e7b-8354-f31d7c00735e",
   "metadata": {},
   "outputs": [],
   "source": []
  },
  {
   "cell_type": "code",
   "execution_count": 65,
   "id": "247baa73-4515-4785-8a36-986523b40311",
   "metadata": {},
   "outputs": [],
   "source": [
    "def rev(s):\n",
    "    return ''.join(reversed(s))"
   ]
  },
  {
   "cell_type": "code",
   "execution_count": 66,
   "id": "a7ef3b41-6fff-4b15-8d8c-1ec360a58ba4",
   "metadata": {},
   "outputs": [
    {
     "data": {
      "text/plain": [
       "'fddff'"
      ]
     },
     "execution_count": 66,
     "metadata": {},
     "output_type": "execute_result"
    }
   ],
   "source": [
    "rev('ffddf')"
   ]
  },
  {
   "cell_type": "code",
   "execution_count": null,
   "id": "b4ad75e8-6b5e-4c56-a319-eb239ecd7843",
   "metadata": {},
   "outputs": [],
   "source": []
  },
  {
   "cell_type": "code",
   "execution_count": null,
   "id": "511b5da8-b06c-4192-8437-05d4e9500bea",
   "metadata": {},
   "outputs": [],
   "source": []
  },
  {
   "cell_type": "code",
   "execution_count": null,
   "id": "fc3f8852-7c58-4dcb-8a78-c27315c43226",
   "metadata": {},
   "outputs": [],
   "source": []
  },
  {
   "cell_type": "code",
   "execution_count": null,
   "id": "9351767c-6466-485f-b2b4-49aaf794ab1b",
   "metadata": {},
   "outputs": [],
   "source": []
  }
 ],
 "metadata": {
  "kernelspec": {
   "display_name": "Python 3 (ipykernel)",
   "language": "python",
   "name": "python3"
  },
  "language_info": {
   "codemirror_mode": {
    "name": "ipython",
    "version": 3
   },
   "file_extension": ".py",
   "mimetype": "text/x-python",
   "name": "python",
   "nbconvert_exporter": "python",
   "pygments_lexer": "ipython3",
   "version": "3.11.7"
  }
 },
 "nbformat": 4,
 "nbformat_minor": 5
}
