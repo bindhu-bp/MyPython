{
 "cells": [
  {
   "cell_type": "code",
   "execution_count": 1,
   "id": "ba8644f4-9453-432d-8e0b-0b4969f0c9d9",
   "metadata": {},
   "outputs": [
    {
     "name": "stdout",
     "output_type": "stream",
     "text": [
      "Its True\n"
     ]
    }
   ],
   "source": [
    "if True:\n",
    "    print(\"Its True\")"
   ]
  },
  {
   "cell_type": "code",
   "execution_count": 3,
   "id": "a2217eab-fb5b-42da-8e05-3b9ffdac1026",
   "metadata": {},
   "outputs": [
    {
     "name": "stdout",
     "output_type": "stream",
     "text": [
      "Its 2\n"
     ]
    }
   ],
   "source": [
    "s = 2\n",
    "\n",
    "if s == 3:\n",
    "    print(\"Its 3\")\n",
    "else:\n",
    "    print(\"Its 2\")"
   ]
  },
  {
   "cell_type": "code",
   "execution_count": 5,
   "id": "655b9758-84e1-416f-a898-60971860be47",
   "metadata": {},
   "outputs": [
    {
     "name": "stdout",
     "output_type": "stream",
     "text": [
      "Smaller\n"
     ]
    }
   ],
   "source": [
    "if s < 10:\n",
    "    print(\"Smaller\")\n",
    "elif s > 10:\n",
    "    print(\"Greater\")\n",
    "else:\n",
    "    print(\"None\")"
   ]
  },
  {
   "cell_type": "code",
   "execution_count": 7,
   "id": "5dc97d85-e629-4409-abb7-67680d7d10ae",
   "metadata": {},
   "outputs": [
    {
     "name": "stdout",
     "output_type": "stream",
     "text": [
      "0\n",
      "1\n",
      "2\n",
      "3\n",
      "4\n",
      "5\n",
      "6\n",
      "7\n",
      "8\n",
      "9\n"
     ]
    }
   ],
   "source": [
    "for i in range(10):\n",
    "    print(i)"
   ]
  },
  {
   "cell_type": "code",
   "execution_count": 8,
   "id": "216f94af-1060-4de9-aca0-4caca9aaee58",
   "metadata": {},
   "outputs": [
    {
     "name": "stdout",
     "output_type": "stream",
     "text": [
      "H\n",
      "e\n",
      "l\n",
      "l\n",
      "o\n"
     ]
    }
   ],
   "source": [
    "name = \"Hello\"\n",
    "\n",
    "for n in name:\n",
    "    print(n)"
   ]
  },
  {
   "cell_type": "code",
   "execution_count": 9,
   "id": "f29e2340-7cb4-42dc-a9a1-b7a0db90800f",
   "metadata": {},
   "outputs": [
    {
     "name": "stdout",
     "output_type": "stream",
     "text": [
      "1\n",
      "2\n",
      "3\n",
      "4\n"
     ]
    }
   ],
   "source": [
    "li = [1,2,3,4]\n",
    "\n",
    "for i in li:\n",
    "    print(i)"
   ]
  },
  {
   "cell_type": "code",
   "execution_count": 10,
   "id": "5257b26c-9b78-42f3-b757-cf7dd1e6a518",
   "metadata": {},
   "outputs": [
    {
     "name": "stdout",
     "output_type": "stream",
     "text": [
      "1\n",
      "2\n",
      "3\n",
      "4\n"
     ]
    }
   ],
   "source": [
    "tup = (1,2,3,4)\n",
    "\n",
    "for i in tup:\n",
    "    print(i)"
   ]
  },
  {
   "cell_type": "code",
   "execution_count": 11,
   "id": "b68668b2-a475-4758-813f-ea79cfdb685d",
   "metadata": {},
   "outputs": [
    {
     "name": "stdout",
     "output_type": "stream",
     "text": [
      "(1, 2)\n",
      "(2, 3)\n",
      "(4, 5)\n"
     ]
    }
   ],
   "source": [
    "l = [(1,2),(2,3),(4,5)]\n",
    "\n",
    "for i in l:\n",
    "    print(i)"
   ]
  },
  {
   "cell_type": "code",
   "execution_count": 16,
   "id": "795d7f45-a9de-4318-9b28-596f1dc92ef7",
   "metadata": {},
   "outputs": [
    {
     "name": "stdout",
     "output_type": "stream",
     "text": [
      "1\n",
      "2\n",
      "2\n",
      "3\n",
      "4\n",
      "5\n"
     ]
    }
   ],
   "source": [
    "# Tuple Unpacking\n",
    "\n",
    "for a,b in l:\n",
    "    print(a)\n",
    "    print(b)"
   ]
  },
  {
   "cell_type": "code",
   "execution_count": 20,
   "id": "379775aa-8089-4711-8c36-8eda3bd908d3",
   "metadata": {},
   "outputs": [
    {
     "name": "stdout",
     "output_type": "stream",
     "text": [
      "K1\n",
      "K2\n",
      "K3\n"
     ]
    }
   ],
   "source": [
    "di = {\"K1\":\"V1\", \"K2\":\"V2\",\"K3\":\"V3\"}\n",
    "\n",
    "for i in di:\n",
    "    print(i)   #print only keys"
   ]
  },
  {
   "cell_type": "code",
   "execution_count": 21,
   "id": "4f762dd0-c260-4e13-8e4c-663c9494fb2e",
   "metadata": {},
   "outputs": [
    {
     "name": "stdout",
     "output_type": "stream",
     "text": [
      "('K1', 'V1')\n",
      "('K2', 'V2')\n",
      "('K3', 'V3')\n"
     ]
    }
   ],
   "source": [
    "for i in di.items():\n",
    "    print(i)  #print both keys and values"
   ]
  },
  {
   "cell_type": "code",
   "execution_count": 19,
   "id": "32072da9-5fc1-416f-a2b6-6e7dcbfe3636",
   "metadata": {},
   "outputs": [
    {
     "name": "stdout",
     "output_type": "stream",
     "text": [
      "V1\n",
      "V2\n",
      "V3\n"
     ]
    }
   ],
   "source": [
    "for i in di.values():\n",
    "    print(i)"
   ]
  },
  {
   "cell_type": "code",
   "execution_count": 25,
   "id": "aa6af9f6-4043-40f3-bd6d-e7a9f9846273",
   "metadata": {},
   "outputs": [
    {
     "name": "stdout",
     "output_type": "stream",
     "text": [
      "0\n",
      "1\n",
      "2\n",
      "3\n",
      "4\n",
      "5\n",
      "6\n",
      "7\n",
      "8\n",
      "9\n",
      "x is greater than 10\n"
     ]
    }
   ],
   "source": [
    "x =0\n",
    "\n",
    "while x < 10:\n",
    "    print(x)\n",
    "    x+=1\n",
    "else:\n",
    "    print(\"x is greater than 10\")"
   ]
  },
  {
   "cell_type": "code",
   "execution_count": 32,
   "id": "c6d13add-ef53-48d7-be20-dedc679e7730",
   "metadata": {},
   "outputs": [
    {
     "name": "stdout",
     "output_type": "stream",
     "text": [
      "END\n"
     ]
    }
   ],
   "source": [
    "y =[1,2,3]\n",
    "\n",
    "for i in y:\n",
    "    pass\n",
    "\n",
    "print(\"END\")"
   ]
  },
  {
   "cell_type": "code",
   "execution_count": 38,
   "id": "d94d3de2-5273-4276-89f1-69fb85226356",
   "metadata": {},
   "outputs": [
    {
     "name": "stdout",
     "output_type": "stream",
     "text": [
      "P\n",
      "R\n",
      "E\n",
      "E\n",
      "T\n",
      "H\n"
     ]
    }
   ],
   "source": [
    "mystr= \"SAMPREETH\"\n",
    "\n",
    "for letter in mystr:\n",
    "    if letter == 'S' or letter == 'A' or letter == 'M':\n",
    "        continue\n",
    "    print(letter)"
   ]
  },
  {
   "cell_type": "code",
   "execution_count": 39,
   "id": "0d80a55c-4c24-4640-a43e-31615369580d",
   "metadata": {},
   "outputs": [
    {
     "name": "stdout",
     "output_type": "stream",
     "text": [
      "S\n",
      "A\n",
      "M\n"
     ]
    }
   ],
   "source": [
    "for letter in mystr:\n",
    "    if letter == 'P':\n",
    "        break\n",
    "    print(letter)\n",
    "        "
   ]
  },
  {
   "cell_type": "code",
   "execution_count": 48,
   "id": "09f91510-b3c1-4171-9007-dceaff92bbd6",
   "metadata": {},
   "outputs": [
    {
     "name": "stdout",
     "output_type": "stream",
     "text": [
      "0\n",
      "1\n",
      "2\n",
      "3\n",
      "4\n"
     ]
    }
   ],
   "source": [
    " z = 0\n",
    "\n",
    "while z < 10:\n",
    "    if z == 5:\n",
    "       break\n",
    "    print(z)\n",
    "    z+=1"
   ]
  },
  {
   "cell_type": "code",
   "execution_count": 51,
   "id": "80efc36a-ef29-482d-88b4-4e676f53e144",
   "metadata": {},
   "outputs": [
    {
     "name": "stdout",
     "output_type": "stream",
     "text": [
      "0\n",
      "2\n",
      "4\n",
      "6\n",
      "8\n"
     ]
    }
   ],
   "source": [
    "for i in range(0,10,2):\n",
    "    print(i)"
   ]
  },
  {
   "cell_type": "code",
   "execution_count": 53,
   "id": "b71af5d5-b40b-48aa-832e-f106a13c05d7",
   "metadata": {},
   "outputs": [
    {
     "data": {
      "text/plain": [
       "[1, 5, 9, 13, 17]"
      ]
     },
     "execution_count": 53,
     "metadata": {},
     "output_type": "execute_result"
    }
   ],
   "source": [
    "list(range(1,20,4))"
   ]
  },
  {
   "cell_type": "code",
   "execution_count": 57,
   "id": "57f42329-6745-4f99-bdbf-b0cc48667088",
   "metadata": {},
   "outputs": [
    {
     "name": "stdout",
     "output_type": "stream",
     "text": [
      "At index 0 the letter is a \n",
      "At index 1 the letter is b \n",
      "At index 2 the letter is c \n",
      "At index 3 the letter is d \n",
      "At index 4 the letter is e \n"
     ]
    }
   ],
   "source": [
    "index_count = 0\n",
    "\n",
    "for letter in 'abcde':\n",
    "    print(\"At index {} the letter is {} \".format(index_count,letter))\n",
    "    index_count+=1"
   ]
  },
  {
   "cell_type": "code",
   "execution_count": 63,
   "id": "9bce0b19-c8bc-4e36-8d7c-9d86e4be95a8",
   "metadata": {},
   "outputs": [
    {
     "name": "stdout",
     "output_type": "stream",
     "text": [
      "(0, 'H')\n",
      "(1, 'e')\n",
      "(2, 'l')\n",
      "(3, 'l')\n",
      "(4, 'o')\n"
     ]
    }
   ],
   "source": [
    "index = 0\n",
    "word = \"Hello\"\n",
    "\n",
    "for letter in enumerate(word):\n",
    " \n",
    "    print(letter)\n",
    "   "
   ]
  },
  {
   "cell_type": "code",
   "execution_count": 64,
   "id": "85cdc349-e5ad-4a1a-a4be-65a18271fe08",
   "metadata": {},
   "outputs": [
    {
     "name": "stdout",
     "output_type": "stream",
     "text": [
      "0 H \n",
      "\n",
      "1 e \n",
      "\n",
      "2 l \n",
      "\n",
      "3 l \n",
      "\n",
      "4 o \n",
      "\n"
     ]
    }
   ],
   "source": [
    "for index,letter in enumerate(word):\n",
    "    print(index,letter,\"\\n\")"
   ]
  },
  {
   "cell_type": "code",
   "execution_count": 65,
   "id": "0b5360e2-28fd-45a8-88e0-dd251c462987",
   "metadata": {},
   "outputs": [
    {
     "data": {
      "text/plain": [
       "<zip at 0x241ecdb7bc0>"
      ]
     },
     "execution_count": 65,
     "metadata": {},
     "output_type": "execute_result"
    }
   ],
   "source": [
    "l1 = [1,2,3,4]\n",
    "l2 = ['a','b','c']\n",
    "\n",
    "zip(l1,l2)"
   ]
  },
  {
   "cell_type": "code",
   "execution_count": 66,
   "id": "d33a130b-e10d-444e-bd1c-04812bca173c",
   "metadata": {},
   "outputs": [
    {
     "name": "stdout",
     "output_type": "stream",
     "text": [
      "(1, 'a')\n",
      "(2, 'b')\n",
      "(3, 'c')\n"
     ]
    }
   ],
   "source": [
    "for item in zip(l1,l2):\n",
    "    print(item)"
   ]
  },
  {
   "cell_type": "code",
   "execution_count": 67,
   "id": "205c2a36-1fd5-425c-8107-6151e512e37d",
   "metadata": {},
   "outputs": [
    {
     "data": {
      "text/plain": [
       "[(1, 'a'), (2, 'b'), (3, 'c')]"
      ]
     },
     "execution_count": 67,
     "metadata": {},
     "output_type": "execute_result"
    }
   ],
   "source": [
    "list(zip(l1,l2))"
   ]
  },
  {
   "cell_type": "code",
   "execution_count": 71,
   "id": "b7dffed5-de9d-4d4f-ab0e-646e5874c25a",
   "metadata": {},
   "outputs": [
    {
     "name": "stdout",
     "output_type": "stream",
     "text": [
      "1\n",
      "a\n",
      "2\n",
      "b\n",
      "3\n",
      "c\n"
     ]
    }
   ],
   "source": [
    "for a,b in zip(l1,l2):\n",
    "    print(a)\n",
    "    print(b)"
   ]
  },
  {
   "cell_type": "code",
   "execution_count": 72,
   "id": "e5f43b36-af21-4c42-ac37-453d25e8c98f",
   "metadata": {},
   "outputs": [
    {
     "data": {
      "text/plain": [
       "False"
      ]
     },
     "execution_count": 72,
     "metadata": {},
     "output_type": "execute_result"
    }
   ],
   "source": [
    "'x' in [1,2,3]"
   ]
  },
  {
   "cell_type": "code",
   "execution_count": 73,
   "id": "de07ac73-af1f-468e-869d-131f6832d862",
   "metadata": {},
   "outputs": [
    {
     "data": {
      "text/plain": [
       "True"
      ]
     },
     "execution_count": 73,
     "metadata": {},
     "output_type": "execute_result"
    }
   ],
   "source": [
    "'x' in ['x','u']"
   ]
  },
  {
   "cell_type": "code",
   "execution_count": 74,
   "id": "5d354a0f-aab4-45a0-8bd3-997b0a084a34",
   "metadata": {},
   "outputs": [
    {
     "data": {
      "text/plain": [
       "False"
      ]
     },
     "execution_count": 74,
     "metadata": {},
     "output_type": "execute_result"
    }
   ],
   "source": [
    "'a' in \"World\""
   ]
  },
  {
   "cell_type": "code",
   "execution_count": 76,
   "id": "cc034795-43d1-4908-be43-e612c6c8251d",
   "metadata": {},
   "outputs": [
    {
     "data": {
      "text/plain": [
       "True"
      ]
     },
     "execution_count": 76,
     "metadata": {},
     "output_type": "execute_result"
    }
   ],
   "source": [
    "'mykey' in {'mykey':23}\n"
   ]
  },
  {
   "cell_type": "code",
   "execution_count": 78,
   "id": "125bb286-ce58-4560-8c85-f0cfe33570a8",
   "metadata": {},
   "outputs": [
    {
     "data": {
      "text/plain": [
       "True"
      ]
     },
     "execution_count": 78,
     "metadata": {},
     "output_type": "execute_result"
    }
   ],
   "source": [
    "d = {'mykey':23}\n",
    "\n",
    "23 in d.values()"
   ]
  },
  {
   "cell_type": "code",
   "execution_count": 81,
   "id": "f97d86d9-71a7-4250-9f68-bc21bd7aea77",
   "metadata": {},
   "outputs": [
    {
     "data": {
      "text/plain": [
       "10"
      ]
     },
     "execution_count": 81,
     "metadata": {},
     "output_type": "execute_result"
    }
   ],
   "source": [
    "ll = [10,20,30,40,50]\n",
    "min(ll)"
   ]
  },
  {
   "cell_type": "code",
   "execution_count": 82,
   "id": "df1ec377-44b8-4b62-9e3c-552010a89211",
   "metadata": {},
   "outputs": [
    {
     "data": {
      "text/plain": [
       "50"
      ]
     },
     "execution_count": 82,
     "metadata": {},
     "output_type": "execute_result"
    }
   ],
   "source": [
    "max(ll)"
   ]
  },
  {
   "cell_type": "code",
   "execution_count": 83,
   "id": "559f5978-8310-424e-a83f-8b0709b5a267",
   "metadata": {},
   "outputs": [],
   "source": [
    "from random import shuffle"
   ]
  },
  {
   "cell_type": "code",
   "execution_count": 86,
   "id": "e0a0e968-2ff2-4c39-aa27-39bae4b44031",
   "metadata": {},
   "outputs": [
    {
     "data": {
      "text/plain": [
       "[40, 10, 20, 30, 50]"
      ]
     },
     "execution_count": 86,
     "metadata": {},
     "output_type": "execute_result"
    }
   ],
   "source": [
    "shuffle(ll)\n",
    "ll"
   ]
  },
  {
   "cell_type": "code",
   "execution_count": 87,
   "id": "8cc87116-93fe-490a-9c3b-037c25d01ec1",
   "metadata": {},
   "outputs": [
    {
     "data": {
      "text/plain": [
       "84"
      ]
     },
     "execution_count": 87,
     "metadata": {},
     "output_type": "execute_result"
    }
   ],
   "source": [
    "from random import randint\n",
    "\n",
    "randint(0,99)"
   ]
  },
  {
   "cell_type": "code",
   "execution_count": 90,
   "id": "ffb6e37c-ac5e-4db7-9819-74dceb59a62b",
   "metadata": {},
   "outputs": [
    {
     "name": "stdin",
     "output_type": "stream",
     "text": [
      "ENter anything here hhhh\n"
     ]
    }
   ],
   "source": [
    "result = input(\"ENter anything here\")"
   ]
  },
  {
   "cell_type": "code",
   "execution_count": 91,
   "id": "720eea32-a080-4efd-b73b-3993b9024c96",
   "metadata": {},
   "outputs": [
    {
     "data": {
      "text/plain": [
       "'hhhh'"
      ]
     },
     "execution_count": 91,
     "metadata": {},
     "output_type": "execute_result"
    }
   ],
   "source": [
    "result"
   ]
  },
  {
   "cell_type": "code",
   "execution_count": 98,
   "id": "4e6ef60b-b52f-4bc1-a7db-f5792b886c8c",
   "metadata": {},
   "outputs": [
    {
     "data": {
      "text/plain": [
       "str"
      ]
     },
     "execution_count": 98,
     "metadata": {},
     "output_type": "execute_result"
    }
   ],
   "source": [
    "# Always take input as a String and later convert to whatever type we want\n",
    "\n",
    "type(result)\n"
   ]
  },
  {
   "cell_type": "code",
   "execution_count": 100,
   "id": "e87bb76e-ebf7-41e7-adee-0dbcc04cba5b",
   "metadata": {},
   "outputs": [
    {
     "name": "stdin",
     "output_type": "stream",
     "text": [
      "Enter a NUmber 44\n"
     ]
    }
   ],
   "source": [
    "r = int(input(\"Enter a NUmber\"))"
   ]
  },
  {
   "cell_type": "code",
   "execution_count": 101,
   "id": "2d2d38fe-7409-4c51-b6b8-e7e17225111e",
   "metadata": {},
   "outputs": [
    {
     "data": {
      "text/plain": [
       "44"
      ]
     },
     "execution_count": 101,
     "metadata": {},
     "output_type": "execute_result"
    }
   ],
   "source": [
    "r"
   ]
  },
  {
   "cell_type": "code",
   "execution_count": 102,
   "id": "7f45a8ae-aecd-4bae-af5c-152195e18ec0",
   "metadata": {},
   "outputs": [
    {
     "data": {
      "text/plain": [
       "44.0"
      ]
     },
     "execution_count": 102,
     "metadata": {},
     "output_type": "execute_result"
    }
   ],
   "source": [
    "float(r)"
   ]
  },
  {
   "cell_type": "code",
   "execution_count": 103,
   "id": "595f5006-965f-44b8-8e13-1809ca6a008d",
   "metadata": {},
   "outputs": [
    {
     "data": {
      "text/plain": [
       "'44'"
      ]
     },
     "execution_count": 103,
     "metadata": {},
     "output_type": "execute_result"
    }
   ],
   "source": [
    "str(r)"
   ]
  },
  {
   "cell_type": "code",
   "execution_count": 104,
   "id": "8d3a07e0-adc4-4651-85c7-71d2d6f39bde",
   "metadata": {},
   "outputs": [
    {
     "data": {
      "text/plain": [
       "True"
      ]
     },
     "execution_count": 104,
     "metadata": {},
     "output_type": "execute_result"
    }
   ],
   "source": [
    "bool(r)"
   ]
  },
  {
   "cell_type": "code",
   "execution_count": 115,
   "id": "cc38eecd-40b8-4017-be7a-503d3134afa0",
   "metadata": {},
   "outputs": [
    {
     "data": {
      "text/plain": [
       "['H', 'E', 'l', 'l', 'O']"
      ]
     },
     "execution_count": 115,
     "metadata": {},
     "output_type": "execute_result"
    }
   ],
   "source": [
    "string = \"HEllO\"\n",
    "ml = [letter for letter in string]\n",
    "ml\n"
   ]
  },
  {
   "cell_type": "code",
   "execution_count": 112,
   "id": "a17907c7-3719-4ab1-8971-0c7b5f6e441e",
   "metadata": {},
   "outputs": [
    {
     "data": {
      "text/plain": [
       "[1, 4, 9, 16, 25, 36, 49, 64, 81, 100]"
      ]
     },
     "execution_count": 112,
     "metadata": {},
     "output_type": "execute_result"
    }
   ],
   "source": [
    "square = [num*num for num in range(1,11)]\n",
    "square"
   ]
  },
  {
   "cell_type": "code",
   "execution_count": 114,
   "id": "923b4e1f-eac6-4218-a357-f3466d45ee02",
   "metadata": {},
   "outputs": [
    {
     "data": {
      "text/plain": [
       "[1, 8, 27, 64, 125, 216, 343, 512, 729, 1000]"
      ]
     },
     "execution_count": 114,
     "metadata": {},
     "output_type": "execute_result"
    }
   ],
   "source": [
    "cube = [num*num*num for num in range(1,11)]\n",
    "cube"
   ]
  },
  {
   "cell_type": "code",
   "execution_count": 118,
   "id": "e261924a-bb0b-49e0-a31c-9508dcb48b79",
   "metadata": {},
   "outputs": [
    {
     "data": {
      "text/plain": [
       "'[1, 8, 27, 64, 125, 216, 343, 512, 729, 1000]'"
      ]
     },
     "execution_count": 118,
     "metadata": {},
     "output_type": "execute_result"
    }
   ],
   "source": [
    "str(cube)\n",
    "    "
   ]
  },
  {
   "cell_type": "code",
   "execution_count": 119,
   "id": "19b66568-da5c-41c1-a0e6-e4755c19d9af",
   "metadata": {},
   "outputs": [
    {
     "data": {
      "text/plain": [
       "(1, 8, 27, 64, 125, 216, 343, 512, 729, 1000)"
      ]
     },
     "execution_count": 119,
     "metadata": {},
     "output_type": "execute_result"
    }
   ],
   "source": [
    "tuple(cube)"
   ]
  },
  {
   "cell_type": "code",
   "execution_count": 120,
   "id": "4100352f-720e-4e1a-b087-4570b906ab4a",
   "metadata": {},
   "outputs": [
    {
     "data": {
      "text/plain": [
       "{1, 8, 27, 64, 125, 216, 343, 512, 729, 1000}"
      ]
     },
     "execution_count": 120,
     "metadata": {},
     "output_type": "execute_result"
    }
   ],
   "source": [
    "set(cube)"
   ]
  },
  {
   "cell_type": "code",
   "execution_count": 121,
   "id": "38c42121-3035-4940-b953-c6aea1221e71",
   "metadata": {},
   "outputs": [
    {
     "data": {
      "text/plain": [
       "{0: 1, 1: 8, 2: 27, 3: 64, 4: 125, 5: 216, 6: 343, 7: 512, 8: 729, 9: 1000}"
      ]
     },
     "execution_count": 121,
     "metadata": {},
     "output_type": "execute_result"
    }
   ],
   "source": [
    "dict(enumerate(cube))"
   ]
  },
  {
   "cell_type": "code",
   "execution_count": 125,
   "id": "a30030ba-013b-4b0a-8772-6c7ad434c6f2",
   "metadata": {},
   "outputs": [
    {
     "data": {
      "text/plain": [
       "[4, 16, 36, 64, 100]"
      ]
     },
     "execution_count": 125,
     "metadata": {},
     "output_type": "execute_result"
    }
   ],
   "source": [
    "b = [n**2 for n in range(1,11) if n%2 ==0]\n",
    "b"
   ]
  },
  {
   "cell_type": "code",
   "execution_count": 128,
   "id": "860e9e2e-0542-4c65-90ca-880c0f7e2efe",
   "metadata": {},
   "outputs": [
    {
     "data": {
      "text/plain": [
       "[33.8, 73.4, 113.0]"
      ]
     },
     "execution_count": 128,
     "metadata": {},
     "output_type": "execute_result"
    }
   ],
   "source": [
    "celcius = [1,23,45]\n",
    "\n",
    "fahrenheit = [((9/5)*temp + 32) for temp in celcius]\n",
    "fahrenheit"
   ]
  },
  {
   "cell_type": "code",
   "execution_count": 132,
   "id": "ea1e4fb0-2eb3-4f5d-9f1d-d5c4b5f9d290",
   "metadata": {},
   "outputs": [
    {
     "name": "stdout",
     "output_type": "stream",
     "text": [
      "[1, 10, 100, 2, 20, 200, 3, 30, 300]\n"
     ]
    }
   ],
   "source": [
    "# NESTED LIST \n",
    "\n",
    "mylist=[]\n",
    "\n",
    "for i in [1,2,3]:\n",
    "    for j in [1,10,100]:\n",
    "        mylist.append(i*j)\n",
    "\n",
    "print(mylist)"
   ]
  },
  {
   "cell_type": "code",
   "execution_count": 135,
   "id": "95448441-667f-4534-b2a7-cf852c4c6d98",
   "metadata": {},
   "outputs": [
    {
     "data": {
      "text/plain": [
       "[1, 10, 100, 2, 20, 200, 3, 30, 300]"
      ]
     },
     "execution_count": 135,
     "metadata": {},
     "output_type": "execute_result"
    }
   ],
   "source": [
    "mylist1 = [x*y for x in [1,2,3] for y in [1,10,100]]\n",
    "mylist1"
   ]
  },
  {
   "cell_type": "code",
   "execution_count": null,
   "id": "92c2e991-308e-4d4d-a958-04e5f9544318",
   "metadata": {},
   "outputs": [],
   "source": []
  }
 ],
 "metadata": {
  "kernelspec": {
   "display_name": "Python 3 (ipykernel)",
   "language": "python",
   "name": "python3"
  },
  "language_info": {
   "codemirror_mode": {
    "name": "ipython",
    "version": 3
   },
   "file_extension": ".py",
   "mimetype": "text/x-python",
   "name": "python",
   "nbconvert_exporter": "python",
   "pygments_lexer": "ipython3",
   "version": "3.11.7"
  }
 },
 "nbformat": 4,
 "nbformat_minor": 5
}
