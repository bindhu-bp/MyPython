{
 "cells": [
  {
   "cell_type": "code",
   "execution_count": 1,
   "id": "7c2abeb1-ac5d-42cf-adde-367702defdc6",
   "metadata": {},
   "outputs": [
    {
     "data": {
      "text/plain": [
       "list"
      ]
     },
     "execution_count": 1,
     "metadata": {},
     "output_type": "execute_result"
    }
   ],
   "source": [
    "mylist = [1,2,3]\n",
    "type(mylist)"
   ]
  },
  {
   "cell_type": "code",
   "execution_count": 2,
   "id": "c6a609b0-413b-4382-b96b-a3e75ee7555e",
   "metadata": {},
   "outputs": [
    {
     "data": {
      "text/plain": [
       "set"
      ]
     },
     "execution_count": 2,
     "metadata": {},
     "output_type": "execute_result"
    }
   ],
   "source": [
    "myset = set()\n",
    "type(myset)"
   ]
  },
  {
   "cell_type": "code",
   "execution_count": 3,
   "id": "3882149a-cdc0-459c-b3e4-18449abf85ca",
   "metadata": {},
   "outputs": [],
   "source": [
    "class Trainee():\n",
    "    pass"
   ]
  },
  {
   "cell_type": "code",
   "execution_count": 4,
   "id": "0bba1e0f-d605-4ea2-9775-3214080be1fe",
   "metadata": {},
   "outputs": [],
   "source": [
    "instance = Trainee()"
   ]
  },
  {
   "cell_type": "code",
   "execution_count": 5,
   "id": "3918069c-79ee-44b6-9d6b-8ae0e5f48bd5",
   "metadata": {},
   "outputs": [
    {
     "data": {
      "text/plain": [
       "__main__.Trainee"
      ]
     },
     "execution_count": 5,
     "metadata": {},
     "output_type": "execute_result"
    }
   ],
   "source": [
    "type(instance)"
   ]
  },
  {
   "cell_type": "code",
   "execution_count": 62,
   "id": "67c59268-67f0-4ccf-b333-fcb34dabfba8",
   "metadata": {},
   "outputs": [],
   "source": [
    "class Trainee():\n",
    "    dept = \"SE\"\n",
    "    def __init__(self,name,age):\n",
    "        self.name = name\n",
    "        self.old = age\n",
    "\n",
    "    def learn(self,version):\n",
    "        print(\"Learning PYTHON and My Name is {} and version is {}\".format(self.name,version))#use self.name bcz it is connected to instace\n",
    "        "
   ]
  },
  {
   "cell_type": "code",
   "execution_count": 63,
   "id": "5614e38e-ee6a-4a0d-8a34-b485f9712331",
   "metadata": {},
   "outputs": [],
   "source": [
    "var = Trainee(name = \"Bindhu\",age= 22)"
   ]
  },
  {
   "cell_type": "code",
   "execution_count": 64,
   "id": "58e5e98f-1a17-4b96-8631-b938f979f1d2",
   "metadata": {},
   "outputs": [
    {
     "data": {
      "text/plain": [
       "__main__.Trainee"
      ]
     },
     "execution_count": 64,
     "metadata": {},
     "output_type": "execute_result"
    }
   ],
   "source": [
    "type(var)"
   ]
  },
  {
   "cell_type": "code",
   "execution_count": 65,
   "id": "4ab9a433-abbe-4a7e-9fef-86ae4f83368b",
   "metadata": {},
   "outputs": [
    {
     "data": {
      "text/plain": [
       "'Bindhu'"
      ]
     },
     "execution_count": 65,
     "metadata": {},
     "output_type": "execute_result"
    }
   ],
   "source": [
    "var.name\n"
   ]
  },
  {
   "cell_type": "code",
   "execution_count": 66,
   "id": "bfb85f41-31e2-4acd-b377-1c1548c14fb5",
   "metadata": {},
   "outputs": [
    {
     "data": {
      "text/plain": [
       "22"
      ]
     },
     "execution_count": 66,
     "metadata": {},
     "output_type": "execute_result"
    }
   ],
   "source": [
    "var.old"
   ]
  },
  {
   "cell_type": "code",
   "execution_count": 67,
   "id": "d6c3c9c3-8f70-4974-8081-30b9b8131b2d",
   "metadata": {},
   "outputs": [
    {
     "data": {
      "text/plain": [
       "'SE'"
      ]
     },
     "execution_count": 67,
     "metadata": {},
     "output_type": "execute_result"
    }
   ],
   "source": [
    "var.dept\n"
   ]
  },
  {
   "cell_type": "code",
   "execution_count": 68,
   "id": "51fe3b51-166c-4334-b8bc-80efd885780f",
   "metadata": {},
   "outputs": [
    {
     "name": "stdout",
     "output_type": "stream",
     "text": [
      "Learning PYTHON and My Name is Bindhu and version is 3.12\n"
     ]
    }
   ],
   "source": [
    "var.learn(3.12)"
   ]
  },
  {
   "cell_type": "code",
   "execution_count": null,
   "id": "3ad4ae3d-fd22-41af-9dc7-893878da7964",
   "metadata": {},
   "outputs": [],
   "source": []
  },
  {
   "cell_type": "code",
   "execution_count": 85,
   "id": "89f4d052-f37f-408c-8f85-a23832542f70",
   "metadata": {},
   "outputs": [],
   "source": [
    "class Square():\n",
    "    def __init__(self,side):\n",
    "        \n",
    "        self.side = side\n",
    "        self.area = side*side\n",
    "\n",
    "    def get_circumference(self):\n",
    "        return 4*self.side"
   ]
  },
  {
   "cell_type": "code",
   "execution_count": 86,
   "id": "f67ce45b-0490-48ed-bb2f-a668f0c28d2f",
   "metadata": {},
   "outputs": [],
   "source": [
    "sq = Square(5)"
   ]
  },
  {
   "cell_type": "code",
   "execution_count": 87,
   "id": "5bc20a5e-30dc-481c-ae8f-92f8dccbaeef",
   "metadata": {},
   "outputs": [
    {
     "data": {
      "text/plain": [
       "20"
      ]
     },
     "execution_count": 87,
     "metadata": {},
     "output_type": "execute_result"
    }
   ],
   "source": [
    "sq.get_circumference()"
   ]
  },
  {
   "cell_type": "code",
   "execution_count": 88,
   "id": "a322e253-b1c4-48ec-adf6-633f7f6738fe",
   "metadata": {},
   "outputs": [
    {
     "data": {
      "text/plain": [
       "5"
      ]
     },
     "execution_count": 88,
     "metadata": {},
     "output_type": "execute_result"
    }
   ],
   "source": [
    "sq.side"
   ]
  },
  {
   "cell_type": "code",
   "execution_count": 89,
   "id": "af6b337b-5d53-4268-93e7-a1f09785aad2",
   "metadata": {},
   "outputs": [
    {
     "data": {
      "text/plain": [
       "25"
      ]
     },
     "execution_count": 89,
     "metadata": {},
     "output_type": "execute_result"
    }
   ],
   "source": [
    "sq.area"
   ]
  },
  {
   "cell_type": "code",
   "execution_count": 126,
   "id": "a1b9b68d-83a0-44fe-a835-839e60904804",
   "metadata": {},
   "outputs": [],
   "source": [
    "class Animal():\n",
    "    def __init__(self):\n",
    "        print(\"Animal Created\")\n",
    "    def who_am_i(self):\n",
    "        print(\"I am an Animal\")\n",
    "    def eat(self):\n",
    "        print(\"Animal Eating\")\n",
    "        "
   ]
  },
  {
   "cell_type": "code",
   "execution_count": 127,
   "id": "4fc0dfa1-51cc-4836-a3db-ef32ec16e92c",
   "metadata": {},
   "outputs": [
    {
     "name": "stdout",
     "output_type": "stream",
     "text": [
      "Animal Created\n"
     ]
    }
   ],
   "source": [
    "my_animal = Animal()"
   ]
  },
  {
   "cell_type": "code",
   "execution_count": 128,
   "id": "dfd167f7-3eec-40d2-a086-979a9281aca9",
   "metadata": {},
   "outputs": [
    {
     "name": "stdout",
     "output_type": "stream",
     "text": [
      "I am an Animal\n"
     ]
    }
   ],
   "source": [
    "my_animal.who_am_i()"
   ]
  },
  {
   "cell_type": "code",
   "execution_count": 129,
   "id": "9ae3145f-78dd-4488-b4b4-0280acd9eabb",
   "metadata": {},
   "outputs": [
    {
     "name": "stdout",
     "output_type": "stream",
     "text": [
      "Animal Eating\n"
     ]
    }
   ],
   "source": [
    "my_animal.eat()"
   ]
  },
  {
   "cell_type": "code",
   "execution_count": 142,
   "id": "43e439e6-8828-4368-8edb-0126d7baf006",
   "metadata": {},
   "outputs": [],
   "source": [
    "class Lion(Animal):\n",
    "    def __init__(self):\n",
    "        Animal.__init__(self)\n",
    "        print(\"Lion Created\")\n",
    "\n",
    "    def who_am_i(self):\n",
    "        print(\"I am a Lion\")\n",
    "\n",
    "    def eat(self):\n",
    "        print(\"Lion eating\")\n",
    "\n",
    "    def roar(self):\n",
    "        print(\"Lion Roars\")"
   ]
  },
  {
   "cell_type": "code",
   "execution_count": 143,
   "id": "05eedf0b-4d64-4631-96a7-92f56600a333",
   "metadata": {},
   "outputs": [
    {
     "name": "stdout",
     "output_type": "stream",
     "text": [
      "Animal Created\n",
      "Lion Created\n"
     ]
    }
   ],
   "source": [
    "lion = Lion()"
   ]
  },
  {
   "cell_type": "code",
   "execution_count": 144,
   "id": "20c88d82-63f8-4f16-9e50-abad5cc4fc1b",
   "metadata": {},
   "outputs": [
    {
     "name": "stdout",
     "output_type": "stream",
     "text": [
      "Lion eating\n"
     ]
    }
   ],
   "source": [
    "lion.eat()"
   ]
  },
  {
   "cell_type": "code",
   "execution_count": 145,
   "id": "c000e7d5-ea84-487c-bc2f-88e44560e74c",
   "metadata": {},
   "outputs": [
    {
     "name": "stdout",
     "output_type": "stream",
     "text": [
      "I am a Lion\n"
     ]
    }
   ],
   "source": [
    "lion.who_am_i()"
   ]
  },
  {
   "cell_type": "code",
   "execution_count": 146,
   "id": "f3376062-be29-4284-b717-6be4af4e7d02",
   "metadata": {},
   "outputs": [
    {
     "name": "stdout",
     "output_type": "stream",
     "text": [
      "Lion Roars\n"
     ]
    }
   ],
   "source": [
    "lion.roar()"
   ]
  },
  {
   "cell_type": "code",
   "execution_count": null,
   "id": "7d6fc091-f34d-4572-9d85-d2a01b2efb49",
   "metadata": {},
   "outputs": [],
   "source": []
  },
  {
   "cell_type": "markdown",
   "id": "91fbc174-2948-492d-8c76-1ab0b69e7593",
   "metadata": {},
   "source": [
    "# Polymorphism "
   ]
  },
  {
   "cell_type": "code",
   "execution_count": 188,
   "id": "3f794864-490f-4395-823b-bb2ce0eb47a8",
   "metadata": {},
   "outputs": [],
   "source": [
    "class Dog():\n",
    "    def __init__(self,name):\n",
    "        self.name = name\n",
    "        print(\"Dog Created\")\n",
    "    def speaks(self):\n",
    "        return(self.name + \" Says Bow\")\n",
    "        "
   ]
  },
  {
   "cell_type": "code",
   "execution_count": 189,
   "id": "9e3b9953-4515-48b7-b163-98af2441acc9",
   "metadata": {},
   "outputs": [],
   "source": [
    "class Cat():\n",
    "    def __init__(self,name):\n",
    "        self.name=name\n",
    "        print(\"Cat Created\")\n",
    "    def speaks(self):\n",
    "        return(self.name + \" Says Meow\")"
   ]
  },
  {
   "cell_type": "code",
   "execution_count": 190,
   "id": "84f4576f-a13e-4d1c-86e4-8ffb9dff36e2",
   "metadata": {},
   "outputs": [
    {
     "name": "stdout",
     "output_type": "stream",
     "text": [
      "Dog Created\n",
      "Cat Created\n"
     ]
    }
   ],
   "source": [
    "bruno = Dog(\"Bruno\")\n",
    "faizy = Cat(\"Faizy\")"
   ]
  },
  {
   "cell_type": "code",
   "execution_count": 191,
   "id": "cfc45c38-dbb3-4486-aae5-eb7316d023ec",
   "metadata": {},
   "outputs": [
    {
     "name": "stdout",
     "output_type": "stream",
     "text": [
      "Bruno Says Bow\n"
     ]
    }
   ],
   "source": [
    "print(bruno.speaks())"
   ]
  },
  {
   "cell_type": "code",
   "execution_count": 192,
   "id": "5001238f-86e9-417b-ae59-41be1b2018f7",
   "metadata": {},
   "outputs": [
    {
     "name": "stdout",
     "output_type": "stream",
     "text": [
      "Faizy Says Meow\n"
     ]
    }
   ],
   "source": [
    "print(faizy.speaks())"
   ]
  },
  {
   "cell_type": "code",
   "execution_count": 193,
   "id": "0e6953da-911a-4523-8a84-5f60e8f11bbb",
   "metadata": {},
   "outputs": [
    {
     "name": "stdout",
     "output_type": "stream",
     "text": [
      "<class '__main__.Dog'>\n",
      "Bruno Says Bow\n",
      "<class '__main__.Cat'>\n",
      "Faizy Says Meow\n"
     ]
    }
   ],
   "source": [
    "for pet in [bruno,faizy]:\n",
    "    print(type(pet))\n",
    "    print(pet.speaks())"
   ]
  },
  {
   "cell_type": "code",
   "execution_count": 194,
   "id": "bd01f673-8f6e-4967-b295-74199658c141",
   "metadata": {},
   "outputs": [],
   "source": [
    "def pet_speaks(pet):\n",
    "    print(pet.speaks())"
   ]
  },
  {
   "cell_type": "code",
   "execution_count": 195,
   "id": "7963c217-7df6-4fa7-bb91-ef86949b7401",
   "metadata": {},
   "outputs": [
    {
     "name": "stdout",
     "output_type": "stream",
     "text": [
      "Bruno Says Bow\n"
     ]
    }
   ],
   "source": [
    "pet_speaks(bruno)"
   ]
  },
  {
   "cell_type": "code",
   "execution_count": 196,
   "id": "542b9774-3da6-413d-afe3-85299fb3bf93",
   "metadata": {},
   "outputs": [
    {
     "name": "stdout",
     "output_type": "stream",
     "text": [
      "Faizy Says Meow\n"
     ]
    }
   ],
   "source": [
    "pet_speaks(faizy)"
   ]
  },
  {
   "cell_type": "code",
   "execution_count": 199,
   "id": "d14c2a41-be04-477a-9dfe-89373131a7a0",
   "metadata": {},
   "outputs": [],
   "source": [
    "class Animal():\n",
    "    def __init__(self,name):\n",
    "        self.name = name\n",
    "    def speak(self):\n",
    "        raise NotImplementedError(\"SubClass Must implenment this abstract method\")"
   ]
  },
  {
   "cell_type": "code",
   "execution_count": 203,
   "id": "951b8d6c-52e0-46e7-a110-554051cc817a",
   "metadata": {},
   "outputs": [],
   "source": [
    "animal = Animal(\"Lion\")"
   ]
  },
  {
   "cell_type": "code",
   "execution_count": 204,
   "id": "5701e13b-021e-4575-88fb-c18226c7ad05",
   "metadata": {},
   "outputs": [
    {
     "ename": "NotImplementedError",
     "evalue": "SubClass Must implenment this abstract method",
     "output_type": "error",
     "traceback": [
      "\u001b[1;31m---------------------------------------------------------------------------\u001b[0m",
      "\u001b[1;31mNotImplementedError\u001b[0m                       Traceback (most recent call last)",
      "Cell \u001b[1;32mIn[204], line 1\u001b[0m\n\u001b[1;32m----> 1\u001b[0m animal\u001b[38;5;241m.\u001b[39mspeak()\n",
      "Cell \u001b[1;32mIn[199], line 5\u001b[0m, in \u001b[0;36mAnimal.speak\u001b[1;34m(self)\u001b[0m\n\u001b[0;32m      4\u001b[0m \u001b[38;5;28;01mdef\u001b[39;00m \u001b[38;5;21mspeak\u001b[39m(\u001b[38;5;28mself\u001b[39m):\n\u001b[1;32m----> 5\u001b[0m     \u001b[38;5;28;01mraise\u001b[39;00m \u001b[38;5;167;01mNotImplementedError\u001b[39;00m(\u001b[38;5;124m\"\u001b[39m\u001b[38;5;124mSubClass Must implenment this abstract method\u001b[39m\u001b[38;5;124m\"\u001b[39m)\n",
      "\u001b[1;31mNotImplementedError\u001b[0m: SubClass Must implenment this abstract method"
     ]
    }
   ],
   "source": [
    "animal.speak()"
   ]
  },
  {
   "cell_type": "code",
   "execution_count": 206,
   "id": "926a38d3-5fea-4d7a-b903-a3b36cfae79b",
   "metadata": {},
   "outputs": [],
   "source": [
    "class Dog(Animal):\n",
    "    def speak(self):\n",
    "        return self.name+\" says Bow\""
   ]
  },
  {
   "cell_type": "code",
   "execution_count": 207,
   "id": "343bd1d5-4994-4300-873b-a12ff45a3f95",
   "metadata": {},
   "outputs": [],
   "source": [
    "class Cat(Animal):\n",
    "    def speak(self):\n",
    "        return self.name+\" says MEOW!\""
   ]
  },
  {
   "cell_type": "code",
   "execution_count": 208,
   "id": "a3df0b06-b71a-4ae3-9c34-8b5b2cfa1f4e",
   "metadata": {},
   "outputs": [],
   "source": [
    "fido = Dog(\"Fido\")\n",
    "isis = Cat(\"ISIS\")"
   ]
  },
  {
   "cell_type": "code",
   "execution_count": 209,
   "id": "d0069900-2cd7-4622-81ae-d42817e49c22",
   "metadata": {},
   "outputs": [
    {
     "data": {
      "text/plain": [
       "'Fido says Bow'"
      ]
     },
     "execution_count": 209,
     "metadata": {},
     "output_type": "execute_result"
    }
   ],
   "source": [
    "fido.speak()"
   ]
  },
  {
   "cell_type": "code",
   "execution_count": 210,
   "id": "6d3aa764-5ccc-4f90-b4ef-2f407a6aefa6",
   "metadata": {},
   "outputs": [
    {
     "data": {
      "text/plain": [
       "'ISIS says MEOW!'"
      ]
     },
     "execution_count": 210,
     "metadata": {},
     "output_type": "execute_result"
    }
   ],
   "source": [
    "isis.speak()"
   ]
  },
  {
   "cell_type": "markdown",
   "id": "db582dd5-d140-4609-a255-2233c17ea37f",
   "metadata": {},
   "source": []
  },
  {
   "cell_type": "code",
   "execution_count": null,
   "id": "c842b4c4-8a5d-46fc-914d-fb0a6ea4f9da",
   "metadata": {},
   "outputs": [],
   "source": []
  },
  {
   "cell_type": "markdown",
   "id": "23ac9818-cbc2-4768-8caf-d916ac59f31e",
   "metadata": {},
   "source": [
    "# SPECIAL METHODS"
   ]
  },
  {
   "cell_type": "code",
   "execution_count": 233,
   "id": "8e3d2877-a0bf-4472-be78-478eba00d388",
   "metadata": {},
   "outputs": [],
   "source": [
    "class Book():\n",
    "    def __init__(self,title,author,pages):\n",
    "        self.title = title\n",
    "        self.author = author\n",
    "        self.pages = pages\n",
    "        \n",
    "    def __str__(self):\n",
    "        return f\"{self.title} by {self.author}\"\n",
    "\n",
    "    def __len__(self):\n",
    "        return self.pages\n",
    "\n",
    "    def __del__(self):\n",
    "        print(\"Book Object has been deleted\")"
   ]
  },
  {
   "cell_type": "code",
   "execution_count": 234,
   "id": "6e62bfd7-d3ec-486b-8c1b-0a0fff47f988",
   "metadata": {},
   "outputs": [],
   "source": [
    "book = Book(\"Think like a Monk\",\"Jay Shetty\",200)"
   ]
  },
  {
   "cell_type": "code",
   "execution_count": 235,
   "id": "ef10cafa-7ea2-40a4-9a12-7ec5463d7b48",
   "metadata": {},
   "outputs": [
    {
     "name": "stdout",
     "output_type": "stream",
     "text": [
      "Think like a Monk by Jay Shetty\n"
     ]
    }
   ],
   "source": [
    "print(book)"
   ]
  },
  {
   "cell_type": "code",
   "execution_count": 236,
   "id": "55a005b9-8d4a-4686-b760-5e168c8ced8f",
   "metadata": {},
   "outputs": [
    {
     "data": {
      "text/plain": [
       "'Think like a Monk by Jay Shetty'"
      ]
     },
     "execution_count": 236,
     "metadata": {},
     "output_type": "execute_result"
    }
   ],
   "source": [
    "str(book)"
   ]
  },
  {
   "cell_type": "code",
   "execution_count": 237,
   "id": "67721280-4cea-4ff9-bf0e-e9617828a724",
   "metadata": {},
   "outputs": [
    {
     "data": {
      "text/plain": [
       "200"
      ]
     },
     "execution_count": 237,
     "metadata": {},
     "output_type": "execute_result"
    }
   ],
   "source": [
    "len(book)"
   ]
  },
  {
   "cell_type": "code",
   "execution_count": 238,
   "id": "fa393210-e73f-45c5-81c4-cecb8bc605ce",
   "metadata": {},
   "outputs": [
    {
     "name": "stdout",
     "output_type": "stream",
     "text": [
      "Book Object has been deleted\n"
     ]
    }
   ],
   "source": [
    "del book"
   ]
  },
  {
   "cell_type": "code",
   "execution_count": 240,
   "id": "5a22fbfa-2b03-4ea0-a3fc-a0ed84076360",
   "metadata": {},
   "outputs": [
    {
     "ename": "NameError",
     "evalue": "name 'book' is not defined",
     "output_type": "error",
     "traceback": [
      "\u001b[1;31m---------------------------------------------------------------------------\u001b[0m",
      "\u001b[1;31mNameError\u001b[0m                                 Traceback (most recent call last)",
      "Cell \u001b[1;32mIn[240], line 1\u001b[0m\n\u001b[1;32m----> 1\u001b[0m book\n",
      "\u001b[1;31mNameError\u001b[0m: name 'book' is not defined"
     ]
    }
   ],
   "source": [
    "book # After delete "
   ]
  },
  {
   "cell_type": "code",
   "execution_count": null,
   "id": "574bf16d-f342-4dfb-95e8-ee6f8e24b9f2",
   "metadata": {},
   "outputs": [],
   "source": []
  },
  {
   "cell_type": "code",
   "execution_count": null,
   "id": "141a7f3b-5ae6-4bb2-b682-ded200985cb1",
   "metadata": {},
   "outputs": [],
   "source": []
  },
  {
   "cell_type": "code",
   "execution_count": 1,
   "id": "a0425d1c-c7f7-4692-a520-9ede5dc055c0",
   "metadata": {},
   "outputs": [],
   "source": [
    "\n",
    "class Line():\n",
    "    def __init__(self,co1,co2):\n",
    "        self.co1 = co1\n",
    "        self.co2 = co2\n",
    "    \n",
    "\n",
    "    def distance(self):\n",
    "        x1,y1 = self.co1\n",
    "        x2,y2 = self.co2\n",
    "        return ((x2-x1)**2 + (y2-y1)**2)**0.5\n",
    "\n",
    "    def slope(self):\n",
    "        x1,y1 = self.co1\n",
    "        x2,y2 = self.co2\n",
    "        return (y2-y1) / (x2-x1)\n",
    "        "
   ]
  },
  {
   "cell_type": "code",
   "execution_count": 27,
   "id": "f3ef688f-7289-47d3-88ab-a88c21f028f5",
   "metadata": {},
   "outputs": [],
   "source": [
    "co1 = (3,2)\n",
    "co2 = (4,5)"
   ]
  },
  {
   "cell_type": "code",
   "execution_count": 28,
   "id": "ada8abc2-244e-42ba-856e-086213acc8e2",
   "metadata": {},
   "outputs": [],
   "source": [
    "l = Line(co1,co2)"
   ]
  },
  {
   "cell_type": "code",
   "execution_count": 29,
   "id": "eb5ceec1-0536-4219-93a2-a24a30ee40d7",
   "metadata": {},
   "outputs": [
    {
     "data": {
      "text/plain": [
       "3.1622776601683795"
      ]
     },
     "execution_count": 29,
     "metadata": {},
     "output_type": "execute_result"
    }
   ],
   "source": [
    "l.distance()"
   ]
  },
  {
   "cell_type": "code",
   "execution_count": 30,
   "id": "8527018b-020c-4154-9e48-ddc597690ace",
   "metadata": {},
   "outputs": [
    {
     "data": {
      "text/plain": [
       "3.0"
      ]
     },
     "execution_count": 30,
     "metadata": {},
     "output_type": "execute_result"
    }
   ],
   "source": [
    "l.slope()\n"
   ]
  },
  {
   "cell_type": "code",
   "execution_count": null,
   "id": "901423b8-2acd-4fdd-b9d7-b3493a765848",
   "metadata": {},
   "outputs": [],
   "source": []
  },
  {
   "cell_type": "code",
   "execution_count": null,
   "id": "00dd9a2f-b3f5-4f7c-b86b-e90d3034ce0e",
   "metadata": {},
   "outputs": [],
   "source": []
  },
  {
   "cell_type": "code",
   "execution_count": 38,
   "id": "58603f37-2243-42aa-ba24-4ebadc00c4bb",
   "metadata": {},
   "outputs": [],
   "source": [
    "class Cyclinder():\n",
    "    pi = 3.142\n",
    "    def __init__(self,height=1,radius=1):\n",
    "        self.height = height\n",
    "        self.radius = radius\n",
    "\n",
    "    def volume(self):\n",
    "        return self.pi * (self.radius)**2 *self.height\n",
    "       \n",
    "\n",
    "    def surface_area(self):\n",
    "        return 2*self.pi*(self.radius)**2 + 2*self.pi*self.radius*self.height"
   ]
  },
  {
   "cell_type": "code",
   "execution_count": 42,
   "id": "a06d7f99-a9d1-4207-8743-ec7d3cfe498d",
   "metadata": {},
   "outputs": [],
   "source": [
    "c = Cyclinder(2,3)"
   ]
  },
  {
   "cell_type": "code",
   "execution_count": 43,
   "id": "b5dd528e-5ec7-47f2-b7fe-1c3f0d47a7f6",
   "metadata": {},
   "outputs": [
    {
     "data": {
      "text/plain": [
       "56.556"
      ]
     },
     "execution_count": 43,
     "metadata": {},
     "output_type": "execute_result"
    }
   ],
   "source": [
    "c.volume()"
   ]
  },
  {
   "cell_type": "code",
   "execution_count": 44,
   "id": "2d94a585-a509-4032-8957-9754f3b73bf9",
   "metadata": {},
   "outputs": [
    {
     "data": {
      "text/plain": [
       "94.25999999999999"
      ]
     },
     "execution_count": 44,
     "metadata": {},
     "output_type": "execute_result"
    }
   ],
   "source": [
    "c.surface_area()"
   ]
  },
  {
   "cell_type": "code",
   "execution_count": null,
   "id": "8ed42e0c-355a-4b38-ab9e-5c2d05c8634b",
   "metadata": {},
   "outputs": [],
   "source": []
  },
  {
   "cell_type": "code",
   "execution_count": null,
   "id": "ff4675ef-d201-4e21-8bac-5aa92072c1d2",
   "metadata": {},
   "outputs": [],
   "source": []
  }
 ],
 "metadata": {
  "kernelspec": {
   "display_name": "Python 3 (ipykernel)",
   "language": "python",
   "name": "python3"
  },
  "language_info": {
   "codemirror_mode": {
    "name": "ipython",
    "version": 3
   },
   "file_extension": ".py",
   "mimetype": "text/x-python",
   "name": "python",
   "nbconvert_exporter": "python",
   "pygments_lexer": "ipython3",
   "version": "3.11.7"
  }
 },
 "nbformat": 4,
 "nbformat_minor": 5
}
