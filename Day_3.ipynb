{
 "cells": [
  {
   "cell_type": "code",
   "execution_count": 1,
   "id": "670f32e7-d313-4e3a-97de-0588f3014955",
   "metadata": {},
   "outputs": [],
   "source": [
    "#Errors and Exception Handling\n",
    "def add(n1,n2):\n",
    "    print(n1 + n2)"
   ]
  },
  {
   "cell_type": "code",
   "execution_count": 2,
   "id": "b4720174-7544-4acf-aa7e-0ca25ae57ae2",
   "metadata": {},
   "outputs": [
    {
     "name": "stdout",
     "output_type": "stream",
     "text": [
      "12\n"
     ]
    }
   ],
   "source": [
    "add(10,2)"
   ]
  },
  {
   "cell_type": "code",
   "execution_count": 3,
   "id": "77bfd381-2b4c-4a46-b423-5dad59a992fa",
   "metadata": {},
   "outputs": [
    {
     "name": "stdin",
     "output_type": "stream",
     "text": [
      "Enter a number 66\n"
     ]
    }
   ],
   "source": [
    "n1=12\n",
    "n2=input(\"Enter a number\")"
   ]
  },
  {
   "cell_type": "code",
   "execution_count": 5,
   "id": "c3ac1342-28d8-448a-b86c-782f76f929a9",
   "metadata": {},
   "outputs": [
    {
     "ename": "TypeError",
     "evalue": "unsupported operand type(s) for +: 'int' and 'str'",
     "output_type": "error",
     "traceback": [
      "\u001b[1;31m---------------------------------------------------------------------------\u001b[0m",
      "\u001b[1;31mTypeError\u001b[0m                                 Traceback (most recent call last)",
      "Cell \u001b[1;32mIn[5], line 1\u001b[0m\n\u001b[1;32m----> 1\u001b[0m add(n1,n2) \u001b[38;5;66;03m# we are trying to int with string thats why it throw TyperError Here\u001b[39;00m\n\u001b[0;32m      2\u001b[0m \u001b[38;5;28mprint\u001b[39m(\u001b[38;5;124m\"\u001b[39m\u001b[38;5;124mSomething Happened!\u001b[39m\u001b[38;5;124m\"\u001b[39m)\n",
      "Cell \u001b[1;32mIn[1], line 3\u001b[0m, in \u001b[0;36madd\u001b[1;34m(n1, n2)\u001b[0m\n\u001b[0;32m      2\u001b[0m \u001b[38;5;28;01mdef\u001b[39;00m \u001b[38;5;21madd\u001b[39m(n1,n2):\n\u001b[1;32m----> 3\u001b[0m     \u001b[38;5;28mprint\u001b[39m(n1 \u001b[38;5;241m+\u001b[39m n2)\n",
      "\u001b[1;31mTypeError\u001b[0m: unsupported operand type(s) for +: 'int' and 'str'"
     ]
    }
   ],
   "source": [
    "add(n1,n2) # we are trying to int with string thats why it throw TyperError Here\n",
    "print(\"Something Happened!\")"
   ]
  },
  {
   "cell_type": "code",
   "execution_count": 11,
   "id": "01b23a01-dcff-44a0-88be-0a2edfdf3ac8",
   "metadata": {},
   "outputs": [
    {
     "name": "stdout",
     "output_type": "stream",
     "text": [
      "Hey Looks like you are adding inCorrectly\n"
     ]
    }
   ],
   "source": [
    "try:\n",
    "    add(n1,n2)\n",
    "except:\n",
    "    print(\"Hey Looks like you are adding inCorrectly\")\n",
    "else:\n",
    "    print(\"Else Block\")"
   ]
  },
  {
   "cell_type": "code",
   "execution_count": 12,
   "id": "fd7a7c05-2562-4bc5-bae7-7a2f6c0ec9ae",
   "metadata": {},
   "outputs": [
    {
     "name": "stdout",
     "output_type": "stream",
     "text": [
      "22\n",
      "Else Block\n"
     ]
    }
   ],
   "source": [
    "try:\n",
    "    add(10,12)\n",
    "except:\n",
    "    print(\"Hey Looks like you are adding inCorrectly\")\n",
    "else:\n",
    "    print(\"Else Block\")"
   ]
  },
  {
   "cell_type": "code",
   "execution_count": 14,
   "id": "163347aa-a2c4-4cfa-a6e6-2a803271f532",
   "metadata": {},
   "outputs": [
    {
     "name": "stdout",
     "output_type": "stream",
     "text": [
      "This will always run\n"
     ]
    }
   ],
   "source": [
    "try:\n",
    "    f = open(\"myfile.txt\",'w')\n",
    "    f.write(\"trying to something in file\")\n",
    "except TypeError:\n",
    "    print(\"This was a typeerror\")\n",
    "finally:\n",
    "    print(\"This will always run\")"
   ]
  },
  {
   "cell_type": "code",
   "execution_count": 16,
   "id": "7010a04d-edec-4fe7-b680-8c356e03205d",
   "metadata": {},
   "outputs": [
    {
     "name": "stdout",
     "output_type": "stream",
     "text": [
      "Some other exception\n",
      "This will always run\n"
     ]
    }
   ],
   "source": [
    "try:\n",
    "    f = open(\"myfile.txt\",'r')\n",
    "    f.write(\"trying to something in file\")\n",
    "except TypeError:\n",
    "    print(\"This was a typeerror\")\n",
    "except:\n",
    "    print(\"Some other exception\")\n",
    "finally:\n",
    "    print(\"This will always run\")"
   ]
  },
  {
   "cell_type": "code",
   "execution_count": 19,
   "id": "fbb1e64b-fb71-4e73-8ed8-0eb0a33a8845",
   "metadata": {},
   "outputs": [],
   "source": [
    "def take_int_input():\n",
    "    try:\n",
    "        res = int(input(\"Enter a nunber : \"))\n",
    "    except:\n",
    "        print(\"Whoop! that is not a number\")\n",
    "    finally:\n",
    "        print(\"Will always exceute\")"
   ]
  },
  {
   "cell_type": "code",
   "execution_count": 20,
   "id": "5069da9e-a22e-4848-b322-9b549e085ee2",
   "metadata": {},
   "outputs": [
    {
     "name": "stdin",
     "output_type": "stream",
     "text": [
      "Enter a nunber :  2\n"
     ]
    },
    {
     "name": "stdout",
     "output_type": "stream",
     "text": [
      "Will always exceute\n"
     ]
    }
   ],
   "source": [
    "take_int_input()"
   ]
  },
  {
   "cell_type": "code",
   "execution_count": 21,
   "id": "bf53bb1f-4a1a-4980-8949-06c0e08327d1",
   "metadata": {},
   "outputs": [
    {
     "name": "stdin",
     "output_type": "stream",
     "text": [
      "Enter a nunber :  english\n"
     ]
    },
    {
     "name": "stdout",
     "output_type": "stream",
     "text": [
      "Whoop! that is not a number\n",
      "Will always exceute\n"
     ]
    }
   ],
   "source": [
    "take_int_input()"
   ]
  },
  {
   "cell_type": "code",
   "execution_count": 4,
   "id": "7ca7d8c0-5cf8-4fae-a263-0cd680e9a853",
   "metadata": {},
   "outputs": [],
   "source": [
    "#TRY WITH WHILE LOOP\n",
    "def take_int_input():\n",
    "    while True:\n",
    "        try:\n",
    "            res = int(input(\"Enter a nunber : \"))\n",
    "        except:\n",
    "            print(\"Whoops! that is not a number\") # If There is a error\n",
    "            continue\n",
    "        else:\n",
    "            print(\"Thank you\") #if there is no error\n",
    "            break\n",
    "        finally:\n",
    "            print(\"Will always exceute\")"
   ]
  },
  {
   "cell_type": "code",
   "execution_count": 5,
   "id": "b592c255-86e0-4e98-969a-5d60872ab1b1",
   "metadata": {},
   "outputs": [
    {
     "name": "stdin",
     "output_type": "stream",
     "text": [
      "Enter a nunber :  1\n"
     ]
    },
    {
     "name": "stdout",
     "output_type": "stream",
     "text": [
      "Thank you\n",
      "Will always exceute\n"
     ]
    }
   ],
   "source": [
    "take_int_input()"
   ]
  },
  {
   "cell_type": "code",
   "execution_count": 6,
   "id": "dfd1f2f7-dcb7-450c-a91b-bcc75df44bed",
   "metadata": {},
   "outputs": [
    {
     "name": "stdin",
     "output_type": "stream",
     "text": [
      "Enter a nunber :  we\n"
     ]
    },
    {
     "name": "stdout",
     "output_type": "stream",
     "text": [
      "Whoops! that is not a number\n",
      "Will always exceute\n"
     ]
    },
    {
     "name": "stdin",
     "output_type": "stream",
     "text": [
      "Enter a nunber :  23\n"
     ]
    },
    {
     "name": "stdout",
     "output_type": "stream",
     "text": [
      "Thank you\n",
      "Will always exceute\n"
     ]
    }
   ],
   "source": [
    "take_int_input()"
   ]
  },
  {
   "cell_type": "code",
   "execution_count": null,
   "id": "ebc3bee7-ba3f-4e38-9678-a5c3142d8604",
   "metadata": {},
   "outputs": [],
   "source": [
    "\n",
    "\n"
   ]
  },
  {
   "cell_type": "code",
   "execution_count": null,
   "id": "507a4ce5-08d2-4e0f-90cf-07da8c86bcb9",
   "metadata": {},
   "outputs": [],
   "source": []
  },
  {
   "cell_type": "code",
   "execution_count": null,
   "id": "bfca3a79-ead4-4da4-86af-69c04ebeab46",
   "metadata": {},
   "outputs": [],
   "source": []
  },
  {
   "cell_type": "markdown",
   "id": "6105b7c4-b906-4e28-a7e8-3827ccea4a9b",
   "metadata": {},
   "source": [
    "# Warm up project"
   ]
  },
  {
   "cell_type": "code",
   "execution_count": 26,
   "id": "d823e7da-6260-4fb7-a44f-163d0a946fcb",
   "metadata": {},
   "outputs": [],
   "source": [
    "#CARD()\n",
    "# Suit, Rank, Value\n",
    "import random\n",
    "\n",
    "suits = ('Hearts','Diamonds','Spades','Clubs')\n",
    "ranks = ('Two','Three','Four','Five','Six','Seven','Eight','Nine','Ten','Jack','Queen','King','Ace')\n",
    "values = {'Two':2,'Three':3,'Four':4,'Five':5,'Six':6,'Seven':7,'Eight':8,'Nine':9,'Ten':10,'Jack':11,'Queen':12,'King':13,'Ace':14}\n"
   ]
  },
  {
   "cell_type": "code",
   "execution_count": 27,
   "id": "e3df41ae-71c0-4f4a-8942-e0bac3081d0f",
   "metadata": {},
   "outputs": [],
   "source": [
    "class Card:\n",
    "    \n",
    "    def __init__(self,suit,rank):\n",
    "        self.suit = suit\n",
    "        self.rank = rank\n",
    "        self.value = values[rank]\n",
    "\n",
    "    def __str__(self):\n",
    "        return self.rank + \" of \" +self.suit"
   ]
  },
  {
   "cell_type": "code",
   "execution_count": 28,
   "id": "4af212a6-7dd4-4769-a0f7-b75a1892c3e7",
   "metadata": {},
   "outputs": [],
   "source": [
    "two_hearts = Card(\"Hearts\",\"Two\")"
   ]
  },
  {
   "cell_type": "code",
   "execution_count": 29,
   "id": "84b24af4-7dbe-4384-b28d-881366b432b5",
   "metadata": {},
   "outputs": [
    {
     "name": "stdout",
     "output_type": "stream",
     "text": [
      "Two of Hearts\n"
     ]
    }
   ],
   "source": [
    "print(two_hearts)"
   ]
  },
  {
   "cell_type": "code",
   "execution_count": 30,
   "id": "38f2ffee-6b4a-4c95-be1d-60f7fce06dfb",
   "metadata": {},
   "outputs": [
    {
     "data": {
      "text/plain": [
       "'Two'"
      ]
     },
     "execution_count": 30,
     "metadata": {},
     "output_type": "execute_result"
    }
   ],
   "source": [
    "two_hearts.rank"
   ]
  },
  {
   "cell_type": "code",
   "execution_count": 31,
   "id": "9e7eec73-1a7f-4156-8aa6-be134740f642",
   "metadata": {},
   "outputs": [
    {
     "data": {
      "text/plain": [
       "'Hearts'"
      ]
     },
     "execution_count": 31,
     "metadata": {},
     "output_type": "execute_result"
    }
   ],
   "source": [
    "two_hearts.suit"
   ]
  },
  {
   "cell_type": "code",
   "execution_count": 32,
   "id": "4bc3eea0-dbd2-4b74-822d-87b771ab91b5",
   "metadata": {},
   "outputs": [],
   "source": [
    "values = {'Two':2,'Three':3,'Four':4,'Five':5,'Six':6,'Seven':7,'Eight':8,'Nine':9,'Ten':10,'Jack':11,'Queen':12,'King':13,'Ace':14}"
   ]
  },
  {
   "cell_type": "code",
   "execution_count": 33,
   "id": "2589fd93-a0ed-416d-aed7-107fa32dc80e",
   "metadata": {},
   "outputs": [
    {
     "data": {
      "text/plain": [
       "2"
      ]
     },
     "execution_count": 33,
     "metadata": {},
     "output_type": "execute_result"
    }
   ],
   "source": [
    "values[two_hearts.rank]"
   ]
  },
  {
   "cell_type": "code",
   "execution_count": 34,
   "id": "d3291a73-3875-493b-9092-f77a595afcf2",
   "metadata": {},
   "outputs": [],
   "source": [
    "three_of_clubs = Card(\"Clubs\", \"Three\")"
   ]
  },
  {
   "cell_type": "code",
   "execution_count": 35,
   "id": "2685fde3-ba1e-4bee-adb5-ee87ef1e18e0",
   "metadata": {},
   "outputs": [
    {
     "data": {
      "text/plain": [
       "3"
      ]
     },
     "execution_count": 35,
     "metadata": {},
     "output_type": "execute_result"
    }
   ],
   "source": [
    "three_of_clubs.value"
   ]
  },
  {
   "cell_type": "code",
   "execution_count": 36,
   "id": "1a1eefe9-7990-48a5-a6ec-d2283f127d49",
   "metadata": {},
   "outputs": [
    {
     "data": {
      "text/plain": [
       "True"
      ]
     },
     "execution_count": 36,
     "metadata": {},
     "output_type": "execute_result"
    }
   ],
   "source": [
    "two_hearts.value < three_of_clubs.value"
   ]
  },
  {
   "cell_type": "code",
   "execution_count": null,
   "id": "5c42657a-b756-4fac-9180-6659816a95b3",
   "metadata": {},
   "outputs": [],
   "source": []
  },
  {
   "cell_type": "code",
   "execution_count": 37,
   "id": "ee6bf913-7346-411a-a97c-1650b1e5d06d",
   "metadata": {},
   "outputs": [],
   "source": [
    "class Deck:\n",
    "    def __init__(self):\n",
    "        \n",
    "        self.all_cards = []\n",
    "\n",
    "        for suit in suits:\n",
    "            for rank in ranks:\n",
    "\n",
    "                created_card = Card(suit,rank)\n",
    "                self.all_cards.append(created_card)\n",
    "\n",
    "    def __str__(self):\n",
    "        return self.rank+ \" of \"+self.suit\n",
    "\n",
    "    \n",
    "    def shuffle(self):\n",
    "        random.shuffle(self.all_cards)\n",
    "\n",
    "    def deal_one(self):\n",
    "        return  self.all_cards.pop()\n",
    "        "
   ]
  },
  {
   "cell_type": "code",
   "execution_count": 38,
   "id": "628e9caf-318f-427c-877c-0fee212decbf",
   "metadata": {},
   "outputs": [],
   "source": [
    "new_deck = Deck()"
   ]
  },
  {
   "cell_type": "code",
   "execution_count": 39,
   "id": "2b99b9f4-1a05-407d-a923-f13627350272",
   "metadata": {},
   "outputs": [
    {
     "name": "stdout",
     "output_type": "stream",
     "text": [
      "Two of Hearts\n"
     ]
    }
   ],
   "source": [
    "first_card = new_deck.all_cards[0]\n",
    "print(first_card)"
   ]
  },
  {
   "cell_type": "code",
   "execution_count": 40,
   "id": "9ba5eb0e-7460-4e34-8d46-367f4322a22e",
   "metadata": {},
   "outputs": [
    {
     "name": "stdout",
     "output_type": "stream",
     "text": [
      "Two of Hearts\n",
      "Three of Hearts\n",
      "Four of Hearts\n",
      "Five of Hearts\n",
      "Six of Hearts\n",
      "Seven of Hearts\n",
      "Eight of Hearts\n",
      "Nine of Hearts\n",
      "Ten of Hearts\n",
      "Jack of Hearts\n",
      "Queen of Hearts\n",
      "King of Hearts\n",
      "Ace of Hearts\n",
      "Two of Diamonds\n",
      "Three of Diamonds\n",
      "Four of Diamonds\n",
      "Five of Diamonds\n",
      "Six of Diamonds\n",
      "Seven of Diamonds\n",
      "Eight of Diamonds\n",
      "Nine of Diamonds\n",
      "Ten of Diamonds\n",
      "Jack of Diamonds\n",
      "Queen of Diamonds\n",
      "King of Diamonds\n",
      "Ace of Diamonds\n",
      "Two of Spades\n",
      "Three of Spades\n",
      "Four of Spades\n",
      "Five of Spades\n",
      "Six of Spades\n",
      "Seven of Spades\n",
      "Eight of Spades\n",
      "Nine of Spades\n",
      "Ten of Spades\n",
      "Jack of Spades\n",
      "Queen of Spades\n",
      "King of Spades\n",
      "Ace of Spades\n",
      "Two of Clubs\n",
      "Three of Clubs\n",
      "Four of Clubs\n",
      "Five of Clubs\n",
      "Six of Clubs\n",
      "Seven of Clubs\n",
      "Eight of Clubs\n",
      "Nine of Clubs\n",
      "Ten of Clubs\n",
      "Jack of Clubs\n",
      "Queen of Clubs\n",
      "King of Clubs\n",
      "Ace of Clubs\n"
     ]
    }
   ],
   "source": [
    "for card_obj in new_deck.all_cards:\n",
    "    print(card_obj)"
   ]
  },
  {
   "cell_type": "code",
   "execution_count": 41,
   "id": "73f66745-e09f-4ac5-9108-7dd5521aa98c",
   "metadata": {},
   "outputs": [],
   "source": [
    "new_deck.shuffle()"
   ]
  },
  {
   "cell_type": "code",
   "execution_count": 42,
   "id": "bb0d74e8-58b3-43c2-bb81-85302a7d474b",
   "metadata": {},
   "outputs": [
    {
     "name": "stdout",
     "output_type": "stream",
     "text": [
      "Six of Spades\n"
     ]
    }
   ],
   "source": [
    "print(new_deck.all_cards[0])"
   ]
  },
  {
   "cell_type": "code",
   "execution_count": 43,
   "id": "48be45b6-88a0-4c67-b62b-67e43acd46e4",
   "metadata": {},
   "outputs": [],
   "source": [
    "deck = Deck()"
   ]
  },
  {
   "cell_type": "code",
   "execution_count": 44,
   "id": "81587438-9aec-467d-870a-ab476b839bb3",
   "metadata": {},
   "outputs": [],
   "source": [
    "deck.shuffle()"
   ]
  },
  {
   "cell_type": "code",
   "execution_count": 45,
   "id": "60853141-0e15-4219-b201-a743e9dcbd1c",
   "metadata": {},
   "outputs": [
    {
     "name": "stdout",
     "output_type": "stream",
     "text": [
      "Eight of Diamonds\n"
     ]
    }
   ],
   "source": [
    "poped_item = deck.deal_one()\n",
    "print(poped_item)"
   ]
  },
  {
   "cell_type": "code",
   "execution_count": 46,
   "id": "0015a6c6-3b5c-449c-95c4-571dbb7f9020",
   "metadata": {},
   "outputs": [
    {
     "data": {
      "text/plain": [
       "51"
      ]
     },
     "execution_count": 46,
     "metadata": {},
     "output_type": "execute_result"
    }
   ],
   "source": [
    "len(deck.all_cards)"
   ]
  },
  {
   "cell_type": "code",
   "execution_count": 47,
   "id": "f2e2f716-f0aa-4e90-9b97-e67ed9f7a228",
   "metadata": {},
   "outputs": [
    {
     "name": "stdout",
     "output_type": "stream",
     "text": [
      "[2, 3]\n"
     ]
    }
   ],
   "source": [
    "l = [1,2,3]\n",
    "l.remove(1)\n",
    "print(l)"
   ]
  },
  {
   "cell_type": "code",
   "execution_count": 48,
   "id": "c79f42e4-352e-4809-a198-ab7727ac7dcb",
   "metadata": {},
   "outputs": [],
   "source": [
    "class Player:\n",
    "    def __init__(self,name):\n",
    "        self.name = name\n",
    "        self.all_cards = []\n",
    "\n",
    "    def remove_one(self):\n",
    "       return self.all_cards.pop(0)\n",
    "\n",
    "    def add_cards(self,new_cards):\n",
    "        if type(new_cards) == type([]):\n",
    "            self.all_cards.extend(new_cards) # List of Multiple Cards\n",
    "        else:\n",
    "            self.all_cards.append(new_cards) # Single Card\n",
    "\n",
    "    def __str__(self):\n",
    "        return f'PLayer {self.name} has {len(self.all_cards)} Cards'"
   ]
  },
  {
   "cell_type": "code",
   "execution_count": 49,
   "id": "323181d5-4016-45e0-8228-9bb9f416f024",
   "metadata": {},
   "outputs": [],
   "source": [
    " p = Player(\"Sam\")"
   ]
  },
  {
   "cell_type": "code",
   "execution_count": 57,
   "id": "e38f8567-e0b6-4ee5-ae93-28dda90907e2",
   "metadata": {},
   "outputs": [
    {
     "name": "stdout",
     "output_type": "stream",
     "text": [
      "PLayer Sam has 5 Cards\n"
     ]
    }
   ],
   "source": [
    "print(p)"
   ]
  },
  {
   "cell_type": "code",
   "execution_count": 53,
   "id": "941474bb-52d5-4ce9-8518-1a842bef2697",
   "metadata": {},
   "outputs": [],
   "source": [
    "p.add_cards(deck)"
   ]
  },
  {
   "cell_type": "code",
   "execution_count": 56,
   "id": "3e4b168f-729b-40c2-8923-5db203f8b090",
   "metadata": {},
   "outputs": [],
   "source": [
    "p.add_cards([deck,deck,deck])"
   ]
  },
  {
   "cell_type": "code",
   "execution_count": 60,
   "id": "eeb9cba6-ad7a-47ad-a090-f21559496dce",
   "metadata": {},
   "outputs": [
    {
     "data": {
      "text/plain": [
       "<__main__.Deck at 0x22d199bc2d0>"
      ]
     },
     "execution_count": 60,
     "metadata": {},
     "output_type": "execute_result"
    }
   ],
   "source": [
    "p.remove_one()"
   ]
  },
  {
   "cell_type": "code",
   "execution_count": 61,
   "id": "4e7422ac-1cfc-4e06-a2b1-ea47475a0fd5",
   "metadata": {},
   "outputs": [
    {
     "data": {
      "text/plain": [
       "<__main__.Player at 0x22d19cbc490>"
      ]
     },
     "execution_count": 61,
     "metadata": {},
     "output_type": "execute_result"
    }
   ],
   "source": [
    "p"
   ]
  },
  {
   "cell_type": "code",
   "execution_count": 62,
   "id": "f2f3d552-e837-4bea-8a86-0660df165150",
   "metadata": {},
   "outputs": [
    {
     "name": "stdout",
     "output_type": "stream",
     "text": [
      "PLayer Sam has 2 Cards\n"
     ]
    }
   ],
   "source": [
    "print(p)"
   ]
  },
  {
   "cell_type": "code",
   "execution_count": 70,
   "id": "017b0fe7-24e5-42d6-9489-2c1daf76bc44",
   "metadata": {},
   "outputs": [],
   "source": [
    "#GAME SETUP\n",
    "p1 = Player(\"One\")\n",
    "p2 = Player(\"Two\")\n",
    "\n",
    "new_deck = Deck()\n",
    "new_deck.shuffle()\n",
    "\n",
    "for a in range(26):\n",
    "    p1.add_cards(new_deck.deal_one())\n",
    "    p2.add_cards(new_deck.deal_one())"
   ]
  },
  {
   "cell_type": "code",
   "execution_count": 71,
   "id": "facc8b51-46e8-43b1-b84e-302082a6dd00",
   "metadata": {},
   "outputs": [],
   "source": [
    "game_on = True"
   ]
  },
  {
   "cell_type": "code",
   "execution_count": 72,
   "id": "c0f135b0-9383-4660-8f86-fd72de70eee1",
   "metadata": {},
   "outputs": [
    {
     "name": "stdout",
     "output_type": "stream",
     "text": [
      "Round 1\n",
      "Round 2\n",
      "Round 3\n",
      "Round 4\n",
      "Round 5\n",
      "Round 6\n",
      "Round 7\n",
      "Round 8\n",
      "Round 9\n",
      "Round 10\n",
      "Round 11\n",
      "Round 12\n",
      "Round 13\n",
      "Round 14\n",
      "Round 15\n",
      "Round 16\n",
      "Round 17\n",
      "Round 18\n",
      "Round 19\n",
      "Round 20\n",
      "Round 21\n",
      "Round 22\n",
      "Round 23\n",
      "Round 24\n",
      "Round 25\n",
      "Round 26\n",
      "Round 27\n",
      "Round 28\n",
      "Round 29\n",
      "Round 30\n",
      "Round 31\n",
      "Round 32\n",
      "Round 33\n",
      "Round 34\n",
      "Round 35\n",
      "Round 36\n",
      "Round 37\n",
      "WAR!\n",
      "Round 38\n",
      "Round 39\n",
      "Round 40\n",
      "Round 41\n",
      "Round 42\n",
      "Round 43\n",
      "Round 44\n",
      "Round 45\n",
      "Round 46\n",
      "Round 47\n",
      "Round 48\n",
      "Round 49\n",
      "Round 50\n",
      "Round 51\n",
      "Round 52\n",
      "Round 53\n",
      "Round 54\n",
      "WAR!\n",
      "WAR!\n",
      "Player 1 Unable to declare war\n",
      "PLayer Two Wins\n"
     ]
    }
   ],
   "source": [
    "round_no = 0\n",
    "\n",
    "while game_on:\n",
    "\n",
    "    round_no += 1\n",
    "    print(f'Round {round_no}')\n",
    "\n",
    "    if len(p1.all_cards) == 0:\n",
    "        print('PLayer One, out of Cards! PLayer Two Wins!')\n",
    "        game_on = False\n",
    "        break\n",
    "    if len(p2.all_cards) == 0:\n",
    "        print('PLayer Two, out of Cards! Player One Wins!')\n",
    "        game_on = False\n",
    "        break\n",
    "\n",
    "    #Strat New Round\n",
    "    player1_cards = []\n",
    "    player1_cards.append(p1.remove_one())\n",
    "\n",
    "    player2_cards = []\n",
    "    player2_cards.append(p2.remove_one())\n",
    "    \n",
    "    #WHILE AT WAR\n",
    "    at_war = True\n",
    "\n",
    "    while at_war:\n",
    "        if player1_cards[-1].value > player2_cards[-1].value:\n",
    "            p1.add_cards(player1_cards)\n",
    "            p1.add_cards(player2_cards)\n",
    "\n",
    "            at_war = False\n",
    "            \n",
    "        elif player2_cards[-1].value > player1_cards[-1].value:\n",
    "            p2.add_cards(player1_cards)\n",
    "            p2.add_cards(player2_cards)\n",
    "\n",
    "            at_war = False\n",
    "\n",
    "        else:\n",
    "            print(\"WAR!\")\n",
    "\n",
    "            if len(p1.all_cards) < 5 :\n",
    "                print(\"Player 1 Unable to declare war\")\n",
    "                print(\"PLayer Two Wins\")\n",
    "                game_on = False\n",
    "                break\n",
    "\n",
    "            elif len(p2.all_cards) < 5 :\n",
    "                print(\"Player 2 Unable to declare war\")\n",
    "                print(\"PLayer ONE Wins\")\n",
    "                game_on = False\n",
    "                break\n",
    "\n",
    "            else:\n",
    "                for num in range(3):\n",
    "                    player1_cards.append(p1.remove_one())\n",
    "                    player2_cards.append(p2.remove_one())\n",
    "                "
   ]
  },
  {
   "cell_type": "code",
   "execution_count": 73,
   "id": "3e786394-591d-4514-aad1-42d3bbb0cc66",
   "metadata": {},
   "outputs": [],
   "source": [
    "s = {1,2,3}\n",
    "t = (4,5,6)\n",
    "s.add(t)"
   ]
  },
  {
   "cell_type": "code",
   "execution_count": 74,
   "id": "376c066f-ac2d-4e55-86f9-a40f75662cc7",
   "metadata": {},
   "outputs": [
    {
     "data": {
      "text/plain": [
       "{(4, 5, 6), 1, 2, 3}"
      ]
     },
     "execution_count": 74,
     "metadata": {},
     "output_type": "execute_result"
    }
   ],
   "source": [
    "s"
   ]
  },
  {
   "cell_type": "code",
   "execution_count": 75,
   "id": "d295ba33-96c2-4b95-96a5-d9aa95f5bf55",
   "metadata": {},
   "outputs": [
    {
     "ename": "TypeError",
     "evalue": "unhashable type: 'list'",
     "output_type": "error",
     "traceback": [
      "\u001b[1;31m----------------------------------------------------------------\u001b[0m",
      "\u001b[1;31mTypeError\u001b[0m                      Traceback (most recent call last)",
      "Cell \u001b[1;32mIn[75], line 2\u001b[0m\n\u001b[0;32m      1\u001b[0m l \u001b[38;5;241m=\u001b[39m [\u001b[38;5;241m1\u001b[39m,\u001b[38;5;241m2\u001b[39m,\u001b[38;5;241m3\u001b[39m]\n\u001b[1;32m----> 2\u001b[0m s\u001b[38;5;241m.\u001b[39madd(l)\n",
      "\u001b[1;31mTypeError\u001b[0m: unhashable type: 'list'"
     ]
    }
   ],
   "source": [
    "l = [1,2,3]\n",
    "s.add(l)"
   ]
  },
  {
   "cell_type": "code",
   "execution_count": null,
   "id": "11befac9-3665-48ed-b2db-b86134829228",
   "metadata": {},
   "outputs": [],
   "source": []
  }
 ],
 "metadata": {
  "kernelspec": {
   "display_name": "Python 3 (ipykernel)",
   "language": "python",
   "name": "python3"
  },
  "language_info": {
   "codemirror_mode": {
    "name": "ipython",
    "version": 3
   },
   "file_extension": ".py",
   "mimetype": "text/x-python",
   "name": "python",
   "nbconvert_exporter": "python",
   "pygments_lexer": "ipython3",
   "version": "3.11.7"
  }
 },
 "nbformat": 4,
 "nbformat_minor": 5
}
