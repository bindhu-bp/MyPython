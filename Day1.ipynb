{
 "cells": [
  {
   "cell_type": "code",
   "execution_count": 2,
   "id": "205d8158-59d3-473d-bcfe-cae52de1876a",
   "metadata": {},
   "outputs": [
    {
     "data": {
      "text/plain": [
       "2"
      ]
     },
     "execution_count": 2,
     "metadata": {},
     "output_type": "execute_result"
    }
   ],
   "source": [
    "1+1"
   ]
  },
  {
   "cell_type": "markdown",
   "id": "b3791333-d44d-47ef-9e0c-3dbc24a76b6b",
   "metadata": {},
   "source": [
    "Shift + Enter --> execute the cell and create a new cell\n",
    "this is not a code cell, it is a markdown where we can writw some write some description and this will not execute"
   ]
  },
  {
   "cell_type": "code",
   "execution_count": 4,
   "id": "96afd18e-a3ad-4db6-861f-e6f66075b196",
   "metadata": {},
   "outputs": [
    {
     "name": "stdout",
     "output_type": "stream",
     "text": [
      "Hello world\n"
     ]
    }
   ],
   "source": [
    "print('Hello world')"
   ]
  },
  {
   "cell_type": "code",
   "execution_count": 6,
   "id": "40de7df7-e9ab-4f11-822f-5ecd96a42b9c",
   "metadata": {},
   "outputs": [
    {
     "data": {
      "text/plain": [
       "int"
      ]
     },
     "execution_count": 6,
     "metadata": {},
     "output_type": "execute_result"
    }
   ],
   "source": [
    "type(a)"
   ]
  },
  {
   "cell_type": "code",
   "execution_count": null,
   "id": "37cdf5ac-793a-481b-8726-c78577bd8634",
   "metadata": {},
   "outputs": [],
   "source": []
  },
  {
   "cell_type": "code",
   "execution_count": 5,
   "id": "8d918587-e522-4b09-80fe-4a4f1ffe84d3",
   "metadata": {},
   "outputs": [
    {
     "data": {
      "text/plain": [
       "1"
      ]
     },
     "execution_count": 5,
     "metadata": {},
     "output_type": "execute_result"
    }
   ],
   "source": [
    "#Data type variable assignment\n",
    "a=1;\n",
    "a\n"
   ]
  },
  {
   "cell_type": "code",
   "execution_count": 7,
   "id": "fd496c72-4ccf-415c-99af-3f4cd25fb47a",
   "metadata": {},
   "outputs": [
    {
     "data": {
      "text/plain": [
       "2"
      ]
     },
     "execution_count": 7,
     "metadata": {},
     "output_type": "execute_result"
    }
   ],
   "source": [
    "a+a"
   ]
  },
  {
   "cell_type": "code",
   "execution_count": 8,
   "id": "f3d1abdc-c83b-42c7-a07f-2a25e18d9f16",
   "metadata": {},
   "outputs": [],
   "source": [
    "#Reassign\n",
    "a=a+a"
   ]
  },
  {
   "cell_type": "code",
   "execution_count": 9,
   "id": "b799a5e3-fb85-4bcc-b336-b31eae1a8fcf",
   "metadata": {},
   "outputs": [
    {
     "data": {
      "text/plain": [
       "2"
      ]
     },
     "execution_count": 9,
     "metadata": {},
     "output_type": "execute_result"
    }
   ],
   "source": [
    "a"
   ]
  },
  {
   "cell_type": "code",
   "execution_count": 10,
   "id": "83fb12e3-c684-429e-97d8-f07795cc7d39",
   "metadata": {},
   "outputs": [
    {
     "data": {
      "text/plain": [
       "2"
      ]
     },
     "execution_count": 10,
     "metadata": {},
     "output_type": "execute_result"
    }
   ],
   "source": [
    "a"
   ]
  },
  {
   "cell_type": "code",
   "execution_count": 11,
   "id": "0abc3a4c-1b44-4208-89fc-a9b7b35d89b5",
   "metadata": {},
   "outputs": [
    {
     "data": {
      "text/plain": [
       "33.33"
      ]
     },
     "execution_count": 11,
     "metadata": {},
     "output_type": "execute_result"
    }
   ],
   "source": [
    "a=33.33\n",
    "a"
   ]
  },
  {
   "cell_type": "code",
   "execution_count": 12,
   "id": "3e51fdbf-7a39-4046-a7fc-9a24212f4507",
   "metadata": {},
   "outputs": [
    {
     "data": {
      "text/plain": [
       "float"
      ]
     },
     "execution_count": 12,
     "metadata": {},
     "output_type": "execute_result"
    }
   ],
   "source": [
    "type(a)"
   ]
  },
  {
   "cell_type": "code",
   "execution_count": 13,
   "id": "bec5282f-c83c-4a47-a775-52e7a6c47188",
   "metadata": {},
   "outputs": [
    {
     "data": {
      "text/plain": [
       "400.0"
      ]
     },
     "execution_count": 13,
     "metadata": {},
     "output_type": "execute_result"
    }
   ],
   "source": [
    "income = 1000\n",
    "tax = 0.4\n",
    "total = income * tax\n",
    "total"
   ]
  },
  {
   "cell_type": "code",
   "execution_count": 15,
   "id": "8d4ce464-81e9-4ec3-82d7-d6d14ab5799d",
   "metadata": {},
   "outputs": [
    {
     "data": {
      "text/plain": [
       "float"
      ]
     },
     "execution_count": 15,
     "metadata": {},
     "output_type": "execute_result"
    }
   ],
   "source": [
    "type(total)"
   ]
  },
  {
   "cell_type": "code",
   "execution_count": 18,
   "id": "481df1fd-535a-4eb0-902f-00f5e2b3f635",
   "metadata": {},
   "outputs": [
    {
     "data": {
      "text/plain": [
       "17"
      ]
     },
     "execution_count": 18,
     "metadata": {},
     "output_type": "execute_result"
    }
   ],
   "source": [
    "len('My name is bindhu')\n"
   ]
  },
  {
   "cell_type": "code",
   "execution_count": 19,
   "id": "aeb9db43-0389-4681-8a2d-97585b976afd",
   "metadata": {},
   "outputs": [
    {
     "data": {
      "text/plain": [
       "'Monty Cloud'"
      ]
     },
     "execution_count": 19,
     "metadata": {},
     "output_type": "execute_result"
    }
   ],
   "source": [
    "#STRING \n",
    "my_str  = 'Monty Cloud'\n",
    "my_str"
   ]
  },
  {
   "cell_type": "code",
   "execution_count": 20,
   "id": "4c4f3465-faee-46ef-aea5-7b7790b1a866",
   "metadata": {},
   "outputs": [
    {
     "data": {
      "text/plain": [
       "'Monty'"
      ]
     },
     "execution_count": 20,
     "metadata": {},
     "output_type": "execute_result"
    }
   ],
   "source": [
    "my_str[0:5]"
   ]
  },
  {
   "cell_type": "code",
   "execution_count": 21,
   "id": "f7e009ab-a017-4abd-a04e-9bcb6329f730",
   "metadata": {},
   "outputs": [
    {
     "data": {
      "text/plain": [
       "'Mny'"
      ]
     },
     "execution_count": 21,
     "metadata": {},
     "output_type": "execute_result"
    }
   ],
   "source": [
    "my_str[0:5:2]"
   ]
  },
  {
   "cell_type": "code",
   "execution_count": 76,
   "id": "577a82fd-9939-47e1-a54c-56975a84ece9",
   "metadata": {},
   "outputs": [
    {
     "ename": "TypeError",
     "evalue": "'str' object does not support item assignment",
     "output_type": "error",
     "traceback": [
      "\u001b[1;31m---------------------------------------------------------------------------\u001b[0m",
      "\u001b[1;31mTypeError\u001b[0m                                 Traceback (most recent call last)",
      "Cell \u001b[1;32mIn[76], line 1\u001b[0m\n\u001b[1;32m----> 1\u001b[0m my_str[\u001b[38;5;241m4\u001b[39m] \u001b[38;5;241m=\u001b[39m \u001b[38;5;124m'\u001b[39m\u001b[38;5;124mu\u001b[39m\u001b[38;5;124m'\u001b[39m\n",
      "\u001b[1;31mTypeError\u001b[0m: 'str' object does not support item assignment"
     ]
    }
   ],
   "source": [
    "my_str[4] = 'u'"
   ]
  },
  {
   "cell_type": "code",
   "execution_count": 23,
   "id": "f0bffeb0-33c0-4528-854f-69ce6ca67ac9",
   "metadata": {},
   "outputs": [
    {
     "data": {
      "text/plain": [
       "'C'"
      ]
     },
     "execution_count": 23,
     "metadata": {},
     "output_type": "execute_result"
    }
   ],
   "source": [
    "my_str[-5]"
   ]
  },
  {
   "cell_type": "code",
   "execution_count": 24,
   "id": "9b31a7be-c1bc-4a26-827a-92f5c1297558",
   "metadata": {},
   "outputs": [
    {
     "data": {
      "text/plain": [
       "'Cloud'"
      ]
     },
     "execution_count": 24,
     "metadata": {},
     "output_type": "execute_result"
    }
   ],
   "source": [
    "my_str[6:]"
   ]
  },
  {
   "cell_type": "code",
   "execution_count": 25,
   "id": "a00ee364-044c-4ccb-b672-d1d08d5ebcda",
   "metadata": {},
   "outputs": [
    {
     "data": {
      "text/plain": [
       "'Monty'"
      ]
     },
     "execution_count": 25,
     "metadata": {},
     "output_type": "execute_result"
    }
   ],
   "source": [
    "my_str[:5]"
   ]
  },
  {
   "cell_type": "code",
   "execution_count": 26,
   "id": "8255d44a-68df-48df-b754-101a27b1fa72",
   "metadata": {},
   "outputs": [
    {
     "data": {
      "text/plain": [
       "'MnyCod'"
      ]
     },
     "execution_count": 26,
     "metadata": {},
     "output_type": "execute_result"
    }
   ],
   "source": [
    "my_str[::2]"
   ]
  },
  {
   "cell_type": "code",
   "execution_count": 27,
   "id": "f99913d6-a50f-4ae9-918d-3c0f8d9c7741",
   "metadata": {},
   "outputs": [
    {
     "data": {
      "text/plain": [
       "'duolC ytnoM'"
      ]
     },
     "execution_count": 27,
     "metadata": {},
     "output_type": "execute_result"
    }
   ],
   "source": [
    "my_str[::-1]"
   ]
  },
  {
   "cell_type": "code",
   "execution_count": 28,
   "id": "adec9e7e-3e0b-4b92-a37b-02601d17ed73",
   "metadata": {},
   "outputs": [
    {
     "ename": "TypeError",
     "evalue": "'str' object does not support item assignment",
     "output_type": "error",
     "traceback": [
      "\u001b[1;31m---------------------------------------------------------------------------\u001b[0m",
      "\u001b[1;31mTypeError\u001b[0m                                 Traceback (most recent call last)",
      "Cell \u001b[1;32mIn[28], line 4\u001b[0m\n\u001b[0;32m      1\u001b[0m \u001b[38;5;66;03m#String is immutable\u001b[39;00m\n\u001b[0;32m      3\u001b[0m name \u001b[38;5;241m=\u001b[39m \u001b[38;5;124m\"\u001b[39m\u001b[38;5;124mSam\u001b[39m\u001b[38;5;124m\"\u001b[39m\n\u001b[1;32m----> 4\u001b[0m name[\u001b[38;5;241m0\u001b[39m] \u001b[38;5;241m=\u001b[39m \u001b[38;5;124m'\u001b[39m\u001b[38;5;124mP\u001b[39m\u001b[38;5;124m'\u001b[39m\n",
      "\u001b[1;31mTypeError\u001b[0m: 'str' object does not support item assignment"
     ]
    }
   ],
   "source": [
    "#String is immutable\n",
    "\n",
    "name = \"Sam\"\n",
    "name[0] = 'P'"
   ]
  },
  {
   "cell_type": "code",
   "execution_count": 29,
   "id": "8eec41fc-dc79-43aa-9ff7-511ee905993e",
   "metadata": {},
   "outputs": [
    {
     "data": {
      "text/plain": [
       "'BBBBBBBBBB'"
      ]
     },
     "execution_count": 29,
     "metadata": {},
     "output_type": "execute_result"
    }
   ],
   "source": [
    "letter = 'B'\n",
    "letter*10"
   ]
  },
  {
   "cell_type": "code",
   "execution_count": 31,
   "id": "dcf6c186-a52f-41f6-a19d-13012dbea311",
   "metadata": {},
   "outputs": [
    {
     "data": {
      "text/plain": [
       "'Hello wolrd'"
      ]
     },
     "execution_count": 31,
     "metadata": {},
     "output_type": "execute_result"
    }
   ],
   "source": [
    "s = \"hello wolrd\"\n",
    "s.capitalize()"
   ]
  },
  {
   "cell_type": "code",
   "execution_count": 33,
   "id": "e18e10c7-120f-4847-85ca-6bec9af5435f",
   "metadata": {},
   "outputs": [
    {
     "data": {
      "text/plain": [
       "'HELLO WOLRD'"
      ]
     },
     "execution_count": 33,
     "metadata": {},
     "output_type": "execute_result"
    }
   ],
   "source": [
    "s.upper()"
   ]
  },
  {
   "cell_type": "code",
   "execution_count": 34,
   "id": "d230f26f-4dec-4881-a6d8-d3a84737b16d",
   "metadata": {},
   "outputs": [
    {
     "data": {
      "text/plain": [
       "['hello', 'wolrd']"
      ]
     },
     "execution_count": 34,
     "metadata": {},
     "output_type": "execute_result"
    }
   ],
   "source": [
    "s.split()"
   ]
  },
  {
   "cell_type": "code",
   "execution_count": 37,
   "id": "8d1510ec-921f-482c-8e86-3cad2312c12e",
   "metadata": {},
   "outputs": [
    {
     "data": {
      "text/plain": [
       "list"
      ]
     },
     "execution_count": 37,
     "metadata": {},
     "output_type": "execute_result"
    }
   ],
   "source": [
    "type(s.split())"
   ]
  },
  {
   "cell_type": "code",
   "execution_count": 39,
   "id": "241cfe8c-38c8-4c60-923a-c6ac715983b6",
   "metadata": {},
   "outputs": [
    {
     "data": {
      "text/plain": [
       "['hell', ' w', 'lrd']"
      ]
     },
     "execution_count": 39,
     "metadata": {},
     "output_type": "execute_result"
    }
   ],
   "source": [
    "s.split('o')"
   ]
  },
  {
   "cell_type": "code",
   "execution_count": 45,
   "id": "ee9ee485-64ef-4ace-8740-4866638e8577",
   "metadata": {},
   "outputs": [
    {
     "data": {
      "text/plain": [
       "'this is the String INSERTED and DELETED'"
      ]
     },
     "execution_count": 45,
     "metadata": {},
     "output_type": "execute_result"
    }
   ],
   "source": [
    "\"this is the String {} and {}\".format('INSERTED','DELETED')"
   ]
  },
  {
   "cell_type": "code",
   "execution_count": 46,
   "id": "1ec1be25-3a02-461e-845d-7f93111c5e14",
   "metadata": {},
   "outputs": [
    {
     "data": {
      "text/plain": [
       "'The elephant is black '"
      ]
     },
     "execution_count": 46,
     "metadata": {},
     "output_type": "execute_result"
    }
   ],
   "source": [
    "\"The {0} {2} {1} \".format('elephant','black','is')"
   ]
  },
  {
   "cell_type": "code",
   "execution_count": 47,
   "id": "ed4b5ae1-9bf8-4b38-a3fd-cab6934e7600",
   "metadata": {},
   "outputs": [
    {
     "data": {
      "text/plain": [
       "'The brown fox'"
      ]
     },
     "execution_count": 47,
     "metadata": {},
     "output_type": "execute_result"
    }
   ],
   "source": [
    "\"The {b} {f}\".format(f='fox',b='brown')"
   ]
  },
  {
   "cell_type": "code",
   "execution_count": 48,
   "id": "b208c7d7-8873-4b6c-a696-ad18d475b836",
   "metadata": {},
   "outputs": [
    {
     "data": {
      "text/plain": [
       "'The result    2.00180'"
      ]
     },
     "execution_count": 48,
     "metadata": {},
     "output_type": "execute_result"
    }
   ],
   "source": [
    "#Flaot Formatting\n",
    "result = 1111/555\n",
    "\"The result {f:10.5f}\".format(f=result)"
   ]
  },
  {
   "cell_type": "code",
   "execution_count": 54,
   "id": "c54f54d7-0cd1-49e2-b47d-2cf4028aaa2a",
   "metadata": {},
   "outputs": [
    {
     "data": {
      "text/plain": [
       "'The result is     89.999'"
      ]
     },
     "execution_count": 54,
     "metadata": {},
     "output_type": "execute_result"
    }
   ],
   "source": [
    "a = 89.99898998\n",
    "\"The result is {r:10.3f}\".format(r=a)"
   ]
  },
  {
   "cell_type": "code",
   "execution_count": 56,
   "id": "dc2d53a3-d983-45d5-9a5f-b95dafba0865",
   "metadata": {},
   "outputs": [
    {
     "data": {
      "text/plain": [
       "'Hello, his name is Sam'"
      ]
     },
     "execution_count": 56,
     "metadata": {},
     "output_type": "execute_result"
    }
   ],
   "source": [
    "name = \"Sam\"\n",
    "f\"Hello, his name is {name}\""
   ]
  },
  {
   "cell_type": "code",
   "execution_count": 57,
   "id": "5ff77e32-6aa6-4e59-a3b9-f7aa501593cf",
   "metadata": {},
   "outputs": [
    {
     "data": {
      "text/plain": [
       "'Sam is 5 years old'"
      ]
     },
     "execution_count": 57,
     "metadata": {},
     "output_type": "execute_result"
    }
   ],
   "source": [
    "names = \"Sam\"\n",
    "age = 5\n",
    "f\"{names} is {age} years old\""
   ]
  },
  {
   "cell_type": "code",
   "execution_count": 58,
   "id": "fa253055-021f-4d0e-88df-71eddf55baa9",
   "metadata": {},
   "outputs": [
    {
     "data": {
      "text/plain": [
       "['Sam', 88, 123.999]"
      ]
     },
     "execution_count": 58,
     "metadata": {},
     "output_type": "execute_result"
    }
   ],
   "source": [
    "#LIST\n",
    "\n",
    "my_list = [\"Sam\",88,123.999]\n",
    "my_list"
   ]
  },
  {
   "cell_type": "code",
   "execution_count": 59,
   "id": "998dc689-6b42-44ca-852c-93095b3e0226",
   "metadata": {},
   "outputs": [
    {
     "data": {
      "text/plain": [
       "3"
      ]
     },
     "execution_count": 59,
     "metadata": {},
     "output_type": "execute_result"
    }
   ],
   "source": [
    "#To check the number of elements in the list use len()\n",
    "len(my_list)"
   ]
  },
  {
   "cell_type": "code",
   "execution_count": 72,
   "id": "2e8dda4b-c954-4ec7-856a-ffc89dd30aba",
   "metadata": {},
   "outputs": [
    {
     "data": {
      "text/plain": [
       "'Sam'"
      ]
     },
     "execution_count": 72,
     "metadata": {},
     "output_type": "execute_result"
    }
   ],
   "source": [
    "#Indexing\n",
    "my_list[0]"
   ]
  },
  {
   "cell_type": "code",
   "execution_count": 73,
   "id": "64cf2b91-f22c-429b-9157-177f20ae4893",
   "metadata": {},
   "outputs": [
    {
     "data": {
      "text/plain": [
       "['Sam', 88, 123.999]"
      ]
     },
     "execution_count": 73,
     "metadata": {},
     "output_type": "execute_result"
    }
   ],
   "source": [
    "#Slicing\n",
    "my_list[:]\n"
   ]
  },
  {
   "cell_type": "code",
   "execution_count": 62,
   "id": "15ec7465-220a-4282-a84a-905be8b4fe5f",
   "metadata": {},
   "outputs": [
    {
     "data": {
      "text/plain": [
       "['Sam', 88]"
      ]
     },
     "execution_count": 62,
     "metadata": {},
     "output_type": "execute_result"
    }
   ],
   "source": [
    "my_list[:-1]"
   ]
  },
  {
   "cell_type": "code",
   "execution_count": 64,
   "id": "96afe6a0-2573-44a5-8e1a-00739e085e6b",
   "metadata": {},
   "outputs": [
    {
     "data": {
      "text/plain": [
       "['Doe', 34]"
      ]
     },
     "execution_count": 64,
     "metadata": {},
     "output_type": "execute_result"
    }
   ],
   "source": [
    "another_list = ['Doe',34]\n",
    "another_list"
   ]
  },
  {
   "cell_type": "code",
   "execution_count": 65,
   "id": "0ce9a73c-e514-4fd8-8e1e-aa142eec4eb3",
   "metadata": {},
   "outputs": [
    {
     "data": {
      "text/plain": [
       "['Sam', 88, 123.999, 'Doe', 34]"
      ]
     },
     "execution_count": 65,
     "metadata": {},
     "output_type": "execute_result"
    }
   ],
   "source": [
    "my_list + another_list"
   ]
  },
  {
   "cell_type": "code",
   "execution_count": 66,
   "id": "c0f7dab2-d84d-41f9-acaa-4628382471ad",
   "metadata": {},
   "outputs": [
    {
     "data": {
      "text/plain": [
       "['Sam', 88, 123.999]"
      ]
     },
     "execution_count": 66,
     "metadata": {},
     "output_type": "execute_result"
    }
   ],
   "source": [
    "my_list"
   ]
  },
  {
   "cell_type": "code",
   "execution_count": 67,
   "id": "99bece0a-19b1-47c3-b6de-12392de903a3",
   "metadata": {},
   "outputs": [
    {
     "data": {
      "text/plain": [
       "['Doe', 34]"
      ]
     },
     "execution_count": 67,
     "metadata": {},
     "output_type": "execute_result"
    }
   ],
   "source": [
    "another_list"
   ]
  },
  {
   "cell_type": "code",
   "execution_count": 69,
   "id": "4cae430f-28fe-4d1a-aba3-f7f613d75c15",
   "metadata": {},
   "outputs": [
    {
     "data": {
      "text/plain": [
       "['Sam', 88, 123.999, 'Doe', 34]"
      ]
     },
     "execution_count": 69,
     "metadata": {},
     "output_type": "execute_result"
    }
   ],
   "source": [
    "new_list = my_list + another_list\n",
    "new_list"
   ]
  },
  {
   "cell_type": "code",
   "execution_count": 70,
   "id": "349a3cc5-f37f-47ad-8807-e84a57bdff51",
   "metadata": {},
   "outputs": [
    {
     "data": {
      "text/plain": [
       "list"
      ]
     },
     "execution_count": 70,
     "metadata": {},
     "output_type": "execute_result"
    }
   ],
   "source": [
    "type(new_list)"
   ]
  },
  {
   "cell_type": "code",
   "execution_count": 71,
   "id": "90585bda-1823-4f9a-aa02-bf4a90826a70",
   "metadata": {},
   "outputs": [
    {
     "data": {
      "text/plain": [
       "5"
      ]
     },
     "execution_count": 71,
     "metadata": {},
     "output_type": "execute_result"
    }
   ],
   "source": [
    "len(new_list)"
   ]
  },
  {
   "cell_type": "code",
   "execution_count": 75,
   "id": "dde81fcf-3b01-425d-9cfd-13218f68aa1d",
   "metadata": {},
   "outputs": [
    {
     "data": {
      "text/plain": [
       "['Sampreeth', 88, 123.999, 'Doe', 34]"
      ]
     },
     "execution_count": 75,
     "metadata": {},
     "output_type": "execute_result"
    }
   ],
   "source": [
    "new_list[0] = \"Sampreeth\"\n",
    "new_list"
   ]
  },
  {
   "cell_type": "markdown",
   "id": "830ab51e-6dda-4af3-b646-d038bad9ca69",
   "metadata": {},
   "source": [
    "The main difference between String and List indexing is String is immutable and list is mutable"
   ]
  },
  {
   "cell_type": "code",
   "execution_count": 82,
   "id": "03b9df22-25e7-4cb2-a755-2f76ed78d886",
   "metadata": {},
   "outputs": [
    {
     "data": {
      "text/plain": [
       "['Sampreeth',\n",
       " 88,\n",
       " 123.999,\n",
       " 'Doe',\n",
       " 34,\n",
       " ['Gopal', 'Madavn'],\n",
       " ['Gopal', 'Madavn'],\n",
       " 'Gopal',\n",
       " 'Gopal',\n",
       " ['Ram'],\n",
       " ['Ram', 344]]"
      ]
     },
     "execution_count": 82,
     "metadata": {},
     "output_type": "execute_result"
    }
   ],
   "source": [
    "other_new_str = [\"Ram\",ert87]\n",
    "new_list.append(other_new_str)\n",
    "new_list"
   ]
  },
  {
   "cell_type": "code",
   "execution_count": 93,
   "id": "d8171131-0e48-4030-9833-e5a6fbd33d5f",
   "metadata": {},
   "outputs": [
    {
     "data": {
      "text/plain": [
       "['Sampreeth',\n",
       " 88,\n",
       " 123.999,\n",
       " 34,\n",
       " ['Gopal', 'Madavn'],\n",
       " ['Gopal', 'Madavn'],\n",
       " ['Ram'],\n",
       " ['Ram', 344]]"
      ]
     },
     "execution_count": 93,
     "metadata": {},
     "output_type": "execute_result"
    }
   ],
   "source": [
    "new_list.remove('Doe')\n",
    "new_list"
   ]
  },
  {
   "cell_type": "code",
   "execution_count": 94,
   "id": "14b2ad82-5434-430a-ace5-4bb34a266da7",
   "metadata": {},
   "outputs": [
    {
     "data": {
      "text/plain": [
       "['Ram', 344]"
      ]
     },
     "execution_count": 94,
     "metadata": {},
     "output_type": "execute_result"
    }
   ],
   "source": [
    "new_list.pop()"
   ]
  },
  {
   "cell_type": "code",
   "execution_count": 95,
   "id": "d079c326-e1c8-4648-919c-3fda928b2fdf",
   "metadata": {},
   "outputs": [
    {
     "data": {
      "text/plain": [
       "['Sampreeth',\n",
       " 88,\n",
       " 123.999,\n",
       " 34,\n",
       " ['Gopal', 'Madavn'],\n",
       " ['Gopal', 'Madavn'],\n",
       " ['Ram']]"
      ]
     },
     "execution_count": 95,
     "metadata": {},
     "output_type": "execute_result"
    }
   ],
   "source": [
    "new_list"
   ]
  },
  {
   "cell_type": "code",
   "execution_count": 98,
   "id": "bad78155-30b4-482f-b0b9-666325d9ed88",
   "metadata": {},
   "outputs": [
    {
     "data": {
      "text/plain": [
       "['Gopal', 'Madavn']"
      ]
     },
     "execution_count": 98,
     "metadata": {},
     "output_type": "execute_result"
    }
   ],
   "source": [
    "new_list.pop(4)"
   ]
  },
  {
   "cell_type": "code",
   "execution_count": 99,
   "id": "7dc848a9-5234-4a1a-8226-2203fac4e870",
   "metadata": {},
   "outputs": [
    {
     "data": {
      "text/plain": [
       "['Sampreeth', 88, 123.999, 34, ['Ram']]"
      ]
     },
     "execution_count": 99,
     "metadata": {},
     "output_type": "execute_result"
    }
   ],
   "source": [
    "new_list"
   ]
  },
  {
   "cell_type": "code",
   "execution_count": 105,
   "id": "0b470415-3b49-4d2c-96f8-079410a1bbb0",
   "metadata": {},
   "outputs": [
    {
     "data": {
      "text/plain": [
       "[1, 3, 76]"
      ]
     },
     "execution_count": 105,
     "metadata": {},
     "output_type": "execute_result"
    }
   ],
   "source": [
    "str_list = [\"Sam\",\"Ram\"]\n",
    "num_list = [1,76,3]\n",
    "str_list.sort()\n",
    "num_list.sort()\n",
    "str_list\n",
    "num_list"
   ]
  },
  {
   "cell_type": "code",
   "execution_count": 109,
   "id": "aad530a5-14c5-4fea-ae93-99c36ebc5049",
   "metadata": {},
   "outputs": [
    {
     "data": {
      "text/plain": [
       "NoneType"
      ]
     },
     "execution_count": 109,
     "metadata": {},
     "output_type": "execute_result"
    }
   ],
   "source": [
    "type(str_list.sort())"
   ]
  },
  {
   "cell_type": "markdown",
   "id": "7b265839-290c-4c63-a65b-5a8f86a91638",
   "metadata": {},
   "source": [
    "  None is the special object it doesn't hold any value\n"
   ]
  },
  {
   "cell_type": "code",
   "execution_count": 117,
   "id": "e3c11953-81a8-4119-8923-58cc97c40ba8",
   "metadata": {},
   "outputs": [
    {
     "data": {
      "text/plain": [
       "[76, 3, 1]"
      ]
     },
     "execution_count": 117,
     "metadata": {},
     "output_type": "execute_result"
    }
   ],
   "source": [
    "num_list"
   ]
  },
  {
   "cell_type": "code",
   "execution_count": 118,
   "id": "c7a1775d-f71e-4742-a77e-df134e4b23f6",
   "metadata": {},
   "outputs": [],
   "source": [
    "num_list.reverse()"
   ]
  },
  {
   "cell_type": "code",
   "execution_count": 119,
   "id": "fdfa1e33-3d75-4a1d-a622-650fa8f08c06",
   "metadata": {},
   "outputs": [
    {
     "data": {
      "text/plain": [
       "[1, 3, 76]"
      ]
     },
     "execution_count": 119,
     "metadata": {},
     "output_type": "execute_result"
    }
   ],
   "source": [
    "num_list"
   ]
  },
  {
   "cell_type": "code",
   "execution_count": 120,
   "id": "48b3899c-3f56-43c3-8b5e-c4771bf1bf59",
   "metadata": {},
   "outputs": [
    {
     "data": {
      "text/plain": [
       "{'key': 'value', 'name': 'SAM'}"
      ]
     },
     "execution_count": 120,
     "metadata": {},
     "output_type": "execute_result"
    }
   ],
   "source": [
    "#DICTIONARY\n",
    "my_dict = {'key':'value','name':'SAM'}\n",
    "my_dict"
   ]
  },
  {
   "cell_type": "code",
   "execution_count": 123,
   "id": "2c7bcec2-eaeb-4c48-8d70-a468932d98e4",
   "metadata": {},
   "outputs": [
    {
     "data": {
      "text/plain": [
       "'value'"
      ]
     },
     "execution_count": 123,
     "metadata": {},
     "output_type": "execute_result"
    }
   ],
   "source": [
    "my_dict['key']"
   ]
  },
  {
   "cell_type": "code",
   "execution_count": 124,
   "id": "6d6500aa-0788-4193-984c-5311a04399c4",
   "metadata": {},
   "outputs": [
    {
     "data": {
      "text/plain": [
       "{'milk': 12, 'chocolate': 343, 'Icecream': 445}"
      ]
     },
     "execution_count": 124,
     "metadata": {},
     "output_type": "execute_result"
    }
   ],
   "source": [
    "prices = {'milk':12,'chocolate':343,'Icecream':445}\n",
    "prices"
   ]
  },
  {
   "cell_type": "code",
   "execution_count": 126,
   "id": "2d6cbad9-4e47-4a33-a45b-c6f6c5ab096a",
   "metadata": {},
   "outputs": [
    {
     "data": {
      "text/plain": [
       "343"
      ]
     },
     "execution_count": 126,
     "metadata": {},
     "output_type": "execute_result"
    }
   ],
   "source": [
    "prices['chocolate']"
   ]
  },
  {
   "cell_type": "code",
   "execution_count": 127,
   "id": "900ee896-63b6-49b1-a4bb-3a9f8adc056b",
   "metadata": {},
   "outputs": [
    {
     "data": {
      "text/plain": [
       "dict_items([('milk', 12), ('chocolate', 343), ('Icecream', 445)])"
      ]
     },
     "execution_count": 127,
     "metadata": {},
     "output_type": "execute_result"
    }
   ],
   "source": [
    "prices.items()"
   ]
  },
  {
   "cell_type": "code",
   "execution_count": 128,
   "id": "0a94c5f6-1a17-4497-896b-12f98e744f02",
   "metadata": {},
   "outputs": [
    {
     "data": {
      "text/plain": [
       "dict_keys(['milk', 'chocolate', 'Icecream'])"
      ]
     },
     "execution_count": 128,
     "metadata": {},
     "output_type": "execute_result"
    }
   ],
   "source": [
    "prices.keys()"
   ]
  },
  {
   "cell_type": "code",
   "execution_count": 136,
   "id": "5afcea73-88b4-4301-a196-8e950b7b8dd2",
   "metadata": {},
   "outputs": [
    {
     "data": {
      "text/plain": [
       "{'k1': 'v1', 'k2': [1, 6, 3], 'k3': {'insidekey': 345}}"
      ]
     },
     "execution_count": 136,
     "metadata": {},
     "output_type": "execute_result"
    }
   ],
   "source": [
    "d = {'k1':'v1','k2':[1,6,3],'k3':{'insidekey':345}}\n",
    "d"
   ]
  },
  {
   "cell_type": "code",
   "execution_count": 137,
   "id": "4794c427-f884-4cd0-b5e6-83e0155e3eaf",
   "metadata": {},
   "outputs": [
    {
     "data": {
      "text/plain": [
       "345"
      ]
     },
     "execution_count": 137,
     "metadata": {},
     "output_type": "execute_result"
    }
   ],
   "source": [
    "d['k3']['insidekey']"
   ]
  },
  {
   "cell_type": "code",
   "execution_count": 139,
   "id": "99dbef92-3d62-4ff4-a1c9-59bd6d83d6ba",
   "metadata": {},
   "outputs": [
    {
     "data": {
      "text/plain": [
       "[1, 6, 3]"
      ]
     },
     "execution_count": 139,
     "metadata": {},
     "output_type": "execute_result"
    }
   ],
   "source": [
    "mylist = d['k2']\n",
    "mylist"
   ]
  },
  {
   "cell_type": "code",
   "execution_count": 141,
   "id": "2f9e9e5d-56af-45dc-a8a3-a10ebd5379a0",
   "metadata": {},
   "outputs": [
    {
     "data": {
      "text/plain": [
       "6"
      ]
     },
     "execution_count": 141,
     "metadata": {},
     "output_type": "execute_result"
    }
   ],
   "source": [
    "letter = mylist[1]\n",
    "letter"
   ]
  },
  {
   "cell_type": "code",
   "execution_count": 142,
   "id": "3c81db44-12f6-4a07-a644-6fc4ebc750a3",
   "metadata": {},
   "outputs": [
    {
     "data": {
      "text/plain": [
       "'A'"
      ]
     },
     "execution_count": 142,
     "metadata": {},
     "output_type": "execute_result"
    }
   ],
   "source": [
    "dict = {'k1':['a','e','t']}\n",
    "dict['k1'][0].upper()"
   ]
  },
  {
   "cell_type": "code",
   "execution_count": 143,
   "id": "da2631d4-46d0-4195-bfd0-93b708177a8e",
   "metadata": {},
   "outputs": [
    {
     "data": {
      "text/plain": [
       "{'k1': 'New_Value', 'k2': [1, 6, 3], 'k3': {'insidekey': 345}}"
      ]
     },
     "execution_count": 143,
     "metadata": {},
     "output_type": "execute_result"
    }
   ],
   "source": [
    "d['k1'] = \"New_Value\"\n",
    "d"
   ]
  },
  {
   "cell_type": "code",
   "execution_count": 144,
   "id": "fdd681cb-d74f-40a7-9fc2-9177e3463b96",
   "metadata": {},
   "outputs": [
    {
     "data": {
      "text/plain": [
       "dict_keys(['k1', 'k2', 'k3'])"
      ]
     },
     "execution_count": 144,
     "metadata": {},
     "output_type": "execute_result"
    }
   ],
   "source": [
    "d.keys()"
   ]
  },
  {
   "cell_type": "code",
   "execution_count": 145,
   "id": "8cdb9651-a8e8-408e-af4e-d1830bfac45f",
   "metadata": {},
   "outputs": [
    {
     "data": {
      "text/plain": [
       "dict_values(['New_Value', [1, 6, 3], {'insidekey': 345}])"
      ]
     },
     "execution_count": 145,
     "metadata": {},
     "output_type": "execute_result"
    }
   ],
   "source": [
    "d.values()"
   ]
  },
  {
   "cell_type": "code",
   "execution_count": 146,
   "id": "fdab08ae-beba-4ffd-aeac-0888017246fc",
   "metadata": {},
   "outputs": [
    {
     "data": {
      "text/plain": [
       "(1, 2, 5)"
      ]
     },
     "execution_count": 146,
     "metadata": {},
     "output_type": "execute_result"
    }
   ],
   "source": [
    "#TUPLE ---> IMMUTABLE\n",
    "\n",
    "\n",
    "t = (1,2,5)\n",
    "t"
   ]
  },
  {
   "cell_type": "code",
   "execution_count": 147,
   "id": "edf10040-ed00-4732-88ad-41bc86be7ed5",
   "metadata": {},
   "outputs": [
    {
     "data": {
      "text/plain": [
       "tuple"
      ]
     },
     "execution_count": 147,
     "metadata": {},
     "output_type": "execute_result"
    }
   ],
   "source": [
    "type(t)"
   ]
  },
  {
   "cell_type": "code",
   "execution_count": 148,
   "id": "c4ab9a44-3c61-4494-921b-c961b8139ddd",
   "metadata": {},
   "outputs": [
    {
     "data": {
      "text/plain": [
       "1"
      ]
     },
     "execution_count": 148,
     "metadata": {},
     "output_type": "execute_result"
    }
   ],
   "source": [
    "t.count(1)"
   ]
  },
  {
   "cell_type": "code",
   "execution_count": 149,
   "id": "4e1cae1d-bdaf-4be7-b01d-4150197d36e8",
   "metadata": {},
   "outputs": [
    {
     "data": {
      "text/plain": [
       "(4, 5, 4, 4, 3, 6)"
      ]
     },
     "execution_count": 149,
     "metadata": {},
     "output_type": "execute_result"
    }
   ],
   "source": [
    "t1 = (4,5,4,4,3,6)\n",
    "t1"
   ]
  },
  {
   "cell_type": "code",
   "execution_count": 158,
   "id": "49d2d5b8-a4ea-4374-b02e-81fe3d44f0d9",
   "metadata": {},
   "outputs": [
    {
     "data": {
      "text/plain": [
       "3"
      ]
     },
     "execution_count": 158,
     "metadata": {},
     "output_type": "execute_result"
    }
   ],
   "source": [
    "t1.count(4)  # this will print how many times the 4 has ocuured"
   ]
  },
  {
   "cell_type": "code",
   "execution_count": 159,
   "id": "839455da-b694-4f8b-a4a2-977ccc430381",
   "metadata": {},
   "outputs": [
    {
     "data": {
      "text/plain": [
       "0"
      ]
     },
     "execution_count": 159,
     "metadata": {},
     "output_type": "execute_result"
    }
   ],
   "source": [
    "t1.index(4)   # will print the index of that argument that is very first ocuured in tuple"
   ]
  },
  {
   "cell_type": "code",
   "execution_count": 160,
   "id": "efa6978b-6fc6-41aa-b8aa-a93e738dcdaf",
   "metadata": {},
   "outputs": [
    {
     "data": {
      "text/plain": [
       "set()"
      ]
     },
     "execution_count": 160,
     "metadata": {},
     "output_type": "execute_result"
    }
   ],
   "source": [
    "# SET --> UNORDERED COLLECTION OF UNIQUE ELEMENTS\n",
    "\n",
    "myset = set()\n",
    "myset"
   ]
  },
  {
   "cell_type": "code",
   "execution_count": 161,
   "id": "94ed8212-f71a-49a4-adde-c152ade3b660",
   "metadata": {},
   "outputs": [],
   "source": [
    "myset.add(12)\n",
    "myset.add('Ram')"
   ]
  },
  {
   "cell_type": "code",
   "execution_count": 162,
   "id": "be8b07a5-da01-472d-8fed-0c6378c6e31c",
   "metadata": {},
   "outputs": [
    {
     "data": {
      "text/plain": [
       "{12, 'Ram'}"
      ]
     },
     "execution_count": 162,
     "metadata": {},
     "output_type": "execute_result"
    }
   ],
   "source": [
    "myset"
   ]
  },
  {
   "cell_type": "code",
   "execution_count": 164,
   "id": "a3c21e1c-7817-43cc-adbd-d093059680d8",
   "metadata": {},
   "outputs": [
    {
     "data": {
      "text/plain": [
       "{12, 'Ram'}"
      ]
     },
     "execution_count": 164,
     "metadata": {},
     "output_type": "execute_result"
    }
   ],
   "source": [
    "myset.add(12)\n",
    "myset"
   ]
  },
  {
   "cell_type": "code",
   "execution_count": 168,
   "id": "61dda708-742b-4866-a1d8-4f76bc3497de",
   "metadata": {},
   "outputs": [
    {
     "data": {
      "text/plain": [
       "{1, 2, 3, 22, 33}"
      ]
     },
     "execution_count": 168,
     "metadata": {},
     "output_type": "execute_result"
    }
   ],
   "source": [
    "mylist = [1,1,1,1,1,1,2,22,2,2,3,33,3,3,3,3,]\n",
    "set(mylist)"
   ]
  },
  {
   "cell_type": "code",
   "execution_count": 170,
   "id": "3260b4ac-542a-41cc-ab3f-a4dc96deddca",
   "metadata": {},
   "outputs": [
    {
     "data": {
      "text/plain": [
       "bool"
      ]
     },
     "execution_count": 170,
     "metadata": {},
     "output_type": "execute_result"
    }
   ],
   "source": [
    "#BOOLEAN\n",
    "\n",
    "type(False)"
   ]
  },
  {
   "cell_type": "code",
   "execution_count": 171,
   "id": "a5b692c4-e855-4228-ab8a-b783ef3799b6",
   "metadata": {},
   "outputs": [
    {
     "data": {
      "text/plain": [
       "False"
      ]
     },
     "execution_count": 171,
     "metadata": {},
     "output_type": "execute_result"
    }
   ],
   "source": [
    "1 > 2"
   ]
  },
  {
   "cell_type": "code",
   "execution_count": 172,
   "id": "9289ea21-e829-4f89-8e4b-ff81ac202cc7",
   "metadata": {},
   "outputs": [
    {
     "data": {
      "text/plain": [
       "True"
      ]
     },
     "execution_count": 172,
     "metadata": {},
     "output_type": "execute_result"
    }
   ],
   "source": [
    "1 == 1"
   ]
  },
  {
   "cell_type": "code",
   "execution_count": 174,
   "id": "36453363-2b3d-48de-b861-f354f21a5247",
   "metadata": {},
   "outputs": [
    {
     "data": {
      "text/plain": [
       "89.99898998"
      ]
     },
     "execution_count": 174,
     "metadata": {},
     "output_type": "execute_result"
    }
   ],
   "source": [
    "a "
   ]
  },
  {
   "cell_type": "code",
   "execution_count": 177,
   "id": "e2a855e2-1f37-4583-986e-b407a3b4c140",
   "metadata": {},
   "outputs": [],
   "source": [
    "f = None\n",
    "f"
   ]
  },
  {
   "cell_type": "code",
   "execution_count": 179,
   "id": "55d4ecff-3c54-4e7b-ab48-9646ecb3ff06",
   "metadata": {},
   "outputs": [
    {
     "name": "stdout",
     "output_type": "stream",
     "text": [
      "Writing myfile.txt\n"
     ]
    }
   ],
   "source": [
    "%%writefile myfile.txt\n",
    "Hello this is 1st line '\n",
    "This is 2nd line\n",
    "This is 3rd line"
   ]
  },
  {
   "cell_type": "code",
   "execution_count": 3,
   "id": "225c113a-b4dd-45ec-9d45-f4febc5e1296",
   "metadata": {},
   "outputs": [],
   "source": [
    "myfile = open('myfile.txt')"
   ]
  },
  {
   "cell_type": "code",
   "execution_count": 181,
   "id": "f81ad0df-d103-4bf5-baec-acdb807c7877",
   "metadata": {},
   "outputs": [],
   "source": [
    "#if you try to open the file which doen't exist it will throw an error"
   ]
  },
  {
   "cell_type": "code",
   "execution_count": null,
   "id": "7abe2758-08f7-44fa-becc-e93535f8259c",
   "metadata": {},
   "outputs": [],
   "source": []
  },
  {
   "cell_type": "code",
   "execution_count": 183,
   "id": "ffd58f20-998b-42a2-88a6-b7aaed005f51",
   "metadata": {},
   "outputs": [
    {
     "data": {
      "text/plain": [
       "'C:\\\\Users\\\\BindhuBP\\\\MyPython'"
      ]
     },
     "execution_count": 183,
     "metadata": {},
     "output_type": "execute_result"
    }
   ],
   "source": [
    "pwd"
   ]
  },
  {
   "cell_type": "code",
   "execution_count": 4,
   "id": "7ef15407-4961-4a53-934d-3f1da50dde28",
   "metadata": {},
   "outputs": [
    {
     "data": {
      "text/plain": [
       "\"Hello this is 1st line '\\nThis is 2nd line\\nThis is 3rd line\\n\""
      ]
     },
     "execution_count": 4,
     "metadata": {},
     "output_type": "execute_result"
    }
   ],
   "source": [
    "myfile.read()"
   ]
  },
  {
   "cell_type": "code",
   "execution_count": 5,
   "id": "13b5286a-6718-4666-976b-96b2985bb970",
   "metadata": {},
   "outputs": [
    {
     "data": {
      "text/plain": [
       "''"
      ]
     },
     "execution_count": 5,
     "metadata": {},
     "output_type": "execute_result"
    }
   ],
   "source": [
    "myfile.read()"
   ]
  },
  {
   "cell_type": "code",
   "execution_count": 6,
   "id": "57852d49-5d99-4c2b-8eef-222ac7ec7a17",
   "metadata": {},
   "outputs": [
    {
     "data": {
      "text/plain": [
       "0"
      ]
     },
     "execution_count": 6,
     "metadata": {},
     "output_type": "execute_result"
    }
   ],
   "source": [
    "myfile.seek(0)"
   ]
  },
  {
   "cell_type": "code",
   "execution_count": 7,
   "id": "36a03dba-46cb-4ef7-97a0-4cf4c8fddaf7",
   "metadata": {},
   "outputs": [
    {
     "data": {
      "text/plain": [
       "\"Hello this is 1st line '\\nThis is 2nd line\\nThis is 3rd line\\n\""
      ]
     },
     "execution_count": 7,
     "metadata": {},
     "output_type": "execute_result"
    }
   ],
   "source": [
    "myfile.read()"
   ]
  },
  {
   "cell_type": "code",
   "execution_count": 8,
   "id": "d4e67b76-65e5-4f89-afe4-b6d2bcd6de5b",
   "metadata": {},
   "outputs": [
    {
     "data": {
      "text/plain": [
       "[]"
      ]
     },
     "execution_count": 8,
     "metadata": {},
     "output_type": "execute_result"
    }
   ],
   "source": [
    "myfile.readlines()"
   ]
  },
  {
   "cell_type": "code",
   "execution_count": 10,
   "id": "0c623cd7-5e3b-4c0c-874f-4f535e41400b",
   "metadata": {},
   "outputs": [
    {
     "data": {
      "text/plain": [
       "4"
      ]
     },
     "execution_count": 10,
     "metadata": {},
     "output_type": "execute_result"
    }
   ],
   "source": [
    "myfile.seek(4)"
   ]
  },
  {
   "cell_type": "code",
   "execution_count": 11,
   "id": "3c7e9e50-51ff-4a61-ad4e-25157b90ad0a",
   "metadata": {},
   "outputs": [
    {
     "data": {
      "text/plain": [
       "[\"o this is 1st line '\\n\", 'This is 2nd line\\n', 'This is 3rd line\\n']"
      ]
     },
     "execution_count": 11,
     "metadata": {},
     "output_type": "execute_result"
    }
   ],
   "source": [
    "myfile.readlines()"
   ]
  },
  {
   "cell_type": "code",
   "execution_count": 12,
   "id": "ace74dca-e426-49b1-946c-5edc05b272de",
   "metadata": {},
   "outputs": [],
   "source": [
    "# If we want to open a file from other location use the format\n",
    "# ope(c:\\\\users\\\\userName\\\\Folder\\\\File.txt)"
   ]
  },
  {
   "cell_type": "code",
   "execution_count": 23,
   "id": "49e063b8-89ec-41bd-a91f-f26075fc4e1c",
   "metadata": {},
   "outputs": [
    {
     "name": "stdout",
     "output_type": "stream",
     "text": [
      "Overwriting my_new_file.txt\n"
     ]
    }
   ],
   "source": [
    "%%writefile my_new_file.txt\n",
    "FIRST LINE\n",
    "SECOND LINE\n",
    "THIRD LINE"
   ]
  },
  {
   "cell_type": "code",
   "execution_count": 24,
   "id": "48887e1a-390b-48fb-afb2-e02e36168e54",
   "metadata": {},
   "outputs": [
    {
     "name": "stdout",
     "output_type": "stream",
     "text": [
      "FIRST LINE\n",
      "SECOND LINE\n",
      "THIRD LINE\n",
      "\n"
     ]
    }
   ],
   "source": [
    "with open('my_new_file.txt',mode = 'r') as f:\n",
    "    print(f.read())"
   ]
  },
  {
   "cell_type": "code",
   "execution_count": 25,
   "id": "ee532162-ab3b-441a-9870-bad08a41d423",
   "metadata": {},
   "outputs": [],
   "source": [
    "with open('my_new_file.txt' , mode='a') as w:\n",
    "    w.write('FOURTH LINE')"
   ]
  },
  {
   "cell_type": "code",
   "execution_count": 26,
   "id": "fa3f066c-ca87-4fa4-87dd-6d269cc81cf5",
   "metadata": {},
   "outputs": [
    {
     "name": "stdout",
     "output_type": "stream",
     "text": [
      "FIRST LINE\n",
      "SECOND LINE\n",
      "THIRD LINE\n",
      "FOURTH LINE\n"
     ]
    }
   ],
   "source": [
    "with open('my_new_file.txt' , mode='r') as r:\n",
    "    print(r.read())"
   ]
  },
  {
   "cell_type": "code",
   "execution_count": 27,
   "id": "3b1f75a7-6bec-47a5-bcf1-b323d3a0c040",
   "metadata": {},
   "outputs": [],
   "source": [
    "with open('test.txt', mode = 'w') as ww:\n",
    "    ww.write(\"I CREATED THIS FILE\")"
   ]
  },
  {
   "cell_type": "code",
   "execution_count": 29,
   "id": "3d78945c-d585-4a97-85fa-6d79cbd4d793",
   "metadata": {},
   "outputs": [
    {
     "name": "stdout",
     "output_type": "stream",
     "text": [
      "I CREATED THIS FILE\n"
     ]
    }
   ],
   "source": [
    "with open('test.txt' , mode = 'r') as rr:\n",
    "    print(rr.read())"
   ]
  },
  {
   "cell_type": "code",
   "execution_count": 30,
   "id": "f2864d06-af0f-4b4f-b55b-187e438a7a2e",
   "metadata": {},
   "outputs": [
    {
     "data": {
      "text/plain": [
       "True"
      ]
     },
     "execution_count": 30,
     "metadata": {},
     "output_type": "execute_result"
    }
   ],
   "source": [
    "# Comparision operators\n",
    "\n",
    "2 == 2"
   ]
  },
  {
   "cell_type": "code",
   "execution_count": 31,
   "id": "ea0b8d1c-e58d-4036-ba21-85c708b80086",
   "metadata": {},
   "outputs": [
    {
     "data": {
      "text/plain": [
       "False"
      ]
     },
     "execution_count": 31,
     "metadata": {},
     "output_type": "execute_result"
    }
   ],
   "source": [
    "'hello' == 'HEllo'"
   ]
  },
  {
   "cell_type": "code",
   "execution_count": 32,
   "id": "27db5a82-c3fc-408f-a45e-63481e0a6bc9",
   "metadata": {},
   "outputs": [
    {
     "data": {
      "text/plain": [
       "False"
      ]
     },
     "execution_count": 32,
     "metadata": {},
     "output_type": "execute_result"
    }
   ],
   "source": [
    "'2' == 2"
   ]
  },
  {
   "cell_type": "code",
   "execution_count": 33,
   "id": "a3a637b6-f735-45c8-8eab-b0f7dfb032d3",
   "metadata": {},
   "outputs": [
    {
     "data": {
      "text/plain": [
       "True"
      ]
     },
     "execution_count": 33,
     "metadata": {},
     "output_type": "execute_result"
    }
   ],
   "source": [
    "2.0 == 2"
   ]
  },
  {
   "cell_type": "code",
   "execution_count": 34,
   "id": "0fa8f42f-2e43-4c9f-b9b2-c794c104f035",
   "metadata": {},
   "outputs": [
    {
     "data": {
      "text/plain": [
       "False"
      ]
     },
     "execution_count": 34,
     "metadata": {},
     "output_type": "execute_result"
    }
   ],
   "source": [
    "3!=3"
   ]
  },
  {
   "cell_type": "code",
   "execution_count": 36,
   "id": "a5d4e58b-6902-47c5-be35-85a13562aa69",
   "metadata": {},
   "outputs": [
    {
     "data": {
      "text/plain": [
       "True"
      ]
     },
     "execution_count": 36,
     "metadata": {},
     "output_type": "execute_result"
    }
   ],
   "source": [
    "4 != 7"
   ]
  },
  {
   "cell_type": "code",
   "execution_count": 37,
   "id": "8a5f2dc1-599f-46b5-b1bf-be845c6b7018",
   "metadata": {},
   "outputs": [
    {
     "data": {
      "text/plain": [
       "False"
      ]
     },
     "execution_count": 37,
     "metadata": {},
     "output_type": "execute_result"
    }
   ],
   "source": [
    "1>2"
   ]
  },
  {
   "cell_type": "code",
   "execution_count": 38,
   "id": "2593c306-43cc-42db-b04a-a277c2f8c6c9",
   "metadata": {},
   "outputs": [
    {
     "data": {
      "text/plain": [
       "True"
      ]
     },
     "execution_count": 38,
     "metadata": {},
     "output_type": "execute_result"
    }
   ],
   "source": [
    "1 < 2"
   ]
  },
  {
   "cell_type": "code",
   "execution_count": 40,
   "id": "05cce36f-b759-4c5e-b7ab-9efbb9e07348",
   "metadata": {},
   "outputs": [
    {
     "data": {
      "text/plain": [
       "False"
      ]
     },
     "execution_count": 40,
     "metadata": {},
     "output_type": "execute_result"
    }
   ],
   "source": [
    "2>= 4"
   ]
  },
  {
   "cell_type": "code",
   "execution_count": 41,
   "id": "3be3651d-3782-4165-a8ff-a13fe39146f5",
   "metadata": {},
   "outputs": [
    {
     "data": {
      "text/plain": [
       "True"
      ]
     },
     "execution_count": 41,
     "metadata": {},
     "output_type": "execute_result"
    }
   ],
   "source": [
    "1 >= 1"
   ]
  },
  {
   "cell_type": "code",
   "execution_count": 44,
   "id": "300ce2fc-89ce-4acc-95aa-864f7b1d3edb",
   "metadata": {},
   "outputs": [
    {
     "data": {
      "text/plain": [
       "False"
      ]
     },
     "execution_count": 44,
     "metadata": {},
     "output_type": "execute_result"
    }
   ],
   "source": [
    "#Chaining Comparators  --> logical operators  --> and or not\n",
    "\n",
    "1 < 2 > 3"
   ]
  },
  {
   "cell_type": "code",
   "execution_count": 48,
   "id": "c139e700-4773-4b7b-bc3b-a2aac3bab58b",
   "metadata": {},
   "outputs": [
    {
     "data": {
      "text/plain": [
       "False"
      ]
     },
     "execution_count": 48,
     "metadata": {},
     "output_type": "execute_result"
    }
   ],
   "source": [
    "#and operator --> all condition should be true then o/p will be true \n",
    "# if one of the condition is false then o/p will be false\n",
    "\n",
    "1 < 2 and 2 > 3"
   ]
  },
  {
   "cell_type": "code",
   "execution_count": 49,
   "id": "fc827cd0-bfa5-45c2-9339-0af1ec6058c8",
   "metadata": {},
   "outputs": [
    {
     "data": {
      "text/plain": [
       "True"
      ]
     },
     "execution_count": 49,
     "metadata": {},
     "output_type": "execute_result"
    }
   ],
   "source": [
    "#or --> if any of the condition is true then o/p will be TRUE otherwise FALSE\n",
    "1 < 2 or 2 > 3"
   ]
  },
  {
   "cell_type": "code",
   "execution_count": 50,
   "id": "3bd1e089-8b6c-4910-9bec-6754a7f4e1ee",
   "metadata": {},
   "outputs": [
    {
     "data": {
      "text/plain": [
       "True"
      ]
     },
     "execution_count": 50,
     "metadata": {},
     "output_type": "execute_result"
    }
   ],
   "source": [
    "'k' == 'k' and 3 ==3"
   ]
  },
  {
   "cell_type": "code",
   "execution_count": 53,
   "id": "8dffd61a-4919-4714-841a-3f2fb258b427",
   "metadata": {},
   "outputs": [
    {
     "data": {
      "text/plain": [
       "True"
      ]
     },
     "execution_count": 53,
     "metadata": {},
     "output_type": "execute_result"
    }
   ],
   "source": [
    "not 1==2"
   ]
  },
  {
   "cell_type": "code",
   "execution_count": 54,
   "id": "e0d72ce7-f987-4c80-93bb-72bc1e9ad8b3",
   "metadata": {},
   "outputs": [
    {
     "data": {
      "text/plain": [
       "False"
      ]
     },
     "execution_count": 54,
     "metadata": {},
     "output_type": "execute_result"
    }
   ],
   "source": [
    "not 1==1"
   ]
  },
  {
   "cell_type": "code",
   "execution_count": null,
   "id": "5965edbb-4fa4-4933-a2a5-3c806a41e8b8",
   "metadata": {},
   "outputs": [],
   "source": []
  }
 ],
 "metadata": {
  "kernelspec": {
   "display_name": "Python 3 (ipykernel)",
   "language": "python",
   "name": "python3"
  },
  "language_info": {
   "codemirror_mode": {
    "name": "ipython",
    "version": 3
   },
   "file_extension": ".py",
   "mimetype": "text/x-python",
   "name": "python",
   "nbconvert_exporter": "python",
   "pygments_lexer": "ipython3",
   "version": "3.11.7"
  }
 },
 "nbformat": 4,
 "nbformat_minor": 5
}
