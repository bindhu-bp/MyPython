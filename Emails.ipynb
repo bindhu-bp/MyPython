{
 "cells": [
  {
   "cell_type": "code",
   "execution_count": 1,
   "id": "2d47fcb0-88a4-497a-a9bc-d449aab95b63",
   "metadata": {},
   "outputs": [],
   "source": [
    "import smtplib"
   ]
  },
  {
   "cell_type": "code",
   "execution_count": 3,
   "id": "17f4ed00-d704-4876-9ee3-d5bf63bca01a",
   "metadata": {},
   "outputs": [],
   "source": [
    "smtp_obj = smtplib.SMTP('smtp.gmail.com',587)"
   ]
  },
  {
   "cell_type": "code",
   "execution_count": 4,
   "id": "b57a0898-ef5e-4a83-bf1a-92c110f19905",
   "metadata": {},
   "outputs": [
    {
     "data": {
      "text/plain": [
       "(250,\n",
       " b'smtp.gmail.com at your service, [103.171.99.38]\\nSIZE 35882577\\n8BITMIME\\nSTARTTLS\\nENHANCEDSTATUSCODES\\nPIPELINING\\nCHUNKING\\nSMTPUTF8')"
      ]
     },
     "execution_count": 4,
     "metadata": {},
     "output_type": "execute_result"
    }
   ],
   "source": [
    "smtp_obj.ehlo()"
   ]
  },
  {
   "cell_type": "code",
   "execution_count": 5,
   "id": "8b42cdb4-076b-4dce-aaf3-795457aa65e9",
   "metadata": {},
   "outputs": [
    {
     "data": {
      "text/plain": [
       "(220, b'2.0.0 Ready to start TLS')"
      ]
     },
     "execution_count": 5,
     "metadata": {},
     "output_type": "execute_result"
    }
   ],
   "source": [
    "smtp_obj.starttls()"
   ]
  },
  {
   "cell_type": "code",
   "execution_count": 6,
   "id": "5401d879-a561-4371-a5d6-a5e5fc0957f6",
   "metadata": {},
   "outputs": [
    {
     "name": "stdin",
     "output_type": "stream",
     "text": [
      "WHat is your password viii\n"
     ]
    }
   ],
   "source": [
    "password = input('WHat is your password')"
   ]
  },
  {
   "cell_type": "code",
   "execution_count": 7,
   "id": "580830e2-72ae-4976-bd15-b40aa4fd49a1",
   "metadata": {},
   "outputs": [],
   "source": [
    "import getpass"
   ]
  },
  {
   "cell_type": "code",
   "execution_count": 8,
   "id": "edae9a68-0f5b-4940-a59b-dbcbb4c84b82",
   "metadata": {},
   "outputs": [
    {
     "name": "stdin",
     "output_type": "stream",
     "text": [
      "Password please ········\n"
     ]
    }
   ],
   "source": [
    "password = getpass.getpass('Password please')"
   ]
  },
  {
   "cell_type": "code",
   "execution_count": null,
   "id": "31d43522-37b4-4e4b-a9ce-918033510bff",
   "metadata": {},
   "outputs": [],
   "source": []
  }
 ],
 "metadata": {
  "kernelspec": {
   "display_name": "Python 3 (ipykernel)",
   "language": "python",
   "name": "python3"
  },
  "language_info": {
   "codemirror_mode": {
    "name": "ipython",
    "version": 3
   },
   "file_extension": ".py",
   "mimetype": "text/x-python",
   "name": "python",
   "nbconvert_exporter": "python",
   "pygments_lexer": "ipython3",
   "version": "3.11.7"
  }
 },
 "nbformat": 4,
 "nbformat_minor": 5
}
