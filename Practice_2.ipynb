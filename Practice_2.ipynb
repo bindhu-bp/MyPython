{
 "cells": [
  {
   "cell_type": "code",
   "execution_count": 1,
   "id": "67a45d27-bfd9-449f-8fb6-a4638cd09ec2",
   "metadata": {},
   "outputs": [],
   "source": [
    "from random import shuffle"
   ]
  },
  {
   "cell_type": "code",
   "execution_count": 2,
   "id": "8039ac92-ea6e-4f98-9126-497943856d40",
   "metadata": {},
   "outputs": [],
   "source": [
    "def shuffle_list(mylist):\n",
    "    shuffle(mylist)\n",
    "    return mylist\n",
    "    "
   ]
  },
  {
   "cell_type": "code",
   "execution_count": 3,
   "id": "a337aab0-d91f-463f-9104-f4ce06c98da9",
   "metadata": {},
   "outputs": [],
   "source": [
    "def player_guess():\n",
    "    guess = ''\n",
    "\n",
    "    while guess not in ['0','1','2']:\n",
    "        guess = input(\"Please pick from 0,1 or 2\")\n",
    "    return int(guess)"
   ]
  },
  {
   "cell_type": "code",
   "execution_count": 4,
   "id": "d34e7aae-4d48-4c77-9f8b-25ecc80e617d",
   "metadata": {},
   "outputs": [],
   "source": [
    "def check_guess(mylist,guess):\n",
    "    if mylist[guess] == '0':\n",
    "        print(\"CORRECT\")\n",
    "    else:\n",
    "        print(\"WRONG\")\n",
    "        print(mylist)"
   ]
  },
  {
   "cell_type": "code",
   "execution_count": 5,
   "id": "9a2f3328-17c0-4af8-af1f-3f97001da889",
   "metadata": {},
   "outputs": [
    {
     "name": "stdin",
     "output_type": "stream",
     "text": [
      "Please pick from 0,1 or 2 8\n",
      "Please pick from 0,1 or 2 1\n"
     ]
    },
    {
     "name": "stdout",
     "output_type": "stream",
     "text": [
      "WRONG\n",
      "['', ' ', '0']\n"
     ]
    }
   ],
   "source": [
    "mylist = [' ','0','']\n",
    "mixed_list = shuffle_list(mylist)\n",
    "guess = player_guess()\n",
    "check_guess(mixed_list,guess)"
   ]
  },
  {
   "cell_type": "code",
   "execution_count": 7,
   "id": "bcbf3abc-92ec-4d01-804f-beca0ed1d0fd",
   "metadata": {},
   "outputs": [
    {
     "data": {
      "text/plain": [
       "[1, 4, 9, 16, 25, 36, 49, 64, 81, 100]"
      ]
     },
     "execution_count": 7,
     "metadata": {},
     "output_type": "execute_result"
    }
   ],
   "source": [
    "def myfunc():\n",
    "    return [x*x for x in range(1,11)]\n",
    "myfunc()"
   ]
  },
  {
   "cell_type": "code",
   "execution_count": null,
   "id": "e1575bf8-7b05-4f91-b6db-365bbb512aac",
   "metadata": {},
   "outputs": [],
   "source": []
  },
  {
   "cell_type": "code",
   "execution_count": null,
   "id": "e157cb03-3a54-4eef-8b40-a10e599afeb7",
   "metadata": {},
   "outputs": [],
   "source": []
  },
  {
   "cell_type": "code",
   "execution_count": 13,
   "id": "b99432b2-e2ea-4799-a6dd-dd7b8f1a26ad",
   "metadata": {},
   "outputs": [],
   "source": [
    "def fab(n):\n",
    "    l = [0,1]\n",
    "    [l.append(l[-1]+l[-2]) for _ in range(2,n)]\n",
    "    return l"
   ]
  },
  {
   "cell_type": "code",
   "execution_count": 14,
   "id": "707a2ba7-36ed-46e4-bd8c-510b954c245b",
   "metadata": {},
   "outputs": [
    {
     "data": {
      "text/plain": [
       "[0, 1, 1, 2, 3, 5, 8, 13, 21, 34]"
      ]
     },
     "execution_count": 14,
     "metadata": {},
     "output_type": "execute_result"
    }
   ],
   "source": [
    "fab(10)"
   ]
  },
  {
   "cell_type": "code",
   "execution_count": null,
   "id": "8b1a01bd-8a5c-4fa9-89cf-825c0b2c34dc",
   "metadata": {},
   "outputs": [],
   "source": []
  },
  {
   "cell_type": "code",
   "execution_count": 15,
   "id": "572a7ae3-cbab-42a0-bee9-380d08b8c68e",
   "metadata": {},
   "outputs": [],
   "source": [
    "def function_that_needs_decorator():\n",
    "    print(\"I am the function that needs decorator\")"
   ]
  },
  {
   "cell_type": "code",
   "execution_count": 18,
   "id": "804b1fa1-ae58-4761-9ef1-1b50d5a4aaaa",
   "metadata": {},
   "outputs": [],
   "source": [
    "def decorator(fun):\n",
    "    def inner():\n",
    "        fun()\n",
    "    return fun\n",
    "    "
   ]
  },
  {
   "cell_type": "code",
   "execution_count": 19,
   "id": "cf37cfef-fd8a-432a-a227-bf4aad5cf679",
   "metadata": {},
   "outputs": [],
   "source": [
    "@decorator\n",
    "def function_that_needs_decorator():\n",
    "    print(\"I am the function that needs decorator\")"
   ]
  },
  {
   "cell_type": "code",
   "execution_count": 20,
   "id": "8ea0c713-024a-4c72-aacb-37b22bfe842c",
   "metadata": {},
   "outputs": [
    {
     "name": "stdout",
     "output_type": "stream",
     "text": [
      "I am the function that needs decorator\n"
     ]
    }
   ],
   "source": [
    "function_that_needs_decorator()"
   ]
  },
  {
   "cell_type": "code",
   "execution_count": 21,
   "id": "22d7d4ae-f98c-4014-9fbc-4ba230fb28ba",
   "metadata": {},
   "outputs": [],
   "source": [
    "def square(n):\n",
    "    for i in range(n):\n",
    "        yield i**2\n",
    "        \n",
    "    "
   ]
  },
  {
   "cell_type": "code",
   "execution_count": 26,
   "id": "9c33cf9f-e578-4f22-8859-4fed22aece4e",
   "metadata": {},
   "outputs": [
    {
     "name": "stdout",
     "output_type": "stream",
     "text": [
      "0\n",
      "1\n",
      "4\n",
      "9\n",
      "16\n",
      "25\n",
      "36\n",
      "49\n",
      "64\n",
      "81\n"
     ]
    }
   ],
   "source": [
    "gen = square(10)\n",
    "for i in gen:\n",
    "    print(i)"
   ]
  },
  {
   "cell_type": "code",
   "execution_count": 27,
   "id": "ce1b6f69-e92a-427e-8d0e-b95089a89761",
   "metadata": {},
   "outputs": [],
   "source": [
    "l = [1,2,3,4]"
   ]
  },
  {
   "cell_type": "code",
   "execution_count": 28,
   "id": "59e20a0b-9a0d-477b-b845-89167915b141",
   "metadata": {},
   "outputs": [],
   "source": [
    "gencomp = (item for item in l if item>2)"
   ]
  },
  {
   "cell_type": "code",
   "execution_count": 29,
   "id": "612d601d-8ffb-4965-b98f-cb1e945a36ad",
   "metadata": {},
   "outputs": [
    {
     "data": {
      "text/plain": [
       "<generator object <genexpr> at 0x000001C66DD15E50>"
      ]
     },
     "execution_count": 29,
     "metadata": {},
     "output_type": "execute_result"
    }
   ],
   "source": [
    "gencomp"
   ]
  },
  {
   "cell_type": "code",
   "execution_count": 30,
   "id": "bc4b1ac8-de6d-4d69-8b56-67991cd04c7e",
   "metadata": {},
   "outputs": [
    {
     "name": "stdout",
     "output_type": "stream",
     "text": [
      "3\n",
      "4\n"
     ]
    }
   ],
   "source": [
    "for i in gencomp:\n",
    "    print(i)"
   ]
  },
  {
   "cell_type": "code",
   "execution_count": 31,
   "id": "bc86814f-1a19-4316-9882-51ae87ac3a62",
   "metadata": {},
   "outputs": [],
   "source": [
    "l = [1,2,3]"
   ]
  },
  {
   "cell_type": "code",
   "execution_count": null,
   "id": "1654cb51-2f05-42e0-9506-a0ef44153794",
   "metadata": {},
   "outputs": [],
   "source": []
  },
  {
   "cell_type": "code",
   "execution_count": null,
   "id": "92a6212c-104d-4be6-a7c7-512a1c4ae90f",
   "metadata": {},
   "outputs": [],
   "source": []
  }
 ],
 "metadata": {
  "kernelspec": {
   "display_name": "Python 3 (ipykernel)",
   "language": "python",
   "name": "python3"
  },
  "language_info": {
   "codemirror_mode": {
    "name": "ipython",
    "version": 3
   },
   "file_extension": ".py",
   "mimetype": "text/x-python",
   "name": "python",
   "nbconvert_exporter": "python",
   "pygments_lexer": "ipython3",
   "version": "3.11.7"
  }
 },
 "nbformat": 4,
 "nbformat_minor": 5
}
