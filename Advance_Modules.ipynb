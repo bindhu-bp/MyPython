{
 "cells": [
  {
   "cell_type": "code",
   "execution_count": 162,
   "id": "1e07f292-c565-4f21-b43b-4d5650e78475",
   "metadata": {},
   "outputs": [],
   "source": [
    "# Collections Module \n",
    "\n",
    "\n",
    "from collections import Counter"
   ]
  },
  {
   "cell_type": "code",
   "execution_count": 163,
   "id": "307c096e-bf79-429d-b924-a1aa9353c130",
   "metadata": {},
   "outputs": [],
   "source": [
    "mylist = [1,2,2,2,1,1,1,1,1,1,3,3,3,3,3,3,3,3,3,3,2,2,2,2,2]"
   ]
  },
  {
   "cell_type": "code",
   "execution_count": 164,
   "id": "5855b97e-8075-4333-b4be-a92b35832cbc",
   "metadata": {},
   "outputs": [
    {
     "data": {
      "text/plain": [
       "Counter({3: 10, 2: 8, 1: 7})"
      ]
     },
     "execution_count": 164,
     "metadata": {},
     "output_type": "execute_result"
    }
   ],
   "source": [
    "Counter(mylist)"
   ]
  },
  {
   "cell_type": "code",
   "execution_count": 165,
   "id": "43a3bf02-1d36-4886-8aa2-b676d525dbac",
   "metadata": {},
   "outputs": [
    {
     "data": {
      "text/plain": [
       "Counter({'V': 5,\n",
       "         'G': 3,\n",
       "         'Y': 3,\n",
       "         'A': 3,\n",
       "         'S': 2,\n",
       "         'F': 2,\n",
       "         'H': 2,\n",
       "         'D': 1,\n",
       "         'T': 1,\n",
       "         'C': 1,\n",
       "         'B': 1})"
      ]
     },
     "execution_count": 165,
     "metadata": {},
     "output_type": "execute_result"
    }
   ],
   "source": [
    "Counter(\"GGSDTFYVHVCVABSVGHAYFYAV\")"
   ]
  },
  {
   "cell_type": "code",
   "execution_count": 166,
   "id": "d84c7af3-2a57-47e5-bc44-870be2f2a1bd",
   "metadata": {},
   "outputs": [],
   "source": [
    "from collections import defaultdict"
   ]
  },
  {
   "cell_type": "code",
   "execution_count": 167,
   "id": "72de22dc-f213-433b-86cf-5df74e4f2422",
   "metadata": {},
   "outputs": [],
   "source": [
    "d = {'1':23,'2':'3434'}"
   ]
  },
  {
   "cell_type": "code",
   "execution_count": 168,
   "id": "1dfde9f2-92f4-4881-a4b9-58d91d9eff53",
   "metadata": {},
   "outputs": [
    {
     "data": {
      "text/plain": [
       "'3434'"
      ]
     },
     "execution_count": 168,
     "metadata": {},
     "output_type": "execute_result"
    }
   ],
   "source": [
    "d['2']"
   ]
  },
  {
   "cell_type": "code",
   "execution_count": 169,
   "id": "7ad09e10-2e7e-4bf8-8405-3f1edd76a84c",
   "metadata": {},
   "outputs": [
    {
     "ename": "KeyError",
     "evalue": "'3'",
     "output_type": "error",
     "traceback": [
      "\u001b[1;31m---------------------------------------------------------------------------\u001b[0m",
      "\u001b[1;31mKeyError\u001b[0m                                  Traceback (most recent call last)",
      "Cell \u001b[1;32mIn[169], line 1\u001b[0m\n\u001b[1;32m----> 1\u001b[0m d[\u001b[38;5;124m'\u001b[39m\u001b[38;5;124m3\u001b[39m\u001b[38;5;124m'\u001b[39m]\n",
      "\u001b[1;31mKeyError\u001b[0m: '3'"
     ]
    }
   ],
   "source": [
    "d['3']"
   ]
  },
  {
   "cell_type": "code",
   "execution_count": 170,
   "id": "ff74445e-c309-41ee-930e-75fdd18eebc6",
   "metadata": {},
   "outputs": [],
   "source": [
    "d = defaultdict(lambda : 0)"
   ]
  },
  {
   "cell_type": "code",
   "execution_count": 171,
   "id": "c220f770-99f7-465f-aed2-c4c8fd8da45b",
   "metadata": {},
   "outputs": [
    {
     "data": {
      "text/plain": [
       "1"
      ]
     },
     "execution_count": 171,
     "metadata": {},
     "output_type": "execute_result"
    }
   ],
   "source": [
    "d['correct'] = 1\n",
    "d['correct']"
   ]
  },
  {
   "cell_type": "code",
   "execution_count": 172,
   "id": "bfdb9f4c-011b-4177-aa10-88c5e4d7f7ae",
   "metadata": {},
   "outputs": [
    {
     "data": {
      "text/plain": [
       "0"
      ]
     },
     "execution_count": 172,
     "metadata": {},
     "output_type": "execute_result"
    }
   ],
   "source": [
    "d['wrong']"
   ]
  },
  {
   "cell_type": "code",
   "execution_count": 173,
   "id": "5718bfcd-e839-4bdf-b025-cb8296ff7303",
   "metadata": {},
   "outputs": [
    {
     "data": {
      "text/plain": [
       "defaultdict(<function __main__.<lambda>()>, {'correct': 1, 'wrong': 0})"
      ]
     },
     "execution_count": 173,
     "metadata": {},
     "output_type": "execute_result"
    }
   ],
   "source": [
    "d"
   ]
  },
  {
   "cell_type": "code",
   "execution_count": null,
   "id": "d57c9eb0-0076-4675-a5dc-ba24a883d11a",
   "metadata": {},
   "outputs": [],
   "source": []
  },
  {
   "cell_type": "code",
   "execution_count": null,
   "id": "fd9e4d1f-47c9-4efd-b48c-692254df956a",
   "metadata": {},
   "outputs": [],
   "source": []
  },
  {
   "cell_type": "code",
   "execution_count": 174,
   "id": "0e210c4c-bb1f-4426-8be0-470748514f32",
   "metadata": {},
   "outputs": [],
   "source": [
    "tu = (10,0,20)"
   ]
  },
  {
   "cell_type": "code",
   "execution_count": 175,
   "id": "902165cf-f422-41bc-ba72-28ebbe17752b",
   "metadata": {},
   "outputs": [
    {
     "data": {
      "text/plain": [
       "20"
      ]
     },
     "execution_count": 175,
     "metadata": {},
     "output_type": "execute_result"
    }
   ],
   "source": [
    "tu[2]"
   ]
  },
  {
   "cell_type": "code",
   "execution_count": 176,
   "id": "6ce443ff-d3f5-4a9f-8835-461cab5c9a50",
   "metadata": {},
   "outputs": [],
   "source": [
    "from collections import namedtuple\n",
    "Dog =  namedtuple('Dog',['age','breed','name'])"
   ]
  },
  {
   "cell_type": "code",
   "execution_count": 177,
   "id": "a34f768d-774f-479d-ba50-c59ba940e890",
   "metadata": {},
   "outputs": [],
   "source": [
    "bruno = Dog(age = 5, breed = 'Huskey',name = \"Bruno\")"
   ]
  },
  {
   "cell_type": "code",
   "execution_count": 178,
   "id": "2dc994eb-1872-4ca8-823c-794712a5f1c3",
   "metadata": {},
   "outputs": [
    {
     "data": {
      "text/plain": [
       "__main__.Dog"
      ]
     },
     "execution_count": 178,
     "metadata": {},
     "output_type": "execute_result"
    }
   ],
   "source": [
    "type(bruno)"
   ]
  },
  {
   "cell_type": "code",
   "execution_count": 179,
   "id": "cd92b020-db92-48e0-91cf-d25b809cc96e",
   "metadata": {},
   "outputs": [
    {
     "data": {
      "text/plain": [
       "Dog(age=5, breed='Huskey', name='Bruno')"
      ]
     },
     "execution_count": 179,
     "metadata": {},
     "output_type": "execute_result"
    }
   ],
   "source": [
    "bruno"
   ]
  },
  {
   "cell_type": "code",
   "execution_count": 180,
   "id": "02ca6f3c-58f8-46e8-8388-1213b47774f6",
   "metadata": {},
   "outputs": [
    {
     "data": {
      "text/plain": [
       "5"
      ]
     },
     "execution_count": 180,
     "metadata": {},
     "output_type": "execute_result"
    }
   ],
   "source": [
    "bruno.age"
   ]
  },
  {
   "cell_type": "code",
   "execution_count": 181,
   "id": "0d3cca4f-70ef-40fe-a981-25ed3ed7fccc",
   "metadata": {},
   "outputs": [
    {
     "data": {
      "text/plain": [
       "'C:\\\\Users\\\\BindhuBP\\\\MyPython'"
      ]
     },
     "execution_count": 181,
     "metadata": {},
     "output_type": "execute_result"
    }
   ],
   "source": [
    "pwd\n"
   ]
  },
  {
   "cell_type": "code",
   "execution_count": 182,
   "id": "99d784df-e935-4711-9628-16ceb9d63e39",
   "metadata": {},
   "outputs": [],
   "source": [
    "f = open ('practice.txt','w+')\n",
    "f.write(\"This is a practice file\")\n",
    "f.close()"
   ]
  },
  {
   "cell_type": "code",
   "execution_count": 183,
   "id": "46945188-fcfe-4c7f-be73-711d66e03577",
   "metadata": {},
   "outputs": [],
   "source": [
    "import os"
   ]
  },
  {
   "cell_type": "code",
   "execution_count": 184,
   "id": "c235658b-bb94-4f22-8d7e-8ffaf675a10e",
   "metadata": {},
   "outputs": [
    {
     "data": {
      "text/plain": [
       "'C:\\\\Users\\\\BindhuBP\\\\MyPython'"
      ]
     },
     "execution_count": 184,
     "metadata": {},
     "output_type": "execute_result"
    }
   ],
   "source": [
    "os.getcwd()"
   ]
  },
  {
   "cell_type": "code",
   "execution_count": 185,
   "id": "ec158f18-6366-46b5-93c6-1a1dfe25958d",
   "metadata": {},
   "outputs": [
    {
     "data": {
      "text/plain": [
       "['.git',\n",
       " '.gitattributes',\n",
       " '.ipynb_checkpoints',\n",
       " 'Advance_Modules.ipynb',\n",
       " 'Day1.ipynb',\n",
       " 'Day2.ipynb',\n",
       " 'Day2_Methods.ipynb',\n",
       " 'Day2_pythonStatement.ipynb',\n",
       " 'Day_3.ipynb',\n",
       " 'Decorators.ipynb',\n",
       " 'MileStoneProject.ipynb',\n",
       " 'myfile.txt',\n",
       " 'my_new_file.txt',\n",
       " 'OOPS.ipynb',\n",
       " 'Practice.ipynb',\n",
       " 'practice.txt',\n",
       " 'Practice_2.ipynb',\n",
       " 'Practice_3.ipynb',\n",
       " 'README.md',\n",
       " 'test.txt']"
      ]
     },
     "execution_count": 185,
     "metadata": {},
     "output_type": "execute_result"
    }
   ],
   "source": [
    "os.listdir()"
   ]
  },
  {
   "cell_type": "code",
   "execution_count": null,
   "id": "19138448-2d5f-4090-a016-e8818ba53b53",
   "metadata": {},
   "outputs": [],
   "source": []
  },
  {
   "cell_type": "code",
   "execution_count": null,
   "id": "ccaeaf8f-00d9-4059-a110-8f00f0b07485",
   "metadata": {},
   "outputs": [],
   "source": []
  },
  {
   "cell_type": "code",
   "execution_count": 186,
   "id": "b9eda9d2-c846-40ae-9797-7f9ed1b98f3d",
   "metadata": {},
   "outputs": [],
   "source": [
    "import shutil"
   ]
  },
  {
   "cell_type": "code",
   "execution_count": 187,
   "id": "fe754794-5cdf-4dda-bc42-2ecc53787660",
   "metadata": {},
   "outputs": [
    {
     "data": {
      "text/plain": [
       "'C:\\\\Users\\\\BindhuBP\\\\practice.txt'"
      ]
     },
     "execution_count": 187,
     "metadata": {},
     "output_type": "execute_result"
    }
   ],
   "source": [
    "shutil.move('practice.txt','C:\\\\Users\\\\BindhuBP')"
   ]
  },
  {
   "cell_type": "code",
   "execution_count": 188,
   "id": "22dfc59c-e809-47d8-b2e6-0a130c7514b4",
   "metadata": {},
   "outputs": [
    {
     "data": {
      "text/plain": [
       "'C:\\\\Users\\\\BindhuBP\\\\MyPython'"
      ]
     },
     "execution_count": 188,
     "metadata": {},
     "output_type": "execute_result"
    }
   ],
   "source": [
    "os.getcwd()"
   ]
  },
  {
   "cell_type": "code",
   "execution_count": 189,
   "id": "6c57b57c-cc74-40d5-83dd-a844ae9d70b6",
   "metadata": {},
   "outputs": [
    {
     "data": {
      "text/plain": [
       "'C:\\\\Users\\\\BindhuBP\\\\MyPython\\\\practice.txt'"
      ]
     },
     "execution_count": 189,
     "metadata": {},
     "output_type": "execute_result"
    }
   ],
   "source": [
    "shutil.move('C:\\\\Users\\\\BindhuBP\\\\practice.txt',os.getcwd())"
   ]
  },
  {
   "cell_type": "code",
   "execution_count": 190,
   "id": "97c64e52-84dd-4b7b-a541-a28638179858",
   "metadata": {},
   "outputs": [
    {
     "name": "stdout",
     "output_type": "stream",
     "text": [
      "3\n",
      "20\n",
      "0\n",
      "90\n",
      "03:20:00.000090\n"
     ]
    }
   ],
   "source": [
    "# DATE TIME MODULE\n",
    "\n",
    "\n",
    "import datetime\n",
    "\n",
    "mytime = datetime.time(3,20,0,90)\n",
    "print(mytime.hour)\n",
    "print(mytime.minute)\n",
    "print(mytime.second)\n",
    "print(mytime.microsecond)\n",
    "print(mytime)\n"
   ]
  },
  {
   "cell_type": "code",
   "execution_count": 191,
   "id": "78f1ca3a-38b8-403f-83fc-86b7587df035",
   "metadata": {},
   "outputs": [
    {
     "data": {
      "text/plain": [
       "datetime.time"
      ]
     },
     "execution_count": 191,
     "metadata": {},
     "output_type": "execute_result"
    }
   ],
   "source": [
    "type(mytime)"
   ]
  },
  {
   "cell_type": "code",
   "execution_count": 192,
   "id": "324c6d99-3cb8-4b94-8df7-089cd7322fda",
   "metadata": {},
   "outputs": [
    {
     "data": {
      "text/plain": [
       "datetime.date(2024, 4, 22)"
      ]
     },
     "execution_count": 192,
     "metadata": {},
     "output_type": "execute_result"
    }
   ],
   "source": [
    "today = datetime.date.today()\n",
    "today"
   ]
  },
  {
   "cell_type": "code",
   "execution_count": 193,
   "id": "e2a8111e-3685-45a1-a89a-2e3b4e0c9e93",
   "metadata": {},
   "outputs": [
    {
     "data": {
      "text/plain": [
       "2024"
      ]
     },
     "execution_count": 193,
     "metadata": {},
     "output_type": "execute_result"
    }
   ],
   "source": [
    "today.year"
   ]
  },
  {
   "cell_type": "code",
   "execution_count": 194,
   "id": "80f96735-e12b-4f99-a1bf-88c67e861e4c",
   "metadata": {},
   "outputs": [
    {
     "data": {
      "text/plain": [
       "22"
      ]
     },
     "execution_count": 194,
     "metadata": {},
     "output_type": "execute_result"
    }
   ],
   "source": [
    "today.day"
   ]
  },
  {
   "cell_type": "code",
   "execution_count": 195,
   "id": "5daaed1d-d85d-4182-9da7-96925a598371",
   "metadata": {},
   "outputs": [
    {
     "data": {
      "text/plain": [
       "'Mon Apr 22 00:00:00 2024'"
      ]
     },
     "execution_count": 195,
     "metadata": {},
     "output_type": "execute_result"
    }
   ],
   "source": [
    "today.ctime()"
   ]
  },
  {
   "cell_type": "code",
   "execution_count": 196,
   "id": "d452a4fa-acb2-422f-a2a7-84a3956fba49",
   "metadata": {},
   "outputs": [],
   "source": [
    "from datetime import datetime"
   ]
  },
  {
   "cell_type": "code",
   "execution_count": 197,
   "id": "6fa731f8-01d3-4d9e-ab1a-aef9fcd70122",
   "metadata": {},
   "outputs": [
    {
     "name": "stdout",
     "output_type": "stream",
     "text": [
      "2024-02-21 23:04:05\n"
     ]
    }
   ],
   "source": [
    "print(datetime(2024,2,21,23,4,5))"
   ]
  },
  {
   "cell_type": "code",
   "execution_count": 198,
   "id": "e78ea2e3-cf2f-479d-b626-6a248bf30997",
   "metadata": {},
   "outputs": [],
   "source": [
    "from datetime import date\n",
    "date1 = date(2023,4,2)\n",
    "date2 = date(2024,4,2)"
   ]
  },
  {
   "cell_type": "code",
   "execution_count": 199,
   "id": "dd1a27f8-7b22-40a2-85cf-f55a11825b85",
   "metadata": {},
   "outputs": [
    {
     "data": {
      "text/plain": [
       "datetime.timedelta(days=366)"
      ]
     },
     "execution_count": 199,
     "metadata": {},
     "output_type": "execute_result"
    }
   ],
   "source": [
    "date2-date1"
   ]
  },
  {
   "cell_type": "code",
   "execution_count": 200,
   "id": "3668170b-e4cf-426e-90a6-4dfcb894bb98",
   "metadata": {},
   "outputs": [],
   "source": [
    "datetime1 = datetime(2024,11,2,22,0)\n",
    "datetime2 = datetime(2024,10,2,22,4)"
   ]
  },
  {
   "cell_type": "code",
   "execution_count": 201,
   "id": "a491a19d-0b7b-4f3f-a8d3-012860bc5555",
   "metadata": {},
   "outputs": [],
   "source": [
    "diff = datetime1-datetime2"
   ]
  },
  {
   "cell_type": "code",
   "execution_count": 202,
   "id": "d3530e4d-c4a8-4f3b-85c9-fa9e6821b82c",
   "metadata": {},
   "outputs": [
    {
     "data": {
      "text/plain": [
       "2678160.0"
      ]
     },
     "execution_count": 202,
     "metadata": {},
     "output_type": "execute_result"
    }
   ],
   "source": [
    "diff.total_seconds()"
   ]
  },
  {
   "cell_type": "code",
   "execution_count": 203,
   "id": "51bfb3a2-1ee9-4734-a9a1-de7354f117c9",
   "metadata": {},
   "outputs": [
    {
     "data": {
      "text/plain": [
       "86160"
      ]
     },
     "execution_count": 203,
     "metadata": {},
     "output_type": "execute_result"
    }
   ],
   "source": [
    "diff.seconds"
   ]
  },
  {
   "cell_type": "code",
   "execution_count": null,
   "id": "8cd0e8aa-6b1f-48f0-8158-5b00fb3b2d00",
   "metadata": {},
   "outputs": [],
   "source": []
  },
  {
   "cell_type": "code",
   "execution_count": null,
   "id": "637a6c4e-bb0b-4c1e-ab28-090ea1e783b6",
   "metadata": {},
   "outputs": [],
   "source": []
  },
  {
   "cell_type": "code",
   "execution_count": null,
   "id": "588e39ab-102c-4892-9d79-0ebf89c00c96",
   "metadata": {},
   "outputs": [],
   "source": []
  },
  {
   "cell_type": "code",
   "execution_count": 204,
   "id": "6d90844f-5c8f-47d2-ae05-5ce49a8072f6",
   "metadata": {},
   "outputs": [],
   "source": [
    "import math"
   ]
  },
  {
   "cell_type": "code",
   "execution_count": 205,
   "id": "0f49d16e-5f9b-4d38-8b7d-d07a5a9b4243",
   "metadata": {},
   "outputs": [
    {
     "name": "stdout",
     "output_type": "stream",
     "text": [
      "Help on built-in module math:\n",
      "\n",
      "NAME\n",
      "    math\n",
      "\n",
      "DESCRIPTION\n",
      "    This module provides access to the mathematical functions\n",
      "    defined by the C standard.\n",
      "\n",
      "FUNCTIONS\n",
      "    acos(x, /)\n",
      "        Return the arc cosine (measured in radians) of x.\n",
      "        \n",
      "        The result is between 0 and pi.\n",
      "    \n",
      "    acosh(x, /)\n",
      "        Return the inverse hyperbolic cosine of x.\n",
      "    \n",
      "    asin(x, /)\n",
      "        Return the arc sine (measured in radians) of x.\n",
      "        \n",
      "        The result is between -pi/2 and pi/2.\n",
      "    \n",
      "    asinh(x, /)\n",
      "        Return the inverse hyperbolic sine of x.\n",
      "    \n",
      "    atan(x, /)\n",
      "        Return the arc tangent (measured in radians) of x.\n",
      "        \n",
      "        The result is between -pi/2 and pi/2.\n",
      "    \n",
      "    atan2(y, x, /)\n",
      "        Return the arc tangent (measured in radians) of y/x.\n",
      "        \n",
      "        Unlike atan(y/x), the signs of both x and y are considered.\n",
      "    \n",
      "    atanh(x, /)\n",
      "        Return the inverse hyperbolic tangent of x.\n",
      "    \n",
      "    cbrt(x, /)\n",
      "        Return the cube root of x.\n",
      "    \n",
      "    ceil(x, /)\n",
      "        Return the ceiling of x as an Integral.\n",
      "        \n",
      "        This is the smallest integer >= x.\n",
      "    \n",
      "    comb(n, k, /)\n",
      "        Number of ways to choose k items from n items without repetition and without order.\n",
      "        \n",
      "        Evaluates to n! / (k! * (n - k)!) when k <= n and evaluates\n",
      "        to zero when k > n.\n",
      "        \n",
      "        Also called the binomial coefficient because it is equivalent\n",
      "        to the coefficient of k-th term in polynomial expansion of the\n",
      "        expression (1 + x)**n.\n",
      "        \n",
      "        Raises TypeError if either of the arguments are not integers.\n",
      "        Raises ValueError if either of the arguments are negative.\n",
      "    \n",
      "    copysign(x, y, /)\n",
      "        Return a float with the magnitude (absolute value) of x but the sign of y.\n",
      "        \n",
      "        On platforms that support signed zeros, copysign(1.0, -0.0)\n",
      "        returns -1.0.\n",
      "    \n",
      "    cos(x, /)\n",
      "        Return the cosine of x (measured in radians).\n",
      "    \n",
      "    cosh(x, /)\n",
      "        Return the hyperbolic cosine of x.\n",
      "    \n",
      "    degrees(x, /)\n",
      "        Convert angle x from radians to degrees.\n",
      "    \n",
      "    dist(p, q, /)\n",
      "        Return the Euclidean distance between two points p and q.\n",
      "        \n",
      "        The points should be specified as sequences (or iterables) of\n",
      "        coordinates.  Both inputs must have the same dimension.\n",
      "        \n",
      "        Roughly equivalent to:\n",
      "            sqrt(sum((px - qx) ** 2.0 for px, qx in zip(p, q)))\n",
      "    \n",
      "    erf(x, /)\n",
      "        Error function at x.\n",
      "    \n",
      "    erfc(x, /)\n",
      "        Complementary error function at x.\n",
      "    \n",
      "    exp(x, /)\n",
      "        Return e raised to the power of x.\n",
      "    \n",
      "    exp2(x, /)\n",
      "        Return 2 raised to the power of x.\n",
      "    \n",
      "    expm1(x, /)\n",
      "        Return exp(x)-1.\n",
      "        \n",
      "        This function avoids the loss of precision involved in the direct evaluation of exp(x)-1 for small x.\n",
      "    \n",
      "    fabs(x, /)\n",
      "        Return the absolute value of the float x.\n",
      "    \n",
      "    factorial(n, /)\n",
      "        Find n!.\n",
      "        \n",
      "        Raise a ValueError if x is negative or non-integral.\n",
      "    \n",
      "    floor(x, /)\n",
      "        Return the floor of x as an Integral.\n",
      "        \n",
      "        This is the largest integer <= x.\n",
      "    \n",
      "    fmod(x, y, /)\n",
      "        Return fmod(x, y), according to platform C.\n",
      "        \n",
      "        x % y may differ.\n",
      "    \n",
      "    frexp(x, /)\n",
      "        Return the mantissa and exponent of x, as pair (m, e).\n",
      "        \n",
      "        m is a float and e is an int, such that x = m * 2.**e.\n",
      "        If x is 0, m and e are both 0.  Else 0.5 <= abs(m) < 1.0.\n",
      "    \n",
      "    fsum(seq, /)\n",
      "        Return an accurate floating point sum of values in the iterable seq.\n",
      "        \n",
      "        Assumes IEEE-754 floating point arithmetic.\n",
      "    \n",
      "    gamma(x, /)\n",
      "        Gamma function at x.\n",
      "    \n",
      "    gcd(*integers)\n",
      "        Greatest Common Divisor.\n",
      "    \n",
      "    hypot(...)\n",
      "        hypot(*coordinates) -> value\n",
      "        \n",
      "        Multidimensional Euclidean distance from the origin to a point.\n",
      "        \n",
      "        Roughly equivalent to:\n",
      "            sqrt(sum(x**2 for x in coordinates))\n",
      "        \n",
      "        For a two dimensional point (x, y), gives the hypotenuse\n",
      "        using the Pythagorean theorem:  sqrt(x*x + y*y).\n",
      "        \n",
      "        For example, the hypotenuse of a 3/4/5 right triangle is:\n",
      "        \n",
      "            >>> hypot(3.0, 4.0)\n",
      "            5.0\n",
      "    \n",
      "    isclose(a, b, *, rel_tol=1e-09, abs_tol=0.0)\n",
      "        Determine whether two floating point numbers are close in value.\n",
      "        \n",
      "          rel_tol\n",
      "            maximum difference for being considered \"close\", relative to the\n",
      "            magnitude of the input values\n",
      "          abs_tol\n",
      "            maximum difference for being considered \"close\", regardless of the\n",
      "            magnitude of the input values\n",
      "        \n",
      "        Return True if a is close in value to b, and False otherwise.\n",
      "        \n",
      "        For the values to be considered close, the difference between them\n",
      "        must be smaller than at least one of the tolerances.\n",
      "        \n",
      "        -inf, inf and NaN behave similarly to the IEEE 754 Standard.  That\n",
      "        is, NaN is not close to anything, even itself.  inf and -inf are\n",
      "        only close to themselves.\n",
      "    \n",
      "    isfinite(x, /)\n",
      "        Return True if x is neither an infinity nor a NaN, and False otherwise.\n",
      "    \n",
      "    isinf(x, /)\n",
      "        Return True if x is a positive or negative infinity, and False otherwise.\n",
      "    \n",
      "    isnan(x, /)\n",
      "        Return True if x is a NaN (not a number), and False otherwise.\n",
      "    \n",
      "    isqrt(n, /)\n",
      "        Return the integer part of the square root of the input.\n",
      "    \n",
      "    lcm(*integers)\n",
      "        Least Common Multiple.\n",
      "    \n",
      "    ldexp(x, i, /)\n",
      "        Return x * (2**i).\n",
      "        \n",
      "        This is essentially the inverse of frexp().\n",
      "    \n",
      "    lgamma(x, /)\n",
      "        Natural logarithm of absolute value of Gamma function at x.\n",
      "    \n",
      "    log(...)\n",
      "        log(x, [base=math.e])\n",
      "        Return the logarithm of x to the given base.\n",
      "        \n",
      "        If the base not specified, returns the natural logarithm (base e) of x.\n",
      "    \n",
      "    log10(x, /)\n",
      "        Return the base 10 logarithm of x.\n",
      "    \n",
      "    log1p(x, /)\n",
      "        Return the natural logarithm of 1+x (base e).\n",
      "        \n",
      "        The result is computed in a way which is accurate for x near zero.\n",
      "    \n",
      "    log2(x, /)\n",
      "        Return the base 2 logarithm of x.\n",
      "    \n",
      "    modf(x, /)\n",
      "        Return the fractional and integer parts of x.\n",
      "        \n",
      "        Both results carry the sign of x and are floats.\n",
      "    \n",
      "    nextafter(x, y, /)\n",
      "        Return the next floating-point value after x towards y.\n",
      "    \n",
      "    perm(n, k=None, /)\n",
      "        Number of ways to choose k items from n items without repetition and with order.\n",
      "        \n",
      "        Evaluates to n! / (n - k)! when k <= n and evaluates\n",
      "        to zero when k > n.\n",
      "        \n",
      "        If k is not specified or is None, then k defaults to n\n",
      "        and the function returns n!.\n",
      "        \n",
      "        Raises TypeError if either of the arguments are not integers.\n",
      "        Raises ValueError if either of the arguments are negative.\n",
      "    \n",
      "    pow(x, y, /)\n",
      "        Return x**y (x to the power of y).\n",
      "    \n",
      "    prod(iterable, /, *, start=1)\n",
      "        Calculate the product of all the elements in the input iterable.\n",
      "        \n",
      "        The default start value for the product is 1.\n",
      "        \n",
      "        When the iterable is empty, return the start value.  This function is\n",
      "        intended specifically for use with numeric values and may reject\n",
      "        non-numeric types.\n",
      "    \n",
      "    radians(x, /)\n",
      "        Convert angle x from degrees to radians.\n",
      "    \n",
      "    remainder(x, y, /)\n",
      "        Difference between x and the closest integer multiple of y.\n",
      "        \n",
      "        Return x - n*y where n*y is the closest integer multiple of y.\n",
      "        In the case where x is exactly halfway between two multiples of\n",
      "        y, the nearest even value of n is used. The result is always exact.\n",
      "    \n",
      "    sin(x, /)\n",
      "        Return the sine of x (measured in radians).\n",
      "    \n",
      "    sinh(x, /)\n",
      "        Return the hyperbolic sine of x.\n",
      "    \n",
      "    sqrt(x, /)\n",
      "        Return the square root of x.\n",
      "    \n",
      "    tan(x, /)\n",
      "        Return the tangent of x (measured in radians).\n",
      "    \n",
      "    tanh(x, /)\n",
      "        Return the hyperbolic tangent of x.\n",
      "    \n",
      "    trunc(x, /)\n",
      "        Truncates the Real x to the nearest Integral toward 0.\n",
      "        \n",
      "        Uses the __trunc__ magic method.\n",
      "    \n",
      "    ulp(x, /)\n",
      "        Return the value of the least significant bit of the float x.\n",
      "\n",
      "DATA\n",
      "    e = 2.718281828459045\n",
      "    inf = inf\n",
      "    nan = nan\n",
      "    pi = 3.141592653589793\n",
      "    tau = 6.283185307179586\n",
      "\n",
      "FILE\n",
      "    (built-in)\n",
      "\n",
      "\n"
     ]
    }
   ],
   "source": [
    "help(math)"
   ]
  },
  {
   "cell_type": "code",
   "execution_count": 206,
   "id": "5a58586c-2362-41d0-b999-395282b3673a",
   "metadata": {},
   "outputs": [
    {
     "data": {
      "text/plain": [
       "3"
      ]
     },
     "execution_count": 206,
     "metadata": {},
     "output_type": "execute_result"
    }
   ],
   "source": [
    "value = 3.45\n",
    "math.floor(value)"
   ]
  },
  {
   "cell_type": "code",
   "execution_count": 207,
   "id": "9116104d-deae-4c5d-af34-f4edd356bd46",
   "metadata": {},
   "outputs": [
    {
     "data": {
      "text/plain": [
       "4"
      ]
     },
     "execution_count": 207,
     "metadata": {},
     "output_type": "execute_result"
    }
   ],
   "source": [
    "math.ceil(value)"
   ]
  },
  {
   "cell_type": "code",
   "execution_count": 208,
   "id": "5e411cff-8713-47f6-b5cd-cc1bd52eacef",
   "metadata": {},
   "outputs": [
    {
     "data": {
      "text/plain": [
       "4"
      ]
     },
     "execution_count": 208,
     "metadata": {},
     "output_type": "execute_result"
    }
   ],
   "source": [
    "round(4.45)"
   ]
  },
  {
   "cell_type": "code",
   "execution_count": 209,
   "id": "a3492967-a246-4d8a-8bd7-66041f39b9fd",
   "metadata": {},
   "outputs": [
    {
     "data": {
      "text/plain": [
       "5"
      ]
     },
     "execution_count": 209,
     "metadata": {},
     "output_type": "execute_result"
    }
   ],
   "source": [
    "round(4.7)"
   ]
  },
  {
   "cell_type": "code",
   "execution_count": 210,
   "id": "b3ad0ed6-a32a-4678-b935-6e963ea2e345",
   "metadata": {},
   "outputs": [
    {
     "data": {
      "text/plain": [
       "8"
      ]
     },
     "execution_count": 210,
     "metadata": {},
     "output_type": "execute_result"
    }
   ],
   "source": [
    "round(7.5)"
   ]
  },
  {
   "cell_type": "code",
   "execution_count": 211,
   "id": "5fe6ce20-4822-4789-bbda-17c81aea524a",
   "metadata": {},
   "outputs": [
    {
     "data": {
      "text/plain": [
       "4"
      ]
     },
     "execution_count": 211,
     "metadata": {},
     "output_type": "execute_result"
    }
   ],
   "source": [
    "round(3.5)"
   ]
  },
  {
   "cell_type": "code",
   "execution_count": 212,
   "id": "8dc68e8c-6d3d-4345-974a-926b0e893d30",
   "metadata": {},
   "outputs": [
    {
     "data": {
      "text/plain": [
       "6"
      ]
     },
     "execution_count": 212,
     "metadata": {},
     "output_type": "execute_result"
    }
   ],
   "source": [
    "round(6.5)"
   ]
  },
  {
   "cell_type": "code",
   "execution_count": 213,
   "id": "7fa0ae73-26fa-44d0-bc63-16d7eeb1b741",
   "metadata": {},
   "outputs": [
    {
     "data": {
      "text/plain": [
       "3.141592653589793"
      ]
     },
     "execution_count": 213,
     "metadata": {},
     "output_type": "execute_result"
    }
   ],
   "source": [
    "math.pi"
   ]
  },
  {
   "cell_type": "code",
   "execution_count": 214,
   "id": "b03a9724-98bf-4127-a433-793570a12a35",
   "metadata": {},
   "outputs": [
    {
     "data": {
      "text/plain": [
       "2.718281828459045"
      ]
     },
     "execution_count": 214,
     "metadata": {},
     "output_type": "execute_result"
    }
   ],
   "source": [
    "math.e"
   ]
  },
  {
   "cell_type": "code",
   "execution_count": 215,
   "id": "22267417-11c8-488f-820e-3208fc689c1c",
   "metadata": {},
   "outputs": [
    {
     "data": {
      "text/plain": [
       "inf"
      ]
     },
     "execution_count": 215,
     "metadata": {},
     "output_type": "execute_result"
    }
   ],
   "source": [
    "math.inf"
   ]
  },
  {
   "cell_type": "code",
   "execution_count": 216,
   "id": "be180538-5fbf-4a3c-a383-858d54e08d7e",
   "metadata": {},
   "outputs": [
    {
     "data": {
      "text/plain": [
       "nan"
      ]
     },
     "execution_count": 216,
     "metadata": {},
     "output_type": "execute_result"
    }
   ],
   "source": [
    "math.nan"
   ]
  },
  {
   "cell_type": "code",
   "execution_count": null,
   "id": "d0516b61-0dc8-4540-8764-e655b3b3304a",
   "metadata": {},
   "outputs": [],
   "source": []
  },
  {
   "cell_type": "code",
   "execution_count": 217,
   "id": "f17b67ee-eead-44e7-a58b-82acc4c2918f",
   "metadata": {},
   "outputs": [
    {
     "data": {
      "text/plain": [
       "1.0"
      ]
     },
     "execution_count": 217,
     "metadata": {},
     "output_type": "execute_result"
    }
   ],
   "source": [
    "math.log(math.e)"
   ]
  },
  {
   "cell_type": "markdown",
   "id": "dfc0a94f-c8d2-4953-9dad-a19907211dd0",
   "metadata": {},
   "source": [
    "math.log(100,20)"
   ]
  },
  {
   "cell_type": "code",
   "execution_count": 218,
   "id": "d469ca68-bed0-4803-9808-8437b6492038",
   "metadata": {},
   "outputs": [
    {
     "data": {
      "text/plain": [
       "1.537243573680482"
      ]
     },
     "execution_count": 218,
     "metadata": {},
     "output_type": "execute_result"
    }
   ],
   "source": [
    "math.log(100,20)"
   ]
  },
  {
   "cell_type": "code",
   "execution_count": 219,
   "id": "3994871f-f599-467f-aa7a-89a495580e84",
   "metadata": {},
   "outputs": [
    {
     "data": {
      "text/plain": [
       "2.0"
      ]
     },
     "execution_count": 219,
     "metadata": {},
     "output_type": "execute_result"
    }
   ],
   "source": [
    "math.log(100,10)"
   ]
  },
  {
   "cell_type": "code",
   "execution_count": 220,
   "id": "d5d9ce16-aa38-405f-ad8a-48e25e9b4b13",
   "metadata": {},
   "outputs": [
    {
     "data": {
      "text/plain": [
       "1.6197751905438615"
      ]
     },
     "execution_count": 220,
     "metadata": {},
     "output_type": "execute_result"
    }
   ],
   "source": [
    "math.tan(45)"
   ]
  },
  {
   "cell_type": "code",
   "execution_count": 221,
   "id": "f350032c-4c7e-4005-82eb-b6aa721ddf83",
   "metadata": {},
   "outputs": [
    {
     "data": {
      "text/plain": [
       "3.141592653589793"
      ]
     },
     "execution_count": 221,
     "metadata": {},
     "output_type": "execute_result"
    }
   ],
   "source": [
    "math.radians(180)"
   ]
  },
  {
   "cell_type": "code",
   "execution_count": null,
   "id": "15401da1-756c-4096-9586-52e79adcb398",
   "metadata": {},
   "outputs": [],
   "source": []
  },
  {
   "cell_type": "code",
   "execution_count": 222,
   "id": "946c4698-f7de-426e-b63f-ee3646d1fe2d",
   "metadata": {},
   "outputs": [],
   "source": [
    "import random\n"
   ]
  },
  {
   "cell_type": "code",
   "execution_count": 223,
   "id": "5a0ff73a-14eb-45d1-9c71-7fecf2d7d36f",
   "metadata": {},
   "outputs": [
    {
     "data": {
      "text/plain": [
       "65"
      ]
     },
     "execution_count": 223,
     "metadata": {},
     "output_type": "execute_result"
    }
   ],
   "source": [
    "random.randint(0,100)"
   ]
  },
  {
   "cell_type": "code",
   "execution_count": 224,
   "id": "d05ca772-f91f-4fb0-b1ae-c6ca6c6d85e7",
   "metadata": {},
   "outputs": [
    {
     "data": {
      "text/plain": [
       "74"
      ]
     },
     "execution_count": 224,
     "metadata": {},
     "output_type": "execute_result"
    }
   ],
   "source": [
    "random.seed(101)\n",
    "random.randint(0,100)"
   ]
  },
  {
   "cell_type": "code",
   "execution_count": 225,
   "id": "5f8db8a6-ee24-453c-98da-362931d66d2d",
   "metadata": {},
   "outputs": [
    {
     "data": {
      "text/plain": [
       "24"
      ]
     },
     "execution_count": 225,
     "metadata": {},
     "output_type": "execute_result"
    }
   ],
   "source": [
    "random.randint(0,100)"
   ]
  },
  {
   "cell_type": "code",
   "execution_count": 226,
   "id": "593c00f3-1c03-4fc1-8bf1-ecd0b5ce3a8d",
   "metadata": {},
   "outputs": [],
   "source": [
    "random.seed(101)"
   ]
  },
  {
   "cell_type": "code",
   "execution_count": 227,
   "id": "8e25f9b7-8415-448a-8815-e82d507a9c56",
   "metadata": {},
   "outputs": [],
   "source": [
    "mylist = list(range(0,15))"
   ]
  },
  {
   "cell_type": "code",
   "execution_count": 228,
   "id": "8d83a4f5-431d-4881-ad67-1f818a70b5ee",
   "metadata": {},
   "outputs": [
    {
     "data": {
      "text/plain": [
       "[0, 1, 2, 3, 4, 5, 6, 7, 8, 9, 10, 11, 12, 13, 14]"
      ]
     },
     "execution_count": 228,
     "metadata": {},
     "output_type": "execute_result"
    }
   ],
   "source": [
    "mylist"
   ]
  },
  {
   "cell_type": "code",
   "execution_count": 229,
   "id": "e151b879-1ffc-49c5-a240-674d7bc07a01",
   "metadata": {},
   "outputs": [
    {
     "data": {
      "text/plain": [
       "9"
      ]
     },
     "execution_count": 229,
     "metadata": {},
     "output_type": "execute_result"
    }
   ],
   "source": [
    "random.choice(mylist)"
   ]
  },
  {
   "cell_type": "code",
   "execution_count": 230,
   "id": "3767271a-9747-4966-8b2c-905a8414f12c",
   "metadata": {},
   "outputs": [
    {
     "data": {
      "text/plain": [
       "[0, 1, 2, 3, 4, 5, 6, 7, 8, 9, 10, 11, 12, 13, 14]"
      ]
     },
     "execution_count": 230,
     "metadata": {},
     "output_type": "execute_result"
    }
   ],
   "source": [
    "mylist"
   ]
  },
  {
   "cell_type": "code",
   "execution_count": 231,
   "id": "76ba9bff-091b-41e0-9eda-8a9e663943b8",
   "metadata": {},
   "outputs": [],
   "source": [
    "#SAMPLE WITH REPLACEMENT"
   ]
  },
  {
   "cell_type": "code",
   "execution_count": 232,
   "id": "29000c4f-ee47-4b96-af0d-927801ee5598",
   "metadata": {},
   "outputs": [
    {
     "data": {
      "text/plain": [
       "[12, 13, 8, 5, 0, 7, 9, 13, 7, 11]"
      ]
     },
     "execution_count": 232,
     "metadata": {},
     "output_type": "execute_result"
    }
   ],
   "source": [
    "random.choices(population = mylist,k=10)"
   ]
  },
  {
   "cell_type": "code",
   "execution_count": 233,
   "id": "74bd9c4e-35eb-409c-b8a7-5a502ea6882e",
   "metadata": {},
   "outputs": [
    {
     "data": {
      "text/plain": [
       "[5, 7, 1, 4, 3]"
      ]
     },
     "execution_count": 233,
     "metadata": {},
     "output_type": "execute_result"
    }
   ],
   "source": [
    "random.sample(population = mylist,k=5)"
   ]
  },
  {
   "cell_type": "code",
   "execution_count": 234,
   "id": "3a248186-50cd-4b4f-89fb-d75947753516",
   "metadata": {},
   "outputs": [
    {
     "data": {
      "text/plain": [
       "[6, 14, 0, 4, 9, 11, 13, 10, 12, 3, 5, 8, 7, 1, 2]"
      ]
     },
     "execution_count": 234,
     "metadata": {},
     "output_type": "execute_result"
    }
   ],
   "source": [
    "random.shuffle(mylist)\n",
    "mylist"
   ]
  },
  {
   "cell_type": "code",
   "execution_count": 235,
   "id": "8e63d235-10b7-4b40-a98c-95cedeb5060a",
   "metadata": {},
   "outputs": [
    {
     "data": {
      "text/plain": [
       "5.441232291919936"
      ]
     },
     "execution_count": 235,
     "metadata": {},
     "output_type": "execute_result"
    }
   ],
   "source": [
    "random.uniform(a=2,b=10)"
   ]
  },
  {
   "cell_type": "code",
   "execution_count": 236,
   "id": "62e4a899-c61f-4e33-b1ad-b20ff30cfc93",
   "metadata": {},
   "outputs": [
    {
     "data": {
      "text/plain": [
       "-0.16212556348991483"
      ]
     },
     "execution_count": 236,
     "metadata": {},
     "output_type": "execute_result"
    }
   ],
   "source": [
    "random.gauss(mu=0,sigma=1)"
   ]
  },
  {
   "cell_type": "code",
   "execution_count": null,
   "id": "aa3c3079-70ca-49c3-bcd6-4eb01607081b",
   "metadata": {},
   "outputs": [],
   "source": []
  },
  {
   "cell_type": "code",
   "execution_count": null,
   "id": "0e602927-d40e-4877-bf61-e391868b945d",
   "metadata": {},
   "outputs": [],
   "source": []
  },
  {
   "cell_type": "code",
   "execution_count": 237,
   "id": "dcac61a5-b970-464e-b503-c00ae7b8c22a",
   "metadata": {},
   "outputs": [],
   "source": [
    "#python Debugger"
   ]
  },
  {
   "cell_type": "code",
   "execution_count": 238,
   "id": "d00f4905-2182-4cdf-97be-8ea6f082d3d0",
   "metadata": {},
   "outputs": [
    {
     "name": "stdout",
     "output_type": "stream",
     "text": [
      "4\n"
     ]
    },
    {
     "ename": "TypeError",
     "evalue": "can only concatenate list (not \"int\") to list",
     "output_type": "error",
     "traceback": [
      "\u001b[1;31m---------------------------------------------------------------------------\u001b[0m",
      "\u001b[1;31mTypeError\u001b[0m                                 Traceback (most recent call last)",
      "Cell \u001b[1;32mIn[238], line 7\u001b[0m\n\u001b[0;32m      5\u001b[0m res \u001b[38;5;241m=\u001b[39m y\u001b[38;5;241m+\u001b[39mz\n\u001b[0;32m      6\u001b[0m \u001b[38;5;28mprint\u001b[39m(res)\n\u001b[1;32m----> 7\u001b[0m res2 \u001b[38;5;241m=\u001b[39m x\u001b[38;5;241m+\u001b[39my\n\u001b[0;32m      8\u001b[0m \u001b[38;5;28mprint\u001b[39m(res2)\n",
      "\u001b[1;31mTypeError\u001b[0m: can only concatenate list (not \"int\") to list"
     ]
    }
   ],
   "source": [
    "x=[1,2,3]\n",
    "y=2\n",
    "z=2\n",
    "\n",
    "res = y+z\n",
    "print(res)\n",
    "res2 = x+y\n",
    "print(res2)\n"
   ]
  },
  {
   "cell_type": "code",
   "execution_count": null,
   "id": "1dc0e247-b1a7-400f-9df1-f85c5934ff46",
   "metadata": {},
   "outputs": [],
   "source": []
  },
  {
   "cell_type": "code",
   "execution_count": 239,
   "id": "8fcb9160-de39-4b98-8a09-8253327fae8d",
   "metadata": {},
   "outputs": [],
   "source": [
    "import pdb"
   ]
  },
  {
   "cell_type": "code",
   "execution_count": 240,
   "id": "64b7888f-a1b0-42f4-bf1f-8715bef5ac42",
   "metadata": {},
   "outputs": [],
   "source": [
    "x=[1,2,3]\n",
    "y=2\n",
    "z=2"
   ]
  },
  {
   "cell_type": "code",
   "execution_count": 241,
   "id": "ca15912a-ee1e-45de-ad24-f62e8807187d",
   "metadata": {},
   "outputs": [
    {
     "name": "stdout",
     "output_type": "stream",
     "text": [
      "4\n"
     ]
    }
   ],
   "source": [
    "r1 = y+z\n",
    "print(r1)"
   ]
  },
  {
   "cell_type": "code",
   "execution_count": 242,
   "id": "a925bbe1-6a71-42f0-a539-07af3939a4ca",
   "metadata": {},
   "outputs": [
    {
     "name": "stdout",
     "output_type": "stream",
     "text": [
      "--Return--\n",
      "None\n",
      "> \u001b[1;32mc:\\users\\bindhubp\\appdata\\local\\temp\\ipykernel_6604\\2572134230.py\u001b[0m(1)\u001b[0;36m<module>\u001b[1;34m()\u001b[0m\n",
      "\n"
     ]
    },
    {
     "name": "stdin",
     "output_type": "stream",
     "text": [
      "ipdb>  r1\n"
     ]
    },
    {
     "name": "stdout",
     "output_type": "stream",
     "text": [
      "4\n"
     ]
    },
    {
     "name": "stdin",
     "output_type": "stream",
     "text": [
      "ipdb>  x\n"
     ]
    },
    {
     "name": "stdout",
     "output_type": "stream",
     "text": [
      "[1, 2, 3]\n"
     ]
    },
    {
     "name": "stdin",
     "output_type": "stream",
     "text": [
      "ipdb>  y\n"
     ]
    },
    {
     "name": "stdout",
     "output_type": "stream",
     "text": [
      "2\n"
     ]
    },
    {
     "name": "stdin",
     "output_type": "stream",
     "text": [
      "ipdb>  re\n"
     ]
    },
    {
     "name": "stdout",
     "output_type": "stream",
     "text": [
      "<module 're' from 'C:\\\\Users\\\\BindhuBP\\\\anaconda3\\\\Lib\\\\re\\\\__init__.py'>\n"
     ]
    },
    {
     "name": "stdin",
     "output_type": "stream",
     "text": [
      "ipdb>  r2\n"
     ]
    },
    {
     "name": "stdout",
     "output_type": "stream",
     "text": [
      "*** NameError: name 'r2' is not defined\n"
     ]
    },
    {
     "name": "stdin",
     "output_type": "stream",
     "text": [
      "ipdb>  q\n"
     ]
    }
   ],
   "source": [
    "pdb.set_trace()\n",
    "r2 = x+y\n",
    "print(r2)"
   ]
  },
  {
   "cell_type": "code",
   "execution_count": null,
   "id": "204524aa-adfc-4f0a-a4d9-7e6ecac01329",
   "metadata": {},
   "outputs": [],
   "source": []
  },
  {
   "cell_type": "code",
   "execution_count": null,
   "id": "7a0093b9-7289-490c-8f96-f5527434e2db",
   "metadata": {},
   "outputs": [],
   "source": []
  },
  {
   "cell_type": "code",
   "execution_count": 270,
   "id": "de3ee4a7-68b9-40d8-9984-f0a69d9bffbb",
   "metadata": {},
   "outputs": [],
   "source": [
    "import re"
   ]
  },
  {
   "cell_type": "code",
   "execution_count": 271,
   "id": "d74b7cdd-b427-485b-8fce-19d80be3aa5f",
   "metadata": {},
   "outputs": [
    {
     "data": {
      "text/plain": [
       "True"
      ]
     },
     "execution_count": 271,
     "metadata": {},
     "output_type": "execute_result"
    }
   ],
   "source": [
    "text = \"Customer's phone numbr is 455-456-8989. call soon\"\n",
    "'phone' in text"
   ]
  },
  {
   "cell_type": "code",
   "execution_count": 272,
   "id": "8fb5142a-3253-4761-bb2d-932f10c80439",
   "metadata": {},
   "outputs": [],
   "source": [
    "pattern = 'phone'"
   ]
  },
  {
   "cell_type": "code",
   "execution_count": 273,
   "id": "22b655db-a849-4560-afa3-01c621f7c1ff",
   "metadata": {},
   "outputs": [
    {
     "data": {
      "text/plain": [
       "<re.Match object; span=(11, 16), match='phone'>"
      ]
     },
     "execution_count": 273,
     "metadata": {},
     "output_type": "execute_result"
    }
   ],
   "source": [
    "re.search(pattern,text)"
   ]
  },
  {
   "cell_type": "code",
   "execution_count": 274,
   "id": "1c0eeb86-84ef-47c1-9498-66a318d50a2a",
   "metadata": {},
   "outputs": [],
   "source": [
    "pattern = 'Not in text'"
   ]
  },
  {
   "cell_type": "raw",
   "id": "c779e5cf-8885-4ac7-baff-0998caa85107",
   "metadata": {},
   "source": [
    "re.search(pattern,text)"
   ]
  },
  {
   "cell_type": "code",
   "execution_count": 275,
   "id": "618276d2-20b5-460b-866a-0e294c5be033",
   "metadata": {},
   "outputs": [],
   "source": [
    "pattern = 'phone'"
   ]
  },
  {
   "cell_type": "code",
   "execution_count": 276,
   "id": "67d69090-8efa-46d8-b336-f5adc4602dcd",
   "metadata": {},
   "outputs": [
    {
     "data": {
      "text/plain": [
       "<re.Match object; span=(11, 16), match='phone'>"
      ]
     },
     "execution_count": 276,
     "metadata": {},
     "output_type": "execute_result"
    }
   ],
   "source": [
    "match = re.search(pattern,text)\n",
    "match"
   ]
  },
  {
   "cell_type": "code",
   "execution_count": 277,
   "id": "a4e53744-ee56-401b-8e17-5abc4543d8f3",
   "metadata": {},
   "outputs": [
    {
     "data": {
      "text/plain": [
       "(11, 16)"
      ]
     },
     "execution_count": 277,
     "metadata": {},
     "output_type": "execute_result"
    }
   ],
   "source": [
    "match.span()"
   ]
  },
  {
   "cell_type": "code",
   "execution_count": 278,
   "id": "ddc79342-4185-4544-bcc5-c54f5f0f4263",
   "metadata": {},
   "outputs": [
    {
     "data": {
      "text/plain": [
       "11"
      ]
     },
     "execution_count": 278,
     "metadata": {},
     "output_type": "execute_result"
    }
   ],
   "source": [
    "match.start()"
   ]
  },
  {
   "cell_type": "code",
   "execution_count": 279,
   "id": "4d1efb08-4699-48ad-bf29-a51e6504c237",
   "metadata": {},
   "outputs": [
    {
     "data": {
      "text/plain": [
       "16"
      ]
     },
     "execution_count": 279,
     "metadata": {},
     "output_type": "execute_result"
    }
   ],
   "source": [
    "match.end()"
   ]
  },
  {
   "cell_type": "code",
   "execution_count": 280,
   "id": "1b49ec08-9374-47f9-9134-3a47d7192a21",
   "metadata": {},
   "outputs": [
    {
     "data": {
      "text/plain": [
       "<re.Match object; span=(3, 8), match='phone'>"
      ]
     },
     "execution_count": 280,
     "metadata": {},
     "output_type": "execute_result"
    }
   ],
   "source": [
    "text = \"my phone once, my phone twice\"\n",
    "re.search('phone',text)"
   ]
  },
  {
   "cell_type": "code",
   "execution_count": 281,
   "id": "d21ae32b-7bd9-4730-9161-1f17500c313a",
   "metadata": {},
   "outputs": [
    {
     "data": {
      "text/plain": [
       "['phone', 'phone']"
      ]
     },
     "execution_count": 281,
     "metadata": {},
     "output_type": "execute_result"
    }
   ],
   "source": [
    "re.findall('phone',text)"
   ]
  },
  {
   "cell_type": "code",
   "execution_count": 282,
   "id": "cdcdd6a4-fe06-4a48-b94a-4f5536fd1530",
   "metadata": {},
   "outputs": [
    {
     "name": "stdout",
     "output_type": "stream",
     "text": [
      "phone\n",
      "<re.Match object; span=(3, 8), match='phone'>\n",
      "(3, 8)\n",
      "phone\n",
      "<re.Match object; span=(18, 23), match='phone'>\n",
      "(18, 23)\n"
     ]
    }
   ],
   "source": [
    "for i in re.finditer('phone',text):\n",
    "    print(i.group())\n",
    "    print(i)\n",
    "    print(i.span())"
   ]
  },
  {
   "cell_type": "code",
   "execution_count": 285,
   "id": "674844a6-d628-4440-9d78-0f1d186fff7c",
   "metadata": {},
   "outputs": [],
   "source": [
    "text = \"phone number is 897-454-4567\"\n",
    "phone = re.search(r'\\d\\d\\d-\\d\\d\\d-\\d\\d\\d\\d',text)"
   ]
  },
  {
   "cell_type": "code",
   "execution_count": 286,
   "id": "c7f99992-bb4a-4d0a-9798-6e8fb9f0b620",
   "metadata": {},
   "outputs": [
    {
     "data": {
      "text/plain": [
       "<re.Match object; span=(16, 28), match='897-454-4567'>"
      ]
     },
     "execution_count": 286,
     "metadata": {},
     "output_type": "execute_result"
    }
   ],
   "source": [
    "phone"
   ]
  },
  {
   "cell_type": "code",
   "execution_count": 288,
   "id": "f239ebf1-fd44-46e3-8875-c091ae02b09c",
   "metadata": {},
   "outputs": [
    {
     "data": {
      "text/plain": [
       "'897-454-4567'"
      ]
     },
     "execution_count": 288,
     "metadata": {},
     "output_type": "execute_result"
    }
   ],
   "source": [
    "phone.group()"
   ]
  },
  {
   "cell_type": "code",
   "execution_count": 289,
   "id": "2db078fe-a1b9-49de-aeb4-680fd8c24d89",
   "metadata": {},
   "outputs": [],
   "source": [
    "text = \"phone number is 897-454-4567\"\n",
    "phone = re.search(r'\\d{3}-\\d{3}-\\d{4}',text)"
   ]
  },
  {
   "cell_type": "code",
   "execution_count": 290,
   "id": "277b157d-2984-4f5c-903a-6a97167efb15",
   "metadata": {},
   "outputs": [
    {
     "data": {
      "text/plain": [
       "<re.Match object; span=(16, 28), match='897-454-4567'>"
      ]
     },
     "execution_count": 290,
     "metadata": {},
     "output_type": "execute_result"
    }
   ],
   "source": [
    "phone"
   ]
  },
  {
   "cell_type": "code",
   "execution_count": 291,
   "id": "aa1bf585-b981-4661-96c3-e1616bf9291e",
   "metadata": {},
   "outputs": [
    {
     "data": {
      "text/plain": [
       "'897-454-4567'"
      ]
     },
     "execution_count": 291,
     "metadata": {},
     "output_type": "execute_result"
    }
   ],
   "source": [
    "phone.group()"
   ]
  },
  {
   "cell_type": "code",
   "execution_count": 293,
   "id": "bc64bbb1-9cf6-42ff-8dcd-5a88dc2da6c8",
   "metadata": {},
   "outputs": [],
   "source": [
    "phone_pattern = re.compile(r'(\\d{3})-(\\d{3})-(\\d{4})')"
   ]
  },
  {
   "cell_type": "code",
   "execution_count": 296,
   "id": "eeb4f066-332f-4526-975b-c2c23245987f",
   "metadata": {},
   "outputs": [],
   "source": [
    "match = re.search(phone_pattern,text)"
   ]
  },
  {
   "cell_type": "code",
   "execution_count": 297,
   "id": "7657e84b-f1e5-4a7e-82ce-d9341449781d",
   "metadata": {},
   "outputs": [
    {
     "data": {
      "text/plain": [
       "'897'"
      ]
     },
     "execution_count": 297,
     "metadata": {},
     "output_type": "execute_result"
    }
   ],
   "source": [
    "match.group(1)"
   ]
  },
  {
   "cell_type": "markdown",
   "id": "8e0511a1-42d9-49d9-aca7-e276abb9b316",
   "metadata": {},
   "source": [
    "match.group(2)"
   ]
  },
  {
   "cell_type": "code",
   "execution_count": 298,
   "id": "076b55dd-8ee2-4b77-9ef6-2f8d1f8c6ae9",
   "metadata": {},
   "outputs": [
    {
     "data": {
      "text/plain": [
       "'454'"
      ]
     },
     "execution_count": 298,
     "metadata": {},
     "output_type": "execute_result"
    }
   ],
   "source": [
    "match.group(2)"
   ]
  },
  {
   "cell_type": "code",
   "execution_count": 299,
   "id": "1ad94f86-8690-4233-939f-132447efef0c",
   "metadata": {},
   "outputs": [
    {
     "data": {
      "text/plain": [
       "'4567'"
      ]
     },
     "execution_count": 299,
     "metadata": {},
     "output_type": "execute_result"
    }
   ],
   "source": [
    "match.group(3)"
   ]
  },
  {
   "cell_type": "code",
   "execution_count": 300,
   "id": "61bc6e45-0335-4bd7-9645-ecfdca573376",
   "metadata": {},
   "outputs": [
    {
     "ename": "IndexError",
     "evalue": "no such group",
     "output_type": "error",
     "traceback": [
      "\u001b[1;31m---------------------------------------------------------------------------\u001b[0m",
      "\u001b[1;31mIndexError\u001b[0m                                Traceback (most recent call last)",
      "Cell \u001b[1;32mIn[300], line 1\u001b[0m\n\u001b[1;32m----> 1\u001b[0m \u001b[38;5;28;01mmatch\u001b[39;00m\u001b[38;5;241m.\u001b[39mgroup(\u001b[38;5;241m4\u001b[39m)\n",
      "\u001b[1;31mIndexError\u001b[0m: no such group"
     ]
    }
   ],
   "source": [
    "match.group(4)"
   ]
  },
  {
   "cell_type": "code",
   "execution_count": null,
   "id": "e284536c-0036-48b7-ab3c-f944f2f3ae6c",
   "metadata": {},
   "outputs": [],
   "source": []
  },
  {
   "cell_type": "code",
   "execution_count": 309,
   "id": "0ca52c06-6486-42bb-aad0-d75b082e3253",
   "metadata": {},
   "outputs": [
    {
     "data": {
      "text/plain": [
       "<re.Match object; span=(4, 8), match='Cat '>"
      ]
     },
     "execution_count": 309,
     "metadata": {},
     "output_type": "execute_result"
    }
   ],
   "source": [
    "#search for multiplr pattern\n",
    "\n",
    "re.search(r'Cat | Dog',\"The Cat and Dog is Here\")"
   ]
  },
  {
   "cell_type": "code",
   "execution_count": 312,
   "id": "6e6deb0f-7b89-4035-ae8f-e481935eda3d",
   "metadata": {},
   "outputs": [
    {
     "data": {
      "text/plain": [
       "['cat', 'hat', 'sat']"
      ]
     },
     "execution_count": 312,
     "metadata": {},
     "output_type": "execute_result"
    }
   ],
   "source": [
    "re.findall(r'.at',\"he cat with hat sat under tree\")"
   ]
  },
  {
   "cell_type": "code",
   "execution_count": 315,
   "id": "8753a945-e40e-435a-b9ac-9275b0b585eb",
   "metadata": {},
   "outputs": [
    {
     "data": {
      "text/plain": [
       "['1']"
      ]
     },
     "execution_count": 315,
     "metadata": {},
     "output_type": "execute_result"
    }
   ],
   "source": [
    "re.findall(r'^\\d',\"1 is a number\") # Check for startswith(^)"
   ]
  },
  {
   "cell_type": "code",
   "execution_count": 316,
   "id": "a53f1e86-02a9-452d-916f-b2c69c5cfee6",
   "metadata": {},
   "outputs": [
    {
     "data": {
      "text/plain": [
       "['2']"
      ]
     },
     "execution_count": 316,
     "metadata": {},
     "output_type": "execute_result"
    }
   ],
   "source": [
    "re.findall(r'\\d$',\"1 is a number 2\") # Check for endswith($)"
   ]
  },
  {
   "cell_type": "code",
   "execution_count": 325,
   "id": "e02506e1-b736-4b74-8c4e-a611402958e6",
   "metadata": {},
   "outputs": [],
   "source": [
    "p = \"There are 3 numbers 34 inside 5 this sentance\""
   ]
  },
  {
   "cell_type": "code",
   "execution_count": 329,
   "id": "df5e8d03-623d-433e-b3b1-2aa2e7359581",
   "metadata": {},
   "outputs": [
    {
     "data": {
      "text/plain": [
       "['T',\n",
       " 'h',\n",
       " 'e',\n",
       " 'r',\n",
       " 'e',\n",
       " ' ',\n",
       " 'a',\n",
       " 'r',\n",
       " 'e',\n",
       " ' ',\n",
       " ' ',\n",
       " 'n',\n",
       " 'u',\n",
       " 'm',\n",
       " 'b',\n",
       " 'e',\n",
       " 'r',\n",
       " 's',\n",
       " ' ',\n",
       " ' ',\n",
       " 'i',\n",
       " 'n',\n",
       " 's',\n",
       " 'i',\n",
       " 'd',\n",
       " 'e',\n",
       " ' ',\n",
       " ' ',\n",
       " 't',\n",
       " 'h',\n",
       " 'i',\n",
       " 's',\n",
       " ' ',\n",
       " 's',\n",
       " 'e',\n",
       " 'n',\n",
       " 't',\n",
       " 'a',\n",
       " 'n',\n",
       " 'c',\n",
       " 'e']"
      ]
     },
     "execution_count": 329,
     "metadata": {},
     "output_type": "execute_result"
    }
   ],
   "source": [
    "pat = r'[^\\d]'\n",
    "re.findall(pat,p)"
   ]
  },
  {
   "cell_type": "code",
   "execution_count": 332,
   "id": "26d4ee38-a007-4f06-b329-5affa54912a3",
   "metadata": {},
   "outputs": [],
   "source": [
    "test_phrase = \"this is a string! but it has a punctuation. how to remove this?\""
   ]
  },
  {
   "cell_type": "code",
   "execution_count": 337,
   "id": "26cdbb8f-fc1e-4a34-95bb-c0ad1f9a2894",
   "metadata": {},
   "outputs": [],
   "source": [
    "c = re.findall(r'[^!.? ]+',test_phrase)"
   ]
  },
  {
   "cell_type": "code",
   "execution_count": 338,
   "id": "99ef5a85-b9bf-4c9a-bcc8-f2f1bd5690b8",
   "metadata": {},
   "outputs": [
    {
     "data": {
      "text/plain": [
       "'this is a string but it has a punctuation how to remove this'"
      ]
     },
     "execution_count": 338,
     "metadata": {},
     "output_type": "execute_result"
    }
   ],
   "source": [
    "' '.join(c)"
   ]
  },
  {
   "cell_type": "code",
   "execution_count": 348,
   "id": "6721d1cc-14b0-4f37-bb1d-0e048a12e61e",
   "metadata": {},
   "outputs": [],
   "source": [
    "text= \"only find hypen-words in this sentence,but you dont know how long-ish they are\""
   ]
  },
  {
   "cell_type": "code",
   "execution_count": 349,
   "id": "5373f88d-c8ee-4d50-aade-0298a146b1e0",
   "metadata": {},
   "outputs": [
    {
     "data": {
      "text/plain": [
       "['hypen-words', 'long-ish']"
      ]
     },
     "execution_count": 349,
     "metadata": {},
     "output_type": "execute_result"
    }
   ],
   "source": [
    "p = r'[\\w]+-[\\w]+'\n",
    "re.findall(p,text)"
   ]
  },
  {
   "cell_type": "code",
   "execution_count": null,
   "id": "746da584-25c0-4036-818c-a48bcb5b7f95",
   "metadata": {},
   "outputs": [],
   "source": []
  },
  {
   "cell_type": "code",
   "execution_count": 353,
   "id": "2b4b758d-645b-452b-9ac5-46bb7639631e",
   "metadata": {},
   "outputs": [
    {
     "data": {
      "text/plain": [
       "['0', '1', '2', '3', '4', '5', '6', '7', '8', '9', '10', '11']"
      ]
     },
     "execution_count": 353,
     "metadata": {},
     "output_type": "execute_result"
    }
   ],
   "source": [
    "def fun(n):\n",
    "    return [str(num) for num in range(n)]\n",
    "fun(12)"
   ]
  },
  {
   "cell_type": "code",
   "execution_count": 355,
   "id": "61d1ade0-f04a-4a4e-95cb-9f112fd1432f",
   "metadata": {},
   "outputs": [],
   "source": [
    "def func(n):\n",
    "    return list(map(str,range(n)))"
   ]
  },
  {
   "cell_type": "code",
   "execution_count": 365,
   "id": "565cad6b-5639-4661-8d9d-c879a450c846",
   "metadata": {},
   "outputs": [
    {
     "data": {
      "text/plain": [
       "['0', '1', '2', '3', '4', '5', '6', '7', '8', '9', '10', '11']"
      ]
     },
     "execution_count": 365,
     "metadata": {},
     "output_type": "execute_result"
    }
   ],
   "source": [
    "func(12)"
   ]
  },
  {
   "cell_type": "code",
   "execution_count": 366,
   "id": "f7753ecc-4a12-4bbc-98c9-3cbbadf2952e",
   "metadata": {},
   "outputs": [
    {
     "name": "stdout",
     "output_type": "stream",
     "text": [
      "0.03272104263305664\n"
     ]
    }
   ],
   "source": [
    "import time\n",
    "#Current time\n",
    "start_time = time.time()\n",
    "#run code\n",
    "res = fun(100000)\n",
    "#Current time after running code\n",
    "end_time = time.time()\n",
    "#Elapsed time\n",
    "elapsed_time = end_time-start_time\n",
    "print(elapsed_time)"
   ]
  },
  {
   "cell_type": "code",
   "execution_count": 367,
   "id": "442e5c22-9b06-4eac-8134-6011015c4726",
   "metadata": {},
   "outputs": [
    {
     "name": "stdout",
     "output_type": "stream",
     "text": [
      "0.0371088981628418\n"
     ]
    }
   ],
   "source": [
    "#Current time\n",
    "start_time = time.time()\n",
    "#run code\n",
    "res = func(100000)\n",
    "#Current time after running code\n",
    "end_time = time.time()\n",
    "#Elapsed time\n",
    "elapsed_time = end_time-start_time\n",
    "print(elapsed_time)"
   ]
  },
  {
   "cell_type": "code",
   "execution_count": 368,
   "id": "43617255-551c-45bc-abd3-f3007096c33a",
   "metadata": {},
   "outputs": [],
   "source": [
    "import timeit"
   ]
  },
  {
   "cell_type": "code",
   "execution_count": 369,
   "id": "addfab4b-e8fe-4ecf-b7b6-5878be2e31c4",
   "metadata": {},
   "outputs": [
    {
     "data": {
      "text/plain": [
       "0.04296359996078536"
      ]
     },
     "execution_count": 369,
     "metadata": {},
     "output_type": "execute_result"
    }
   ],
   "source": [
    "timeit.timeit()"
   ]
  },
  {
   "cell_type": "code",
   "execution_count": 370,
   "id": "bdf006a3-9ed5-4c12-b449-5e94defd9e2b",
   "metadata": {},
   "outputs": [],
   "source": [
    "stmt = '''\n",
    "fun(234)\n",
    "'''\n",
    "\n",
    "setup = '''\n",
    "def fun(n):\n",
    "    return [str(num) for num in range(n)]\n",
    "'''"
   ]
  },
  {
   "cell_type": "code",
   "execution_count": 374,
   "id": "2298a40f-64ff-4bd7-a325-f084ddd9bcb9",
   "metadata": {},
   "outputs": [
    {
     "data": {
      "text/plain": [
       "4.941302900027949"
      ]
     },
     "execution_count": 374,
     "metadata": {},
     "output_type": "execute_result"
    }
   ],
   "source": [
    "timeit.timeit(stmt,setup,number = 100000)"
   ]
  },
  {
   "cell_type": "code",
   "execution_count": 377,
   "id": "c6aa745e-f23d-4b0d-ae16-30e9986abd6e",
   "metadata": {},
   "outputs": [],
   "source": [
    "stmt = '''\n",
    "fun2(234)\n",
    "'''\n",
    "\n",
    "setup = '''\n",
    "def fun2(n):\n",
    "    return [str(num) for num in range(n)]\n",
    "'''"
   ]
  },
  {
   "cell_type": "code",
   "execution_count": 378,
   "id": "4e8dc68b-883b-4a58-a362-155abf265b01",
   "metadata": {},
   "outputs": [
    {
     "data": {
      "text/plain": [
       "3.5371027000364847"
      ]
     },
     "execution_count": 378,
     "metadata": {},
     "output_type": "execute_result"
    }
   ],
   "source": [
    "timeit.timeit(stmt,setup,number = 100000)"
   ]
  },
  {
   "cell_type": "code",
   "execution_count": null,
   "id": "827c0c25-fcf6-418e-a52f-71c867707cc6",
   "metadata": {},
   "outputs": [],
   "source": []
  },
  {
   "cell_type": "code",
   "execution_count": 396,
   "id": "cd443b99-eb7a-4778-83c2-0e90c70e8b23",
   "metadata": {},
   "outputs": [],
   "source": [
    "f = open('file1.txt','w+')\n",
    "f.write(\"This is a file 1\")\n",
    "f.close()"
   ]
  },
  {
   "cell_type": "code",
   "execution_count": 397,
   "id": "a4d8c373-8212-4153-a222-5dde8f79cf3b",
   "metadata": {},
   "outputs": [],
   "source": [
    "\n",
    "f2 = open('file2.txt','w+')\n",
    "f2.write(\"This is a file 1\")\n",
    "f2.close()"
   ]
  },
  {
   "cell_type": "code",
   "execution_count": 398,
   "id": "b97e5905-033c-4b6b-8182-e0b46651e0f7",
   "metadata": {},
   "outputs": [],
   "source": [
    "import zipfile\n",
    "\n",
    "comp_file = zipfile.ZipFile('com_file.zip','w')"
   ]
  },
  {
   "cell_type": "code",
   "execution_count": 399,
   "id": "de915ca8-4895-4d90-b665-2c82d464e624",
   "metadata": {},
   "outputs": [],
   "source": [
    "comp_file.write('file1.txt',compress_type=zipfile.ZIP_DEFLATED)"
   ]
  },
  {
   "cell_type": "code",
   "execution_count": 400,
   "id": "cb28ed6e-65c3-4599-9955-7e222df57812",
   "metadata": {},
   "outputs": [],
   "source": [
    "comp_file.write('file2.txt',compress_type=zipfile.ZIP_DEFLATED)"
   ]
  },
  {
   "cell_type": "code",
   "execution_count": 401,
   "id": "bb5dbd84-14c0-45b4-9369-a6ff3816299b",
   "metadata": {},
   "outputs": [],
   "source": [
    "zip_obj = zipfile.ZipFile('com_file.zip','r')"
   ]
  },
  {
   "cell_type": "code",
   "execution_count": 402,
   "id": "92be12a5-16fe-42b7-bf05-0fb4223a6f2b",
   "metadata": {},
   "outputs": [],
   "source": [
    "zip_obj.extractall('extracted_content')"
   ]
  },
  {
   "cell_type": "code",
   "execution_count": 403,
   "id": "457b6bfe-1c1c-4be5-8b58-1ab997e57b16",
   "metadata": {},
   "outputs": [
    {
     "data": {
      "text/plain": [
       "'C:\\\\Users\\\\BindhuBP\\\\MyPython'"
      ]
     },
     "execution_count": 403,
     "metadata": {},
     "output_type": "execute_result"
    }
   ],
   "source": [
    "pwd"
   ]
  },
  {
   "cell_type": "code",
   "execution_count": 404,
   "id": "b626b8eb-acc5-4606-91ed-0da546099e83",
   "metadata": {},
   "outputs": [],
   "source": [
    "import shutil"
   ]
  },
  {
   "cell_type": "code",
   "execution_count": 405,
   "id": "58c978ae-f7b2-49d8-b993-a590ecb3d32d",
   "metadata": {},
   "outputs": [],
   "source": [
    "dir_to_zip = 'C:\\\\Users\\\\BindhuBP\\\\MyPython\\\\extracted_content'\n"
   ]
  },
  {
   "cell_type": "code",
   "execution_count": 406,
   "id": "1c83d101-e559-45d6-bb7c-6aaf4bf3a2e8",
   "metadata": {},
   "outputs": [],
   "source": [
    "op_fileName = 'example'"
   ]
  },
  {
   "cell_type": "code",
   "execution_count": 407,
   "id": "f65d0729-40b0-489d-abc1-165ddaa9e51f",
   "metadata": {},
   "outputs": [
    {
     "data": {
      "text/plain": [
       "'C:\\\\Users\\\\BindhuBP\\\\MyPython\\\\example.zip'"
      ]
     },
     "execution_count": 407,
     "metadata": {},
     "output_type": "execute_result"
    }
   ],
   "source": [
    "shutil.make_archive(op_fileName,'zip',dir_to_zip)"
   ]
  },
  {
   "cell_type": "code",
   "execution_count": 408,
   "id": "5cdcbddb-87cd-485b-a49e-794b3db18a3c",
   "metadata": {},
   "outputs": [],
   "source": [
    "shutil.unpack_archive('example.zip','final_unzip','zip')"
   ]
  },
  {
   "cell_type": "code",
   "execution_count": null,
   "id": "f7f2ad60-f594-4d4c-ad46-95cff7c91c6b",
   "metadata": {},
   "outputs": [],
   "source": []
  }
 ],
 "metadata": {
  "kernelspec": {
   "display_name": "Python 3 (ipykernel)",
   "language": "python",
   "name": "python3"
  },
  "language_info": {
   "codemirror_mode": {
    "name": "ipython",
    "version": 3
   },
   "file_extension": ".py",
   "mimetype": "text/x-python",
   "name": "python",
   "nbconvert_exporter": "python",
   "pygments_lexer": "ipython3",
   "version": "3.11.7"
  }
 },
 "nbformat": 4,
 "nbformat_minor": 5
}
